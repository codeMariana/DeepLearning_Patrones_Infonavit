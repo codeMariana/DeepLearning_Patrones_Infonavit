{
 "cells": [
  {
   "cell_type": "markdown",
   "id": "b4294109",
   "metadata": {},
   "source": [
    "# Modelos"
   ]
  },
  {
   "cell_type": "code",
   "execution_count": 1,
   "id": "bf70c116",
   "metadata": {},
   "outputs": [],
   "source": [
    "import numpy as np\n",
    "import pandas as pd\n",
    "import matplotlib.pyplot as plt\n",
    "import os\n",
    "from sklearn.model_selection import train_test_split"
   ]
  },
  {
   "cell_type": "code",
   "execution_count": 2,
   "id": "40418ea8",
   "metadata": {},
   "outputs": [
    {
     "data": {
      "text/plain": [
       "'/home/mariana/Documents/TESIS_MS/DeepLearning_Patrones_Infonavit/notebooks'"
      ]
     },
     "execution_count": 2,
     "metadata": {},
     "output_type": "execute_result"
    }
   ],
   "source": [
    "os.getcwd()"
   ]
  },
  {
   "cell_type": "markdown",
   "id": "f5038192",
   "metadata": {},
   "source": [
    "# Section 0: dataset"
   ]
  },
  {
   "cell_type": "code",
   "execution_count": 3,
   "id": "ec8b9508",
   "metadata": {},
   "outputs": [
    {
     "data": {
      "text/plain": [
       "(11914, 3)"
      ]
     },
     "execution_count": 3,
     "metadata": {},
     "output_type": "execute_result"
    }
   ],
   "source": [
    "emb_pon = pd.read_pickle(r'/home/mariana/Documents/TESIS_MS/DeepLearning_Patrones_Infonavit/data/embeddings_ponderados.pkl')\n",
    "emb_pon.shape"
   ]
  },
  {
   "cell_type": "code",
   "execution_count": 4,
   "id": "4ebdef0a",
   "metadata": {},
   "outputs": [],
   "source": [
    "cols_x=['trabajador', 'vector_ponderado']\n",
    "X=emb_pon[cols_x]\n",
    "cols_y=['trabajador', 'cluster']\n",
    "y=emb_pon[cols_y]"
   ]
  },
  {
   "cell_type": "code",
   "execution_count": 5,
   "id": "39efd01b",
   "metadata": {},
   "outputs": [],
   "source": [
    "X_train, X_test, y_train, y_test = train_test_split(X, y, test_size=0.1, random_state=11)"
   ]
  },
  {
   "cell_type": "code",
   "execution_count": 6,
   "id": "8e816a4a",
   "metadata": {},
   "outputs": [
    {
     "data": {
      "text/html": [
       "<div>\n",
       "<style scoped>\n",
       "    .dataframe tbody tr th:only-of-type {\n",
       "        vertical-align: middle;\n",
       "    }\n",
       "\n",
       "    .dataframe tbody tr th {\n",
       "        vertical-align: top;\n",
       "    }\n",
       "\n",
       "    .dataframe thead th {\n",
       "        text-align: right;\n",
       "    }\n",
       "</style>\n",
       "<table border=\"1\" class=\"dataframe\">\n",
       "  <thead>\n",
       "    <tr style=\"text-align: right;\">\n",
       "      <th></th>\n",
       "      <th>trabajador</th>\n",
       "      <th>vector_ponderado</th>\n",
       "    </tr>\n",
       "  </thead>\n",
       "  <tbody>\n",
       "    <tr>\n",
       "      <th>880</th>\n",
       "      <td>7539419</td>\n",
       "      <td>[[-0.037535205, -0.008436216, 0.022153012, -0....</td>\n",
       "    </tr>\n",
       "    <tr>\n",
       "      <th>7915</th>\n",
       "      <td>226311125</td>\n",
       "      <td>[[-0.016506683, 0.018259881, 0.05996791, 0.027...</td>\n",
       "    </tr>\n",
       "    <tr>\n",
       "      <th>5506</th>\n",
       "      <td>222624345</td>\n",
       "      <td>[[0.1800068, 0.100774996, -0.1102987, -0.00544...</td>\n",
       "    </tr>\n",
       "    <tr>\n",
       "      <th>7984</th>\n",
       "      <td>226354354</td>\n",
       "      <td>[[0.014875209, 0.03093428, 0.05197988, 0.00258...</td>\n",
       "    </tr>\n",
       "    <tr>\n",
       "      <th>6344</th>\n",
       "      <td>224429718</td>\n",
       "      <td>[[-0.041090507, -0.011688829, 0.0007811433, 0....</td>\n",
       "    </tr>\n",
       "    <tr>\n",
       "      <th>...</th>\n",
       "      <td>...</td>\n",
       "      <td>...</td>\n",
       "    </tr>\n",
       "    <tr>\n",
       "      <th>4023</th>\n",
       "      <td>221470018</td>\n",
       "      <td>[[-0.015261798, 0.07784064, -0.008496352, -0.0...</td>\n",
       "    </tr>\n",
       "    <tr>\n",
       "      <th>7259</th>\n",
       "      <td>224791669</td>\n",
       "      <td>[[0.0064960336, -0.006351467, 0.0001315577, 0....</td>\n",
       "    </tr>\n",
       "    <tr>\n",
       "      <th>5200</th>\n",
       "      <td>222311489</td>\n",
       "      <td>[[0.19620241, 0.031737555, -0.017359838, -0.01...</td>\n",
       "    </tr>\n",
       "    <tr>\n",
       "      <th>3775</th>\n",
       "      <td>221231504</td>\n",
       "      <td>[[-0.048305348, 0.07261606, 0.06711876, -0.029...</td>\n",
       "    </tr>\n",
       "    <tr>\n",
       "      <th>10137</th>\n",
       "      <td>229342651</td>\n",
       "      <td>[[-0.031530965, -0.011706721, 0.03887329, -0.0...</td>\n",
       "    </tr>\n",
       "  </tbody>\n",
       "</table>\n",
       "<p>10722 rows × 2 columns</p>\n",
       "</div>"
      ],
      "text/plain": [
       "      trabajador                                   vector_ponderado\n",
       "880      7539419  [[-0.037535205, -0.008436216, 0.022153012, -0....\n",
       "7915   226311125  [[-0.016506683, 0.018259881, 0.05996791, 0.027...\n",
       "5506   222624345  [[0.1800068, 0.100774996, -0.1102987, -0.00544...\n",
       "7984   226354354  [[0.014875209, 0.03093428, 0.05197988, 0.00258...\n",
       "6344   224429718  [[-0.041090507, -0.011688829, 0.0007811433, 0....\n",
       "...          ...                                                ...\n",
       "4023   221470018  [[-0.015261798, 0.07784064, -0.008496352, -0.0...\n",
       "7259   224791669  [[0.0064960336, -0.006351467, 0.0001315577, 0....\n",
       "5200   222311489  [[0.19620241, 0.031737555, -0.017359838, -0.01...\n",
       "3775   221231504  [[-0.048305348, 0.07261606, 0.06711876, -0.029...\n",
       "10137  229342651  [[-0.031530965, -0.011706721, 0.03887329, -0.0...\n",
       "\n",
       "[10722 rows x 2 columns]"
      ]
     },
     "execution_count": 6,
     "metadata": {},
     "output_type": "execute_result"
    }
   ],
   "source": [
    "X_train"
   ]
  },
  {
   "cell_type": "code",
   "execution_count": 7,
   "id": "f0b6d689",
   "metadata": {},
   "outputs": [
    {
     "name": "stdout",
     "output_type": "stream",
     "text": [
      "(10722, 2)\n",
      "(10722, 2)\n",
      "(1192, 2)\n",
      "(1192, 2)\n"
     ]
    }
   ],
   "source": [
    "print(X_train.shape)\n",
    "print(y_train.shape)\n",
    "print(X_test.shape)\n",
    "print(y_test.shape)"
   ]
  },
  {
   "cell_type": "code",
   "execution_count": 8,
   "id": "6d95755f",
   "metadata": {},
   "outputs": [],
   "source": [
    "X_test.to_csv('/home/mariana/Documents/TESIS_MS/DeepLearning_Patrones_Infonavit/data/df_test_pond.csv')  "
   ]
  },
  {
   "cell_type": "code",
   "execution_count": 8,
   "id": "7597cd1f",
   "metadata": {},
   "outputs": [
    {
     "data": {
      "text/html": [
       "<div>\n",
       "<style scoped>\n",
       "    .dataframe tbody tr th:only-of-type {\n",
       "        vertical-align: middle;\n",
       "    }\n",
       "\n",
       "    .dataframe tbody tr th {\n",
       "        vertical-align: top;\n",
       "    }\n",
       "\n",
       "    .dataframe thead th {\n",
       "        text-align: right;\n",
       "    }\n",
       "</style>\n",
       "<table border=\"1\" class=\"dataframe\">\n",
       "  <thead>\n",
       "    <tr style=\"text-align: right;\">\n",
       "      <th></th>\n",
       "      <th>trabajador</th>\n",
       "      <th>vector_ponderado</th>\n",
       "    </tr>\n",
       "  </thead>\n",
       "  <tbody>\n",
       "    <tr>\n",
       "      <th>8428</th>\n",
       "      <td>226730087</td>\n",
       "      <td>[[0.009989219, -0.017696738, 0.016274152, 0.00...</td>\n",
       "    </tr>\n",
       "    <tr>\n",
       "      <th>11661</th>\n",
       "      <td>230415427</td>\n",
       "      <td>[[0.02171662, -0.022568546, -0.01570976, -0.02...</td>\n",
       "    </tr>\n",
       "    <tr>\n",
       "      <th>4001</th>\n",
       "      <td>221452603</td>\n",
       "      <td>[[-0.11690142, -0.009922943, -0.028768778, 0.0...</td>\n",
       "    </tr>\n",
       "    <tr>\n",
       "      <th>2904</th>\n",
       "      <td>69261105</td>\n",
       "      <td>[[0.077872515, 0.053891666, -0.24415869, -0.09...</td>\n",
       "    </tr>\n",
       "    <tr>\n",
       "      <th>11722</th>\n",
       "      <td>230422998</td>\n",
       "      <td>[[-0.016170425, -0.003847118, 0.009104313, 0.0...</td>\n",
       "    </tr>\n",
       "    <tr>\n",
       "      <th>...</th>\n",
       "      <td>...</td>\n",
       "      <td>...</td>\n",
       "    </tr>\n",
       "    <tr>\n",
       "      <th>2630</th>\n",
       "      <td>69156412</td>\n",
       "      <td>[[-0.05085626, 0.043203, 0.05229876, 0.0107666...</td>\n",
       "    </tr>\n",
       "    <tr>\n",
       "      <th>10155</th>\n",
       "      <td>229370411</td>\n",
       "      <td>[[0.009077634, 0.039996695, 0.06657322, 0.0058...</td>\n",
       "    </tr>\n",
       "    <tr>\n",
       "      <th>3887</th>\n",
       "      <td>221328405</td>\n",
       "      <td>[[0.064717524, 0.01880022, 0.05265964, -0.0068...</td>\n",
       "    </tr>\n",
       "    <tr>\n",
       "      <th>6670</th>\n",
       "      <td>224602874</td>\n",
       "      <td>[[-0.029570578, -0.0012330536, 0.011599244, 0....</td>\n",
       "    </tr>\n",
       "    <tr>\n",
       "      <th>6065</th>\n",
       "      <td>224267593</td>\n",
       "      <td>[[0.09576804, 0.0695832, 0.08887367, 1.1427328...</td>\n",
       "    </tr>\n",
       "  </tbody>\n",
       "</table>\n",
       "<p>1192 rows × 2 columns</p>\n",
       "</div>"
      ],
      "text/plain": [
       "      trabajador                                   vector_ponderado\n",
       "8428   226730087  [[0.009989219, -0.017696738, 0.016274152, 0.00...\n",
       "11661  230415427  [[0.02171662, -0.022568546, -0.01570976, -0.02...\n",
       "4001   221452603  [[-0.11690142, -0.009922943, -0.028768778, 0.0...\n",
       "2904    69261105  [[0.077872515, 0.053891666, -0.24415869, -0.09...\n",
       "11722  230422998  [[-0.016170425, -0.003847118, 0.009104313, 0.0...\n",
       "...          ...                                                ...\n",
       "2630    69156412  [[-0.05085626, 0.043203, 0.05229876, 0.0107666...\n",
       "10155  229370411  [[0.009077634, 0.039996695, 0.06657322, 0.0058...\n",
       "3887   221328405  [[0.064717524, 0.01880022, 0.05265964, -0.0068...\n",
       "6670   224602874  [[-0.029570578, -0.0012330536, 0.011599244, 0....\n",
       "6065   224267593  [[0.09576804, 0.0695832, 0.08887367, 1.1427328...\n",
       "\n",
       "[1192 rows x 2 columns]"
      ]
     },
     "execution_count": 8,
     "metadata": {},
     "output_type": "execute_result"
    }
   ],
   "source": [
    "X_test"
   ]
  },
  {
   "cell_type": "code",
   "execution_count": 9,
   "id": "9fe832b5",
   "metadata": {},
   "outputs": [
    {
     "data": {
      "text/plain": [
       "(214452, 3)"
      ]
     },
     "execution_count": 9,
     "metadata": {},
     "output_type": "execute_result"
    }
   ],
   "source": [
    "emb_preg= pd.read_pickle(r'/home/mariana/Documents/TESIS_MS/DeepLearning_Patrones_Infonavit/data/embeddings_pregunta.pkl')\n",
    "emb_preg.shape"
   ]
  },
  {
   "cell_type": "code",
   "execution_count": 10,
   "id": "cdcb73c9",
   "metadata": {},
   "outputs": [],
   "source": [
    "cols_x=['trabajador', 'rows']\n",
    "X1=emb_preg[cols_x]\n",
    "cols_y=['trabajador', 'cluster']\n",
    "y1=emb_preg[cols_y]"
   ]
  },
  {
   "cell_type": "code",
   "execution_count": 11,
   "id": "f8b70ade",
   "metadata": {},
   "outputs": [],
   "source": [
    "X1_train, X1_test, y1_train, y1_test = train_test_split(X1, y1, test_size=0.1, random_state=11)"
   ]
  },
  {
   "cell_type": "code",
   "execution_count": 12,
   "id": "6c3f770a",
   "metadata": {},
   "outputs": [
    {
     "data": {
      "text/html": [
       "<div>\n",
       "<style scoped>\n",
       "    .dataframe tbody tr th:only-of-type {\n",
       "        vertical-align: middle;\n",
       "    }\n",
       "\n",
       "    .dataframe tbody tr th {\n",
       "        vertical-align: top;\n",
       "    }\n",
       "\n",
       "    .dataframe thead th {\n",
       "        text-align: right;\n",
       "    }\n",
       "</style>\n",
       "<table border=\"1\" class=\"dataframe\">\n",
       "  <thead>\n",
       "    <tr style=\"text-align: right;\">\n",
       "      <th></th>\n",
       "      <th>trabajador</th>\n",
       "      <th>rows</th>\n",
       "    </tr>\n",
       "  </thead>\n",
       "  <tbody>\n",
       "    <tr>\n",
       "      <th>25707</th>\n",
       "      <td>7546547</td>\n",
       "      <td>[[0.013036218471825123, -0.005430428311228752,...</td>\n",
       "    </tr>\n",
       "    <tr>\n",
       "      <th>78814</th>\n",
       "      <td>221605168</td>\n",
       "      <td>[[0.0, 0.0, 0.0, 0.0, 0.0, 0.0, 0.0, 0.0, 0.0,...</td>\n",
       "    </tr>\n",
       "    <tr>\n",
       "      <th>83411</th>\n",
       "      <td>221793641</td>\n",
       "      <td>[[0.2145978957414627, 0.29017874598503113, -0....</td>\n",
       "    </tr>\n",
       "    <tr>\n",
       "      <th>192815</th>\n",
       "      <td>229984493</td>\n",
       "      <td>[[0.2145978957414627, 0.29017874598503113, -0....</td>\n",
       "    </tr>\n",
       "    <tr>\n",
       "      <th>19851</th>\n",
       "      <td>7542603</td>\n",
       "      <td>[[0.0, 0.0, 0.0, 0.0, 0.0, 0.0, 0.0, 0.0, 0.0,...</td>\n",
       "    </tr>\n",
       "    <tr>\n",
       "      <th>...</th>\n",
       "      <td>...</td>\n",
       "      <td>...</td>\n",
       "    </tr>\n",
       "    <tr>\n",
       "      <th>168292</th>\n",
       "      <td>227297052</td>\n",
       "      <td>[[0.0, 0.0, 0.0, 0.0, 0.0, 0.0, 0.0, 0.0, 0.0,...</td>\n",
       "    </tr>\n",
       "    <tr>\n",
       "      <th>185721</th>\n",
       "      <td>229586241</td>\n",
       "      <td>[[0.16104117035865784, 0.24619978666305542, 0....</td>\n",
       "    </tr>\n",
       "    <tr>\n",
       "      <th>204291</th>\n",
       "      <td>230218664</td>\n",
       "      <td>[[0.0, 0.0, 0.0, 0.0, 0.0, 0.0, 0.0, 0.0, 0.0,...</td>\n",
       "    </tr>\n",
       "    <tr>\n",
       "      <th>34349</th>\n",
       "      <td>68588226</td>\n",
       "      <td>[[-0.04584771767258644, 0.015893828123807907, ...</td>\n",
       "    </tr>\n",
       "    <tr>\n",
       "      <th>92194</th>\n",
       "      <td>222262271</td>\n",
       "      <td>[[0.0, 0.0, 0.0, 0.0, 0.0, 0.0, 0.0, 0.0, 0.0,...</td>\n",
       "    </tr>\n",
       "  </tbody>\n",
       "</table>\n",
       "<p>21446 rows × 2 columns</p>\n",
       "</div>"
      ],
      "text/plain": [
       "       trabajador                                               rows\n",
       "25707     7546547  [[0.013036218471825123, -0.005430428311228752,...\n",
       "78814   221605168  [[0.0, 0.0, 0.0, 0.0, 0.0, 0.0, 0.0, 0.0, 0.0,...\n",
       "83411   221793641  [[0.2145978957414627, 0.29017874598503113, -0....\n",
       "192815  229984493  [[0.2145978957414627, 0.29017874598503113, -0....\n",
       "19851     7542603  [[0.0, 0.0, 0.0, 0.0, 0.0, 0.0, 0.0, 0.0, 0.0,...\n",
       "...           ...                                                ...\n",
       "168292  227297052  [[0.0, 0.0, 0.0, 0.0, 0.0, 0.0, 0.0, 0.0, 0.0,...\n",
       "185721  229586241  [[0.16104117035865784, 0.24619978666305542, 0....\n",
       "204291  230218664  [[0.0, 0.0, 0.0, 0.0, 0.0, 0.0, 0.0, 0.0, 0.0,...\n",
       "34349    68588226  [[-0.04584771767258644, 0.015893828123807907, ...\n",
       "92194   222262271  [[0.0, 0.0, 0.0, 0.0, 0.0, 0.0, 0.0, 0.0, 0.0,...\n",
       "\n",
       "[21446 rows x 2 columns]"
      ]
     },
     "execution_count": 12,
     "metadata": {},
     "output_type": "execute_result"
    }
   ],
   "source": [
    "X1_test"
   ]
  },
  {
   "cell_type": "code",
   "execution_count": 13,
   "id": "fc0b91ce",
   "metadata": {},
   "outputs": [
    {
     "name": "stdout",
     "output_type": "stream",
     "text": [
      "(193006, 2)\n",
      "(193006, 2)\n",
      "(21446, 2)\n",
      "(21446, 2)\n"
     ]
    }
   ],
   "source": [
    "print(X1_train.shape)\n",
    "print(y1_train.shape)\n",
    "print(X1_test.shape)\n",
    "print(y1_test.shape)"
   ]
  },
  {
   "cell_type": "code",
   "execution_count": 14,
   "id": "d3ed8828",
   "metadata": {},
   "outputs": [],
   "source": [
    "X1_test.to_csv('/home/mariana/Documents/TESIS_MS/DeepLearning_Patrones_Infonavit/data/df_test_preg.csv')  "
   ]
  },
  {
   "cell_type": "code",
   "execution_count": 16,
   "id": "eb2a052e",
   "metadata": {},
   "outputs": [
    {
     "data": {
      "text/plain": [
       "<StringArray>\n",
       "['3', '6', '7', '0', '1', '2', '4', '5']\n",
       "Length: 8, dtype: string"
      ]
     },
     "execution_count": 16,
     "metadata": {},
     "output_type": "execute_result"
    }
   ],
   "source": [
    "emb_preg.cluster.unique()"
   ]
  },
  {
   "cell_type": "markdown",
   "id": "beedf90b",
   "metadata": {},
   "source": [
    "# Section 1: MLP - fully connected"
   ]
  },
  {
   "cell_type": "code",
   "execution_count": 14,
   "id": "c9c78d47",
   "metadata": {},
   "outputs": [],
   "source": [
    "import tensorflow as tf\n",
    "from tensorflow.keras.models import Sequential\n",
    "from tensorflow.keras.layers import Input, Dense, Dropout\n",
    "from tensorflow.keras.regularizers import l2"
   ]
  },
  {
   "cell_type": "code",
   "execution_count": 148,
   "id": "1206514b",
   "metadata": {},
   "outputs": [
    {
     "name": "stdout",
     "output_type": "stream",
     "text": [
      "(10722, 30, 128)\n",
      "(10722, 3840)\n"
     ]
    }
   ],
   "source": [
    "# Put input data into vector format for training MLP\n",
    "X = np.array(X_train['vector_ponderado'].to_list())\n",
    "print(X.shape)\n",
    "\n",
    "X = X.reshape((len(X), -1))\n",
    "print(X.shape)"
   ]
  },
  {
   "cell_type": "code",
   "execution_count": 149,
   "id": "e73b513c",
   "metadata": {},
   "outputs": [
    {
     "data": {
      "text/plain": [
       "True"
      ]
     },
     "execution_count": 149,
     "metadata": {},
     "output_type": "execute_result"
    }
   ],
   "source": [
    "np.any(np.isnan(X))"
   ]
  },
  {
   "cell_type": "code",
   "execution_count": 150,
   "id": "c9519e15",
   "metadata": {},
   "outputs": [],
   "source": [
    "X=np.nan_to_num(X)"
   ]
  },
  {
   "cell_type": "code",
   "execution_count": 151,
   "id": "842fc795",
   "metadata": {},
   "outputs": [
    {
     "data": {
      "text/plain": [
       "False"
      ]
     },
     "execution_count": 151,
     "metadata": {},
     "output_type": "execute_result"
    }
   ],
   "source": [
    "np.any(np.isnan(X))"
   ]
  },
  {
   "cell_type": "code",
   "execution_count": 134,
   "id": "ea48503e",
   "metadata": {},
   "outputs": [
    {
     "name": "stdout",
     "output_type": "stream",
     "text": [
      "['3' '3' '1' ... '7' '7' '3']\n",
      "tf.Tensor(\n",
      "[[0. 0. 0. ... 0. 0. 0.]\n",
      " [0. 0. 0. ... 0. 0. 0.]\n",
      " [0. 1. 0. ... 0. 0. 0.]\n",
      " ...\n",
      " [0. 0. 0. ... 0. 0. 1.]\n",
      " [0. 0. 0. ... 0. 0. 1.]\n",
      " [0. 0. 0. ... 0. 0. 0.]], shape=(10722, 8), dtype=float32)\n"
     ]
    }
   ],
   "source": [
    "# Put output data into vector format for training MLP\n",
    "y = y_train['cluster'].to_numpy()\n",
    "print(y)\n",
    "\n",
    "y = tf.one_hot(y, depth=8)\n",
    "print(y)"
   ]
  },
  {
   "cell_type": "code",
   "execution_count": 135,
   "id": "ac6e9c86",
   "metadata": {},
   "outputs": [
    {
     "name": "stdout",
     "output_type": "stream",
     "text": [
      "(193006, 30, 128)\n",
      "(193006, 3840)\n"
     ]
    }
   ],
   "source": [
    "# Put input data into vector format for training MLP\n",
    "X1 = np.array(X1_train['rows'].to_list())\n",
    "print(X1.shape)\n",
    "\n",
    "X1= X1.reshape((len(X1), -1))\n",
    "print(X1.shape)"
   ]
  },
  {
   "cell_type": "code",
   "execution_count": 136,
   "id": "4017f420",
   "metadata": {},
   "outputs": [
    {
     "data": {
      "text/plain": [
       "False"
      ]
     },
     "execution_count": 136,
     "metadata": {},
     "output_type": "execute_result"
    }
   ],
   "source": [
    "np.any(np.isnan(X1))"
   ]
  },
  {
   "cell_type": "code",
   "execution_count": 137,
   "id": "be700e87",
   "metadata": {},
   "outputs": [
    {
     "name": "stdout",
     "output_type": "stream",
     "text": [
      "['3' '3' '7' ... '6' '4' '3']\n",
      "tf.Tensor(\n",
      "[[0. 0. 0. ... 0. 0. 0.]\n",
      " [0. 0. 0. ... 0. 0. 0.]\n",
      " [0. 0. 0. ... 0. 0. 1.]\n",
      " ...\n",
      " [0. 0. 0. ... 0. 1. 0.]\n",
      " [0. 0. 0. ... 0. 0. 0.]\n",
      " [0. 0. 0. ... 0. 0. 0.]], shape=(193006, 8), dtype=float32)\n"
     ]
    }
   ],
   "source": [
    "# Put output data into vector format for training MLP\n",
    "y1 = y1_train['cluster'].to_numpy()\n",
    "print(y1)\n",
    "\n",
    "y1 = tf.one_hot(y1, depth=8)\n",
    "print(y1)"
   ]
  },
  {
   "cell_type": "code",
   "execution_count": 138,
   "id": "6e5be580",
   "metadata": {},
   "outputs": [
    {
     "name": "stdout",
     "output_type": "stream",
     "text": [
      "Model: \"sequential_18\"\n",
      "_________________________________________________________________\n",
      "Layer (type)                 Output Shape              Param #   \n",
      "=================================================================\n",
      "dense_63 (Dense)             (None, 512)               1966592   \n",
      "_________________________________________________________________\n",
      "dropout_14 (Dropout)         (None, 512)               0         \n",
      "_________________________________________________________________\n",
      "dense_64 (Dense)             (None, 512)               262656    \n",
      "_________________________________________________________________\n",
      "dense_65 (Dense)             (None, 128)               65664     \n",
      "_________________________________________________________________\n",
      "dense_66 (Dense)             (None, 32)                4128      \n",
      "_________________________________________________________________\n",
      "dense_67 (Dense)             (None, 8)                 264       \n",
      "=================================================================\n",
      "Total params: 2,299,304\n",
      "Trainable params: 2,299,304\n",
      "Non-trainable params: 0\n",
      "_________________________________________________________________\n"
     ]
    }
   ],
   "source": [
    "# Creat MLP\n",
    "mlp = Sequential([\n",
    "                  Input(shape=(X.shape[1])),\n",
    "                  Dense(512, activation='relu'),\n",
    "                  Dropout(0.5),\n",
    "                  Dense(512, activation='relu',activity_regularizer=l2(0.5)),\n",
    "                  Dense(128, activation='relu'),\n",
    "                  Dense( 32, activation='relu'),\n",
    "                  Dense(y.shape[1], activation='softmax')\n",
    "])\n",
    "\n",
    "mlp.summary()"
   ]
  },
  {
   "cell_type": "code",
   "execution_count": 189,
   "id": "944ecc55",
   "metadata": {},
   "outputs": [
    {
     "name": "stdout",
     "output_type": "stream",
     "text": [
      "Model: \"sequential_23\"\n",
      "_________________________________________________________________\n",
      "Layer (type)                 Output Shape              Param #   \n",
      "=================================================================\n",
      "dense_88 (Dense)             (None, 512)               1966592   \n",
      "_________________________________________________________________\n",
      "dropout_17 (Dropout)         (None, 512)               0         \n",
      "_________________________________________________________________\n",
      "dense_89 (Dense)             (None, 128)               65664     \n",
      "_________________________________________________________________\n",
      "dense_90 (Dense)             (None, 32)                4128      \n",
      "_________________________________________________________________\n",
      "dense_91 (Dense)             (None, 8)                 264       \n",
      "=================================================================\n",
      "Total params: 2,036,648\n",
      "Trainable params: 2,036,648\n",
      "Non-trainable params: 0\n",
      "_________________________________________________________________\n"
     ]
    }
   ],
   "source": [
    "# Creat MLP\n",
    "mlp = Sequential([\n",
    "                  Input(shape=(X.shape[1])),\n",
    "                  Dense(512, activation='relu'),\n",
    "                  Dropout(0.5),\n",
    "                  Dense(128, activation='relu'),\n",
    "                  Dense( 32, activation='relu'),\n",
    "                  Dense(y.shape[1], activation='softmax')\n",
    "])\n",
    "\n",
    "mlp.summary()"
   ]
  },
  {
   "cell_type": "code",
   "execution_count": 203,
   "id": "b5e05add",
   "metadata": {},
   "outputs": [
    {
     "name": "stdout",
     "output_type": "stream",
     "text": [
      "Model: \"sequential_24\"\n",
      "_________________________________________________________________\n",
      "Layer (type)                 Output Shape              Param #   \n",
      "=================================================================\n",
      "dense_92 (Dense)             (None, 512)               1966592   \n",
      "_________________________________________________________________\n",
      "dropout_18 (Dropout)         (None, 512)               0         \n",
      "_________________________________________________________________\n",
      "dense_93 (Dense)             (None, 128)               65664     \n",
      "_________________________________________________________________\n",
      "dense_94 (Dense)             (None, 32)                4128      \n",
      "_________________________________________________________________\n",
      "dense_95 (Dense)             (None, 8)                 264       \n",
      "=================================================================\n",
      "Total params: 2,036,648\n",
      "Trainable params: 2,036,648\n",
      "Non-trainable params: 0\n",
      "_________________________________________________________________\n"
     ]
    }
   ],
   "source": [
    "# Creat MLP\n",
    "mlp1 = Sequential([\n",
    "                  Input(shape=(X1.shape[1])),\n",
    "                  Dense(512, activation='relu'),\n",
    "                  Dropout(0.5),\n",
    "                  Dense(128, activation='relu'),\n",
    "                  Dense( 32, activation='relu'),\n",
    "                  Dense(y1.shape[1], activation='softmax')\n",
    "])\n",
    "\n",
    "mlp1.summary()"
   ]
  },
  {
   "cell_type": "code",
   "execution_count": 159,
   "id": "d9f16794",
   "metadata": {},
   "outputs": [
    {
     "name": "stdout",
     "output_type": "stream",
     "text": [
      "Model: \"sequential_20\"\n",
      "_________________________________________________________________\n",
      "Layer (type)                 Output Shape              Param #   \n",
      "=================================================================\n",
      "dense_73 (Dense)             (None, 512)               1966592   \n",
      "_________________________________________________________________\n",
      "dropout_16 (Dropout)         (None, 512)               0         \n",
      "_________________________________________________________________\n",
      "dense_74 (Dense)             (None, 512)               262656    \n",
      "_________________________________________________________________\n",
      "dense_75 (Dense)             (None, 128)               65664     \n",
      "_________________________________________________________________\n",
      "dense_76 (Dense)             (None, 32)                4128      \n",
      "_________________________________________________________________\n",
      "dense_77 (Dense)             (None, 8)                 264       \n",
      "=================================================================\n",
      "Total params: 2,299,304\n",
      "Trainable params: 2,299,304\n",
      "Non-trainable params: 0\n",
      "_________________________________________________________________\n"
     ]
    }
   ],
   "source": [
    "# Creat MLP\n",
    "mlp1 = Sequential([\n",
    "                  Input(shape=(X1.shape[1])),\n",
    "                  Dense(512, activation='relu'),\n",
    "                  Dropout(0.5),\n",
    "                  Dense(512, activation='relu',activity_regularizer=l2(0.5)),\n",
    "                  Dense(128, activation='relu'),\n",
    "                  Dense( 32, activation='relu'),\n",
    "                  Dense(y1.shape[1], activation='softmax')\n",
    "])\n",
    "\n",
    "mlp1.summary()"
   ]
  },
  {
   "cell_type": "code",
   "execution_count": 190,
   "id": "7dd35247",
   "metadata": {},
   "outputs": [],
   "source": [
    "# Define training parameters\n",
    "mlp.compile(optimizer='adam', loss='categorical_crossentropy', metrics='categorical_accuracy')"
   ]
  },
  {
   "cell_type": "code",
   "execution_count": 204,
   "id": "06691136",
   "metadata": {},
   "outputs": [],
   "source": [
    "# Define training parameters\n",
    "mlp1.compile(optimizer='adam', loss='categorical_crossentropy', metrics='categorical_accuracy')"
   ]
  },
  {
   "cell_type": "code",
   "execution_count": 191,
   "id": "c07c2a4c",
   "metadata": {},
   "outputs": [
    {
     "name": "stdout",
     "output_type": "stream",
     "text": [
      "Epoch 1/100\n",
      "302/302 [==============================] - 2s 6ms/step - loss: 1.5652 - categorical_accuracy: 0.3970 - val_loss: 1.3846 - val_categorical_accuracy: 0.4604\n",
      "Epoch 2/100\n",
      "302/302 [==============================] - 2s 5ms/step - loss: 1.4029 - categorical_accuracy: 0.4517 - val_loss: 1.3824 - val_categorical_accuracy: 0.4529\n",
      "Epoch 3/100\n",
      "302/302 [==============================] - 2s 5ms/step - loss: 1.3934 - categorical_accuracy: 0.4570 - val_loss: 1.3658 - val_categorical_accuracy: 0.4762\n",
      "Epoch 4/100\n",
      "302/302 [==============================] - 2s 5ms/step - loss: 1.3735 - categorical_accuracy: 0.4695 - val_loss: 1.3578 - val_categorical_accuracy: 0.4678\n",
      "Epoch 5/100\n",
      "302/302 [==============================] - 2s 5ms/step - loss: 1.3399 - categorical_accuracy: 0.4821 - val_loss: 1.3829 - val_categorical_accuracy: 0.4539\n",
      "Epoch 6/100\n",
      "302/302 [==============================] - 2s 5ms/step - loss: 1.3461 - categorical_accuracy: 0.4693 - val_loss: 1.3502 - val_categorical_accuracy: 0.4660\n",
      "Epoch 7/100\n",
      "302/302 [==============================] - 2s 5ms/step - loss: 1.3014 - categorical_accuracy: 0.4971 - val_loss: 1.3571 - val_categorical_accuracy: 0.4678\n",
      "Epoch 8/100\n",
      "302/302 [==============================] - 2s 5ms/step - loss: 1.3025 - categorical_accuracy: 0.4932 - val_loss: 1.3771 - val_categorical_accuracy: 0.4651\n",
      "Epoch 9/100\n",
      "302/302 [==============================] - 2s 5ms/step - loss: 1.2775 - categorical_accuracy: 0.4932 - val_loss: 1.3655 - val_categorical_accuracy: 0.4678\n",
      "Epoch 10/100\n",
      "302/302 [==============================] - 2s 5ms/step - loss: 1.2521 - categorical_accuracy: 0.5070 - val_loss: 1.3701 - val_categorical_accuracy: 0.4706\n",
      "Epoch 11/100\n",
      "302/302 [==============================] - 2s 5ms/step - loss: 1.2755 - categorical_accuracy: 0.4933 - val_loss: 1.3846 - val_categorical_accuracy: 0.4725\n",
      "Epoch 12/100\n",
      "302/302 [==============================] - 2s 5ms/step - loss: 1.2439 - categorical_accuracy: 0.5102 - val_loss: 1.3936 - val_categorical_accuracy: 0.4893\n",
      "Epoch 13/100\n",
      "302/302 [==============================] - 2s 5ms/step - loss: 1.2139 - categorical_accuracy: 0.5286 - val_loss: 1.3924 - val_categorical_accuracy: 0.4800\n",
      "Epoch 14/100\n",
      "302/302 [==============================] - 2s 5ms/step - loss: 1.2072 - categorical_accuracy: 0.5248 - val_loss: 1.3974 - val_categorical_accuracy: 0.4772\n",
      "Epoch 15/100\n",
      "302/302 [==============================] - 2s 6ms/step - loss: 1.1862 - categorical_accuracy: 0.5403 - val_loss: 1.4204 - val_categorical_accuracy: 0.4678\n",
      "Epoch 16/100\n",
      "302/302 [==============================] - 2s 5ms/step - loss: 1.1925 - categorical_accuracy: 0.5370 - val_loss: 1.4260 - val_categorical_accuracy: 0.4734\n",
      "Epoch 17/100\n",
      "302/302 [==============================] - 2s 5ms/step - loss: 1.1821 - categorical_accuracy: 0.5424 - val_loss: 1.4407 - val_categorical_accuracy: 0.4725\n",
      "Epoch 18/100\n",
      "302/302 [==============================] - 2s 5ms/step - loss: 1.1540 - categorical_accuracy: 0.5490 - val_loss: 1.4141 - val_categorical_accuracy: 0.4893\n",
      "Epoch 19/100\n",
      "302/302 [==============================] - 2s 5ms/step - loss: 1.1550 - categorical_accuracy: 0.5460 - val_loss: 1.4958 - val_categorical_accuracy: 0.4660\n",
      "Epoch 20/100\n",
      "302/302 [==============================] - 2s 5ms/step - loss: 1.1301 - categorical_accuracy: 0.5592 - val_loss: 1.4696 - val_categorical_accuracy: 0.4762\n",
      "Epoch 21/100\n",
      "302/302 [==============================] - 2s 5ms/step - loss: 1.1419 - categorical_accuracy: 0.5501 - val_loss: 1.4721 - val_categorical_accuracy: 0.4800\n",
      "Epoch 22/100\n",
      "302/302 [==============================] - 2s 5ms/step - loss: 1.1367 - categorical_accuracy: 0.5549 - val_loss: 1.4637 - val_categorical_accuracy: 0.4846\n",
      "Epoch 23/100\n",
      "302/302 [==============================] - 2s 5ms/step - loss: 1.0923 - categorical_accuracy: 0.5737 - val_loss: 1.5021 - val_categorical_accuracy: 0.4846\n",
      "Epoch 24/100\n",
      "302/302 [==============================] - 2s 5ms/step - loss: 1.1186 - categorical_accuracy: 0.5625 - val_loss: 1.5173 - val_categorical_accuracy: 0.4697\n",
      "Epoch 25/100\n",
      "302/302 [==============================] - 2s 5ms/step - loss: 1.0935 - categorical_accuracy: 0.5736 - val_loss: 1.5471 - val_categorical_accuracy: 0.4790\n",
      "Epoch 26/100\n",
      "302/302 [==============================] - 2s 5ms/step - loss: 1.0971 - categorical_accuracy: 0.5771 - val_loss: 1.5313 - val_categorical_accuracy: 0.4688\n",
      "Epoch 27/100\n",
      "302/302 [==============================] - 2s 5ms/step - loss: 1.0865 - categorical_accuracy: 0.5807 - val_loss: 1.5553 - val_categorical_accuracy: 0.4781\n",
      "Epoch 28/100\n",
      "302/302 [==============================] - 2s 5ms/step - loss: 1.0517 - categorical_accuracy: 0.5845 - val_loss: 1.5913 - val_categorical_accuracy: 0.4669\n",
      "Epoch 29/100\n",
      "302/302 [==============================] - 2s 5ms/step - loss: 1.0730 - categorical_accuracy: 0.5793 - val_loss: 1.5739 - val_categorical_accuracy: 0.4623\n",
      "Epoch 30/100\n",
      "302/302 [==============================] - 2s 5ms/step - loss: 1.0602 - categorical_accuracy: 0.5937 - val_loss: 1.5833 - val_categorical_accuracy: 0.4697\n",
      "Epoch 31/100\n",
      "302/302 [==============================] - 2s 5ms/step - loss: 1.0491 - categorical_accuracy: 0.5886 - val_loss: 1.6126 - val_categorical_accuracy: 0.4772\n",
      "Epoch 32/100\n",
      "302/302 [==============================] - 2s 5ms/step - loss: 1.0487 - categorical_accuracy: 0.5927 - val_loss: 1.6720 - val_categorical_accuracy: 0.4716\n",
      "Epoch 33/100\n",
      "302/302 [==============================] - 2s 5ms/step - loss: 1.0410 - categorical_accuracy: 0.5888 - val_loss: 1.6296 - val_categorical_accuracy: 0.4678\n",
      "Epoch 34/100\n",
      "302/302 [==============================] - 2s 5ms/step - loss: 1.0354 - categorical_accuracy: 0.5971 - val_loss: 1.6687 - val_categorical_accuracy: 0.4753\n",
      "Epoch 35/100\n",
      "302/302 [==============================] - 2s 5ms/step - loss: 1.0380 - categorical_accuracy: 0.5991 - val_loss: 1.6815 - val_categorical_accuracy: 0.4688\n",
      "Epoch 36/100\n",
      "302/302 [==============================] - 2s 5ms/step - loss: 1.0245 - categorical_accuracy: 0.6020 - val_loss: 1.6897 - val_categorical_accuracy: 0.4772\n",
      "Epoch 37/100\n",
      "302/302 [==============================] - 2s 5ms/step - loss: 1.0185 - categorical_accuracy: 0.6075 - val_loss: 1.7545 - val_categorical_accuracy: 0.4651\n",
      "Epoch 38/100\n",
      "302/302 [==============================] - 2s 5ms/step - loss: 1.0158 - categorical_accuracy: 0.6079 - val_loss: 1.6781 - val_categorical_accuracy: 0.4669\n",
      "Epoch 39/100\n",
      "302/302 [==============================] - 2s 5ms/step - loss: 1.0083 - categorical_accuracy: 0.6065 - val_loss: 1.6691 - val_categorical_accuracy: 0.4781\n",
      "Epoch 40/100\n",
      "302/302 [==============================] - 2s 5ms/step - loss: 0.9955 - categorical_accuracy: 0.6159 - val_loss: 1.7448 - val_categorical_accuracy: 0.4772\n",
      "Epoch 41/100\n",
      "302/302 [==============================] - 2s 5ms/step - loss: 1.0123 - categorical_accuracy: 0.6132 - val_loss: 1.7239 - val_categorical_accuracy: 0.4678\n",
      "Epoch 42/100\n",
      "302/302 [==============================] - 2s 5ms/step - loss: 0.9600 - categorical_accuracy: 0.6330 - val_loss: 1.7845 - val_categorical_accuracy: 0.4539\n",
      "Epoch 43/100\n",
      "302/302 [==============================] - 2s 5ms/step - loss: 0.9868 - categorical_accuracy: 0.6200 - val_loss: 1.7532 - val_categorical_accuracy: 0.4548\n",
      "Epoch 44/100\n",
      "302/302 [==============================] - 2s 5ms/step - loss: 0.9911 - categorical_accuracy: 0.6133 - val_loss: 1.7755 - val_categorical_accuracy: 0.4744\n",
      "Epoch 45/100\n",
      "302/302 [==============================] - 2s 5ms/step - loss: 0.9730 - categorical_accuracy: 0.6275 - val_loss: 1.7847 - val_categorical_accuracy: 0.4567\n",
      "Epoch 46/100\n",
      "302/302 [==============================] - 2s 5ms/step - loss: 0.9844 - categorical_accuracy: 0.6199 - val_loss: 1.7886 - val_categorical_accuracy: 0.4818\n",
      "Epoch 47/100\n",
      "302/302 [==============================] - 2s 5ms/step - loss: 0.9621 - categorical_accuracy: 0.6287 - val_loss: 1.8007 - val_categorical_accuracy: 0.4501\n",
      "Epoch 48/100\n",
      "302/302 [==============================] - 1s 5ms/step - loss: 0.9773 - categorical_accuracy: 0.6194 - val_loss: 1.8272 - val_categorical_accuracy: 0.4725\n",
      "Epoch 49/100\n",
      "302/302 [==============================] - 2s 5ms/step - loss: 0.9453 - categorical_accuracy: 0.6405 - val_loss: 1.8468 - val_categorical_accuracy: 0.4539\n"
     ]
    },
    {
     "name": "stdout",
     "output_type": "stream",
     "text": [
      "Epoch 50/100\n",
      "302/302 [==============================] - 2s 5ms/step - loss: 0.9605 - categorical_accuracy: 0.6240 - val_loss: 1.8841 - val_categorical_accuracy: 0.4669\n",
      "Epoch 51/100\n",
      "302/302 [==============================] - 2s 5ms/step - loss: 0.9402 - categorical_accuracy: 0.6271 - val_loss: 1.8906 - val_categorical_accuracy: 0.4557\n",
      "Epoch 52/100\n",
      "302/302 [==============================] - 2s 5ms/step - loss: 0.9532 - categorical_accuracy: 0.6253 - val_loss: 1.8332 - val_categorical_accuracy: 0.4632\n",
      "Epoch 53/100\n",
      "302/302 [==============================] - 2s 5ms/step - loss: 0.9488 - categorical_accuracy: 0.6377 - val_loss: 1.9180 - val_categorical_accuracy: 0.4613\n",
      "Epoch 54/100\n",
      "302/302 [==============================] - 2s 5ms/step - loss: 0.9438 - categorical_accuracy: 0.6353 - val_loss: 1.8661 - val_categorical_accuracy: 0.4511\n",
      "Epoch 55/100\n",
      "302/302 [==============================] - 2s 5ms/step - loss: 0.9509 - categorical_accuracy: 0.6319 - val_loss: 1.8821 - val_categorical_accuracy: 0.4483\n",
      "Epoch 56/100\n",
      "302/302 [==============================] - 2s 5ms/step - loss: 0.9256 - categorical_accuracy: 0.6440 - val_loss: 1.8301 - val_categorical_accuracy: 0.4585\n",
      "Epoch 57/100\n",
      "302/302 [==============================] - 2s 5ms/step - loss: 0.9390 - categorical_accuracy: 0.6377 - val_loss: 1.8255 - val_categorical_accuracy: 0.4688\n",
      "Epoch 58/100\n",
      "302/302 [==============================] - 2s 5ms/step - loss: 0.9091 - categorical_accuracy: 0.6547 - val_loss: 1.8897 - val_categorical_accuracy: 0.4632\n",
      "Epoch 59/100\n",
      "302/302 [==============================] - 2s 5ms/step - loss: 0.9435 - categorical_accuracy: 0.6314 - val_loss: 1.8657 - val_categorical_accuracy: 0.4660\n",
      "Epoch 60/100\n",
      "302/302 [==============================] - 2s 5ms/step - loss: 0.9210 - categorical_accuracy: 0.6486 - val_loss: 1.8500 - val_categorical_accuracy: 0.4632\n",
      "Epoch 61/100\n",
      "302/302 [==============================] - 2s 5ms/step - loss: 0.9351 - categorical_accuracy: 0.6367 - val_loss: 1.9164 - val_categorical_accuracy: 0.4483\n",
      "Epoch 62/100\n",
      "302/302 [==============================] - 2s 5ms/step - loss: 0.9121 - categorical_accuracy: 0.6433 - val_loss: 1.8955 - val_categorical_accuracy: 0.4473\n",
      "Epoch 63/100\n",
      "302/302 [==============================] - 2s 5ms/step - loss: 0.9138 - categorical_accuracy: 0.6534 - val_loss: 1.8982 - val_categorical_accuracy: 0.4548\n",
      "Epoch 64/100\n",
      "302/302 [==============================] - 2s 5ms/step - loss: 0.9127 - categorical_accuracy: 0.6467 - val_loss: 1.8863 - val_categorical_accuracy: 0.4651\n",
      "Epoch 65/100\n",
      "302/302 [==============================] - 2s 5ms/step - loss: 0.9168 - categorical_accuracy: 0.6421 - val_loss: 1.8920 - val_categorical_accuracy: 0.4753\n",
      "Epoch 66/100\n",
      "302/302 [==============================] - 2s 5ms/step - loss: 0.9067 - categorical_accuracy: 0.6512 - val_loss: 1.9100 - val_categorical_accuracy: 0.4632\n",
      "Epoch 67/100\n",
      "302/302 [==============================] - 2s 5ms/step - loss: 0.9003 - categorical_accuracy: 0.6545 - val_loss: 1.9391 - val_categorical_accuracy: 0.4567\n",
      "Epoch 68/100\n",
      "302/302 [==============================] - 2s 5ms/step - loss: 0.8823 - categorical_accuracy: 0.6628 - val_loss: 1.8764 - val_categorical_accuracy: 0.4445\n",
      "Epoch 69/100\n",
      "302/302 [==============================] - 2s 5ms/step - loss: 0.8673 - categorical_accuracy: 0.6667 - val_loss: 1.9288 - val_categorical_accuracy: 0.4613\n",
      "Epoch 70/100\n",
      "302/302 [==============================] - 2s 5ms/step - loss: 0.8853 - categorical_accuracy: 0.6639 - val_loss: 1.9372 - val_categorical_accuracy: 0.4781\n",
      "Epoch 71/100\n",
      "302/302 [==============================] - 2s 5ms/step - loss: 0.8716 - categorical_accuracy: 0.6630 - val_loss: 1.9259 - val_categorical_accuracy: 0.4697\n",
      "Epoch 72/100\n",
      "302/302 [==============================] - 2s 5ms/step - loss: 0.8940 - categorical_accuracy: 0.6569 - val_loss: 1.9562 - val_categorical_accuracy: 0.4613\n",
      "Epoch 73/100\n",
      "302/302 [==============================] - 2s 5ms/step - loss: 0.8827 - categorical_accuracy: 0.6595 - val_loss: 1.9135 - val_categorical_accuracy: 0.4557\n",
      "Epoch 74/100\n",
      "302/302 [==============================] - 2s 5ms/step - loss: 0.8473 - categorical_accuracy: 0.6728 - val_loss: 1.9749 - val_categorical_accuracy: 0.4511\n",
      "Epoch 75/100\n",
      "302/302 [==============================] - 2s 5ms/step - loss: 0.8909 - categorical_accuracy: 0.6528 - val_loss: 1.9480 - val_categorical_accuracy: 0.4464\n",
      "Epoch 76/100\n",
      "302/302 [==============================] - 2s 5ms/step - loss: 0.8814 - categorical_accuracy: 0.6567 - val_loss: 1.9471 - val_categorical_accuracy: 0.4706\n",
      "Epoch 77/100\n",
      "302/302 [==============================] - 2s 5ms/step - loss: 0.8662 - categorical_accuracy: 0.6639 - val_loss: 2.0787 - val_categorical_accuracy: 0.4604\n",
      "Epoch 78/100\n",
      "302/302 [==============================] - 2s 5ms/step - loss: 0.8607 - categorical_accuracy: 0.6734 - val_loss: 1.9756 - val_categorical_accuracy: 0.4567\n",
      "Epoch 79/100\n",
      "302/302 [==============================] - 2s 5ms/step - loss: 0.8857 - categorical_accuracy: 0.6625 - val_loss: 2.0312 - val_categorical_accuracy: 0.4632\n",
      "Epoch 80/100\n",
      "302/302 [==============================] - 2s 5ms/step - loss: 0.8645 - categorical_accuracy: 0.6614 - val_loss: 1.9645 - val_categorical_accuracy: 0.4623\n",
      "Epoch 81/100\n",
      "302/302 [==============================] - 2s 5ms/step - loss: 0.8583 - categorical_accuracy: 0.6703 - val_loss: 1.8819 - val_categorical_accuracy: 0.4418\n",
      "Epoch 82/100\n",
      "302/302 [==============================] - 2s 5ms/step - loss: 0.8518 - categorical_accuracy: 0.6757 - val_loss: 1.9703 - val_categorical_accuracy: 0.4585\n",
      "Epoch 83/100\n",
      "302/302 [==============================] - 2s 5ms/step - loss: 0.8288 - categorical_accuracy: 0.6844 - val_loss: 2.0806 - val_categorical_accuracy: 0.4511\n",
      "Epoch 84/100\n",
      "302/302 [==============================] - 2s 5ms/step - loss: 0.8548 - categorical_accuracy: 0.6709 - val_loss: 1.9941 - val_categorical_accuracy: 0.4511\n",
      "Epoch 85/100\n",
      "302/302 [==============================] - 2s 5ms/step - loss: 0.8531 - categorical_accuracy: 0.6659 - val_loss: 1.9840 - val_categorical_accuracy: 0.4734\n",
      "Epoch 86/100\n",
      "302/302 [==============================] - 2s 5ms/step - loss: 0.8405 - categorical_accuracy: 0.6824 - val_loss: 2.0336 - val_categorical_accuracy: 0.4585\n",
      "Epoch 87/100\n",
      "302/302 [==============================] - 2s 5ms/step - loss: 0.8337 - categorical_accuracy: 0.6822 - val_loss: 2.0446 - val_categorical_accuracy: 0.4408\n",
      "Epoch 88/100\n",
      "302/302 [==============================] - 2s 5ms/step - loss: 0.8413 - categorical_accuracy: 0.6766 - val_loss: 1.9478 - val_categorical_accuracy: 0.4455\n",
      "Epoch 89/100\n",
      "302/302 [==============================] - 2s 5ms/step - loss: 0.8332 - categorical_accuracy: 0.6746 - val_loss: 2.0525 - val_categorical_accuracy: 0.4623\n",
      "Epoch 90/100\n",
      "302/302 [==============================] - 2s 5ms/step - loss: 0.8301 - categorical_accuracy: 0.6771 - val_loss: 2.0020 - val_categorical_accuracy: 0.4613\n",
      "Epoch 91/100\n",
      "302/302 [==============================] - 2s 5ms/step - loss: 0.8372 - categorical_accuracy: 0.6791 - val_loss: 1.9996 - val_categorical_accuracy: 0.4529\n",
      "Epoch 92/100\n",
      "302/302 [==============================] - 2s 5ms/step - loss: 0.8317 - categorical_accuracy: 0.6819 - val_loss: 1.9825 - val_categorical_accuracy: 0.4725\n",
      "Epoch 93/100\n",
      "302/302 [==============================] - 2s 5ms/step - loss: 0.8254 - categorical_accuracy: 0.6924 - val_loss: 1.9775 - val_categorical_accuracy: 0.4613\n",
      "Epoch 94/100\n",
      "302/302 [==============================] - 2s 5ms/step - loss: 0.8455 - categorical_accuracy: 0.6720 - val_loss: 1.9698 - val_categorical_accuracy: 0.4706\n",
      "Epoch 95/100\n",
      "302/302 [==============================] - 2s 5ms/step - loss: 0.8415 - categorical_accuracy: 0.6756 - val_loss: 1.9849 - val_categorical_accuracy: 0.4669\n",
      "Epoch 96/100\n",
      "302/302 [==============================] - 2s 5ms/step - loss: 0.8351 - categorical_accuracy: 0.6811 - val_loss: 2.0169 - val_categorical_accuracy: 0.4706\n",
      "Epoch 97/100\n",
      "302/302 [==============================] - 2s 5ms/step - loss: 0.8275 - categorical_accuracy: 0.6779 - val_loss: 2.0424 - val_categorical_accuracy: 0.4716\n",
      "Epoch 98/100\n",
      "302/302 [==============================] - 2s 5ms/step - loss: 0.8321 - categorical_accuracy: 0.6744 - val_loss: 2.0407 - val_categorical_accuracy: 0.4557\n"
     ]
    },
    {
     "name": "stdout",
     "output_type": "stream",
     "text": [
      "Epoch 99/100\n",
      "302/302 [==============================] - 2s 5ms/step - loss: 0.8077 - categorical_accuracy: 0.6837 - val_loss: 2.0619 - val_categorical_accuracy: 0.4623\n",
      "Epoch 100/100\n",
      "302/302 [==============================] - 2s 5ms/step - loss: 0.8571 - categorical_accuracy: 0.6683 - val_loss: 2.1975 - val_categorical_accuracy: 0.4716\n"
     ]
    },
    {
     "data": {
      "text/plain": [
       "<tensorflow.python.keras.callbacks.History at 0x7f6e34150a90>"
      ]
     },
     "execution_count": 191,
     "metadata": {},
     "output_type": "execute_result"
    }
   ],
   "source": [
    "mlp.fit(x=X, y=y, batch_size=32, epochs=100, validation_split=0.1)"
   ]
  },
  {
   "cell_type": "code",
   "execution_count": null,
   "id": "97723749",
   "metadata": {},
   "outputs": [],
   "source": [
    "mlp1.fit(x=X1, y=y1, batch_size=32, epochs=100, validation_split=0.1)"
   ]
  },
  {
   "cell_type": "markdown",
   "id": "687ac955",
   "metadata": {},
   "source": [
    "### Prediction"
   ]
  },
  {
   "cell_type": "code",
   "execution_count": 192,
   "id": "0f277a0e",
   "metadata": {},
   "outputs": [
    {
     "name": "stdout",
     "output_type": "stream",
     "text": [
      "(1192, 30, 128)\n",
      "(1192, 3840)\n"
     ]
    }
   ],
   "source": [
    "x_test= np.array(X_test['vector_ponderado'].to_list())\n",
    "print(x_test.shape)\n",
    "\n",
    "x_test= x_test.reshape((len(x_test), -1))\n",
    "print(x_test.shape)"
   ]
  },
  {
   "cell_type": "code",
   "execution_count": 193,
   "id": "670be3a0",
   "metadata": {},
   "outputs": [
    {
     "data": {
      "text/plain": [
       "True"
      ]
     },
     "execution_count": 193,
     "metadata": {},
     "output_type": "execute_result"
    }
   ],
   "source": [
    "np.any(np.isnan(x_test))"
   ]
  },
  {
   "cell_type": "code",
   "execution_count": 194,
   "id": "0bd650dd",
   "metadata": {},
   "outputs": [],
   "source": [
    "x_test=np.nan_to_num(x_test)"
   ]
  },
  {
   "cell_type": "code",
   "execution_count": 195,
   "id": "58fd5c84",
   "metadata": {},
   "outputs": [
    {
     "data": {
      "text/plain": [
       "False"
      ]
     },
     "execution_count": 195,
     "metadata": {},
     "output_type": "execute_result"
    }
   ],
   "source": [
    "np.any(np.isnan(x_test))"
   ]
  },
  {
   "cell_type": "code",
   "execution_count": 196,
   "id": "6a59510d",
   "metadata": {},
   "outputs": [
    {
     "name": "stdout",
     "output_type": "stream",
     "text": [
      "['1' '3' '1' ... '1' '6' '3']\n",
      "tf.Tensor(\n",
      "[[0. 1. 0. ... 0. 0. 0.]\n",
      " [0. 0. 0. ... 0. 0. 0.]\n",
      " [0. 1. 0. ... 0. 0. 0.]\n",
      " ...\n",
      " [0. 1. 0. ... 0. 0. 0.]\n",
      " [0. 0. 0. ... 0. 1. 0.]\n",
      " [0. 0. 0. ... 0. 0. 0.]], shape=(1192, 8), dtype=float32)\n"
     ]
    }
   ],
   "source": [
    "# Put output data into vector format for training MLP\n",
    "Y_test = y_test['cluster'].to_numpy()\n",
    "print(Y_test)\n",
    "\n",
    "Y_test = tf.one_hot(Y_test, depth=8)\n",
    "print(Y_test)"
   ]
  },
  {
   "cell_type": "code",
   "execution_count": 197,
   "id": "e7e853d1",
   "metadata": {},
   "outputs": [
    {
     "name": "stdout",
     "output_type": "stream",
     "text": [
      "(21446, 30, 128)\n",
      "(21446, 3840)\n"
     ]
    }
   ],
   "source": [
    "# Put input data into vector format for training MLP\n",
    "x1_test = np.array(X1_test['rows'].to_list())\n",
    "print(x1_test.shape)\n",
    "\n",
    "x1_test= x1_test.reshape((len(x1_test), -1))\n",
    "print(x1_test.shape)"
   ]
  },
  {
   "cell_type": "code",
   "execution_count": 198,
   "id": "3166a626",
   "metadata": {},
   "outputs": [
    {
     "data": {
      "text/plain": [
       "False"
      ]
     },
     "execution_count": 198,
     "metadata": {},
     "output_type": "execute_result"
    }
   ],
   "source": [
    "np.any(np.isnan(x1_test))"
   ]
  },
  {
   "cell_type": "code",
   "execution_count": 199,
   "id": "6f755bdb",
   "metadata": {},
   "outputs": [
    {
     "name": "stdout",
     "output_type": "stream",
     "text": [
      "['3' '3' '3' ... '6' '4' '3']\n",
      "tf.Tensor(\n",
      "[[0. 0. 0. ... 0. 0. 0.]\n",
      " [0. 0. 0. ... 0. 0. 0.]\n",
      " [0. 0. 0. ... 0. 0. 0.]\n",
      " ...\n",
      " [0. 0. 0. ... 0. 1. 0.]\n",
      " [0. 0. 0. ... 0. 0. 0.]\n",
      " [0. 0. 0. ... 0. 0. 0.]], shape=(21446, 8), dtype=float32)\n"
     ]
    }
   ],
   "source": [
    "# Put output data into vector format for training MLP\n",
    "Y1_test= y1_test['cluster'].to_numpy()\n",
    "print(Y1_test)\n",
    "\n",
    "Y1_test= tf.one_hot(Y1_test, depth=8)\n",
    "print(Y1_test)"
   ]
  },
  {
   "cell_type": "code",
   "execution_count": 200,
   "id": "c0e768ac",
   "metadata": {},
   "outputs": [
    {
     "name": "stdout",
     "output_type": "stream",
     "text": [
      "336/336 [==============================] - 0s 1ms/step - loss: 0.8260 - categorical_accuracy: 0.7115\n"
     ]
    },
    {
     "data": {
      "text/plain": [
       "[0.8260345458984375, 0.7115277051925659]"
      ]
     },
     "execution_count": 200,
     "metadata": {},
     "output_type": "execute_result"
    }
   ],
   "source": [
    "mlp.evaluate(X, y)"
   ]
  },
  {
   "cell_type": "code",
   "execution_count": 201,
   "id": "a98fdcb7",
   "metadata": {},
   "outputs": [
    {
     "name": "stdout",
     "output_type": "stream",
     "text": [
      "38/38 [==============================] - 0s 1ms/step - loss: 2.3160 - categorical_accuracy: 0.4555\n"
     ]
    },
    {
     "data": {
      "text/plain": [
       "[2.316042423248291, 0.4555369019508362]"
      ]
     },
     "execution_count": 201,
     "metadata": {},
     "output_type": "execute_result"
    }
   ],
   "source": [
    "mlp.evaluate(x_test, Y_test)"
   ]
  },
  {
   "cell_type": "code",
   "execution_count": 187,
   "id": "e192b129",
   "metadata": {},
   "outputs": [
    {
     "name": "stdout",
     "output_type": "stream",
     "text": [
      "6032/6032 [==============================] - 8s 1ms/step - loss: 1.4924 - categorical_accuracy: 0.4417\n"
     ]
    },
    {
     "data": {
      "text/plain": [
       "[1.4923914670944214, 0.44173237681388855]"
      ]
     },
     "execution_count": 187,
     "metadata": {},
     "output_type": "execute_result"
    }
   ],
   "source": [
    "mlp1.evaluate(X1, y1)"
   ]
  },
  {
   "cell_type": "code",
   "execution_count": 188,
   "id": "6d47b0eb",
   "metadata": {},
   "outputs": [
    {
     "name": "stdout",
     "output_type": "stream",
     "text": [
      "671/671 [==============================] - 1s 1ms/step - loss: 2.1487 - categorical_accuracy: 0.4093\n"
     ]
    },
    {
     "data": {
      "text/plain": [
       "[2.1487486362457275, 0.40926048159599304]"
      ]
     },
     "execution_count": 188,
     "metadata": {},
     "output_type": "execute_result"
    }
   ],
   "source": [
    "mlp1.evaluate(x1_test, Y1_test)"
   ]
  },
  {
   "cell_type": "code",
   "execution_count": 57,
   "id": "2a4dc7d9",
   "metadata": {},
   "outputs": [],
   "source": [
    "p=mlp.predict(X)\n",
    "p_1=mlp1.predict(X1)"
   ]
  },
  {
   "cell_type": "code",
   "execution_count": 58,
   "id": "e5e86b18",
   "metadata": {},
   "outputs": [],
   "source": [
    "y_classes=p.argmax(axis=-1)"
   ]
  },
  {
   "cell_type": "code",
   "execution_count": 59,
   "id": "15d98698",
   "metadata": {},
   "outputs": [],
   "source": [
    "y1_classes=p_1.argmax(axis=-1)"
   ]
  },
  {
   "cell_type": "code",
   "execution_count": 61,
   "id": "3ff2078c",
   "metadata": {},
   "outputs": [
    {
     "name": "stdout",
     "output_type": "stream",
     "text": [
      "[0 3 0 ... 0 7 0]\n",
      "[0 0 5 ... 0 0 0]\n"
     ]
    }
   ],
   "source": [
    "print(y_classes)\n",
    "print(y1_classes)"
   ]
  },
  {
   "cell_type": "markdown",
   "id": "4f6b055c",
   "metadata": {},
   "source": [
    "# Section 2: Conv1D NN"
   ]
  },
  {
   "cell_type": "code",
   "execution_count": 206,
   "id": "1fecc223",
   "metadata": {},
   "outputs": [],
   "source": [
    "import tensorflow as tf\n",
    "from tensorflow.keras.models import Sequential\n",
    "from tensorflow.keras.layers import Input, Dense, Conv1D, MaxPool1D, Flatten"
   ]
  },
  {
   "cell_type": "code",
   "execution_count": 207,
   "id": "ee79b335",
   "metadata": {},
   "outputs": [
    {
     "name": "stdout",
     "output_type": "stream",
     "text": [
      "(10722, 30, 128)\n"
     ]
    }
   ],
   "source": [
    "# Put input data into vector format for training MLP\n",
    "X = np.array(X_train['vector_ponderado'].to_list())\n",
    "print(X.shape)"
   ]
  },
  {
   "cell_type": "code",
   "execution_count": 208,
   "id": "d0304e7d",
   "metadata": {},
   "outputs": [
    {
     "data": {
      "text/plain": [
       "True"
      ]
     },
     "execution_count": 208,
     "metadata": {},
     "output_type": "execute_result"
    }
   ],
   "source": [
    "np.any(np.isnan(X))"
   ]
  },
  {
   "cell_type": "code",
   "execution_count": 209,
   "id": "c9cc2f63",
   "metadata": {},
   "outputs": [],
   "source": [
    "X=np.nan_to_num(X)"
   ]
  },
  {
   "cell_type": "code",
   "execution_count": 210,
   "id": "0b3cc3c9",
   "metadata": {},
   "outputs": [
    {
     "data": {
      "text/plain": [
       "False"
      ]
     },
     "execution_count": 210,
     "metadata": {},
     "output_type": "execute_result"
    }
   ],
   "source": [
    "np.any(np.isnan(X))"
   ]
  },
  {
   "cell_type": "code",
   "execution_count": 211,
   "id": "1f59e602",
   "metadata": {},
   "outputs": [
    {
     "name": "stdout",
     "output_type": "stream",
     "text": [
      "['3' '3' '1' ... '7' '7' '3']\n",
      "tf.Tensor(\n",
      "[[0. 0. 0. ... 0. 0. 0.]\n",
      " [0. 0. 0. ... 0. 0. 0.]\n",
      " [0. 1. 0. ... 0. 0. 0.]\n",
      " ...\n",
      " [0. 0. 0. ... 0. 0. 1.]\n",
      " [0. 0. 0. ... 0. 0. 1.]\n",
      " [0. 0. 0. ... 0. 0. 0.]], shape=(10722, 8), dtype=float32)\n"
     ]
    }
   ],
   "source": [
    "# Put output data into vector format for training MLP\n",
    "y= y_train['cluster'].to_numpy()\n",
    "print(y)\n",
    "\n",
    "y= tf.one_hot(y, depth=8)\n",
    "print(y)"
   ]
  },
  {
   "cell_type": "code",
   "execution_count": 212,
   "id": "1e84aca1",
   "metadata": {},
   "outputs": [
    {
     "name": "stdout",
     "output_type": "stream",
     "text": [
      "(193006, 30, 128)\n"
     ]
    }
   ],
   "source": [
    "# Put input data into vector format for training MLP\n",
    "X1 = np.array(X1_train['rows'].to_list())\n",
    "print(X1.shape)"
   ]
  },
  {
   "cell_type": "code",
   "execution_count": 21,
   "id": "e3f5fff6",
   "metadata": {},
   "outputs": [
    {
     "name": "stdout",
     "output_type": "stream",
     "text": [
      "['3' '3' '7' ... '6' '4' '3']\n",
      "tf.Tensor(\n",
      "[[0. 0. 0. ... 0. 0. 0.]\n",
      " [0. 0. 0. ... 0. 0. 0.]\n",
      " [0. 0. 0. ... 0. 0. 1.]\n",
      " ...\n",
      " [0. 0. 0. ... 0. 1. 0.]\n",
      " [0. 0. 0. ... 0. 0. 0.]\n",
      " [0. 0. 0. ... 0. 0. 0.]], shape=(193006, 8), dtype=float32)\n"
     ]
    }
   ],
   "source": [
    "# Put output data into vector format for training MLP\n",
    "y1 = y1_train['cluster'].to_numpy()\n",
    "print(y1)\n",
    "\n",
    "y1 = tf.one_hot(y1, depth=8)\n",
    "print(y1)"
   ]
  },
  {
   "cell_type": "code",
   "execution_count": 233,
   "id": "f8af2a8b",
   "metadata": {},
   "outputs": [
    {
     "name": "stdout",
     "output_type": "stream",
     "text": [
      "Model: \"sequential_28\"\n",
      "_________________________________________________________________\n",
      "Layer (type)                 Output Shape              Param #   \n",
      "=================================================================\n",
      "conv1d_52 (Conv1D)           (None, 30, 64)            24640     \n",
      "_________________________________________________________________\n",
      "max_pooling1d_52 (MaxPooling (None, 15, 64)            0         \n",
      "_________________________________________________________________\n",
      "dropout_21 (Dropout)         (None, 15, 64)            0         \n",
      "_________________________________________________________________\n",
      "conv1d_53 (Conv1D)           (None, 15, 128)           24704     \n",
      "_________________________________________________________________\n",
      "max_pooling1d_53 (MaxPooling (None, 7, 128)            0         \n",
      "_________________________________________________________________\n",
      "conv1d_54 (Conv1D)           (None, 7, 256)            98560     \n",
      "_________________________________________________________________\n",
      "max_pooling1d_54 (MaxPooling (None, 3, 256)            0         \n",
      "_________________________________________________________________\n",
      "conv1d_55 (Conv1D)           (None, 3, 512)            393728    \n",
      "_________________________________________________________________\n",
      "max_pooling1d_55 (MaxPooling (None, 1, 512)            0         \n",
      "_________________________________________________________________\n",
      "flatten_13 (Flatten)         (None, 512)               0         \n",
      "_________________________________________________________________\n",
      "dense_103 (Dense)            (None, 32)                16416     \n",
      "_________________________________________________________________\n",
      "dense_104 (Dense)            (None, 64)                2112      \n",
      "_________________________________________________________________\n",
      "dense_105 (Dense)            (None, 8)                 520       \n",
      "=================================================================\n",
      "Total params: 560,680\n",
      "Trainable params: 560,680\n",
      "Non-trainable params: 0\n",
      "_________________________________________________________________\n"
     ]
    }
   ],
   "source": [
    "# Creat MLP\n",
    "cnn = Sequential()\n",
    "cnn.add(Input(shape=(X.shape[1], X.shape[2])))\n",
    "cnn.add(Conv1D(64, 3, padding='same', activation='relu'))\n",
    "cnn.add(MaxPool1D())\n",
    "cnn.add(Dropout(.5))\n",
    "cnn.add(Conv1D(128, 3, padding='same', activation='relu'))\n",
    "cnn.add(MaxPool1D())\n",
    "cnn.add(Conv1D(256, 3, padding='same', activation='relu'))\n",
    "cnn.add(MaxPool1D())\n",
    "cnn.add(Conv1D(512, 3, padding='same', activation='relu'))\n",
    "cnn.add(MaxPool1D())\n",
    "cnn.add(Flatten())\n",
    "cnn.add(Dense(32, activation='relu', activity_regularizer=l2(.5)))\n",
    "cnn.add(Dense(64, activation='relu'))\n",
    "cnn.add(Dense(y.shape[1], activation='softmax'))\n",
    "cnn.summary()"
   ]
  },
  {
   "cell_type": "code",
   "execution_count": 115,
   "id": "d3105e4e",
   "metadata": {},
   "outputs": [
    {
     "name": "stdout",
     "output_type": "stream",
     "text": [
      "Model: \"sequential_13\"\n",
      "_________________________________________________________________\n",
      "Layer (type)                 Output Shape              Param #   \n",
      "=================================================================\n",
      "conv1d_20 (Conv1D)           (None, 30, 64)            24640     \n",
      "_________________________________________________________________\n",
      "max_pooling1d_20 (MaxPooling (None, 15, 64)            0         \n",
      "_________________________________________________________________\n",
      "dropout_11 (Dropout)         (None, 15, 64)            0         \n",
      "_________________________________________________________________\n",
      "conv1d_21 (Conv1D)           (None, 15, 128)           24704     \n",
      "_________________________________________________________________\n",
      "max_pooling1d_21 (MaxPooling (None, 7, 128)            0         \n",
      "_________________________________________________________________\n",
      "conv1d_22 (Conv1D)           (None, 7, 256)            98560     \n",
      "_________________________________________________________________\n",
      "max_pooling1d_22 (MaxPooling (None, 3, 256)            0         \n",
      "_________________________________________________________________\n",
      "conv1d_23 (Conv1D)           (None, 3, 512)            393728    \n",
      "_________________________________________________________________\n",
      "max_pooling1d_23 (MaxPooling (None, 1, 512)            0         \n",
      "_________________________________________________________________\n",
      "flatten_5 (Flatten)          (None, 512)               0         \n",
      "_________________________________________________________________\n",
      "dense_53 (Dense)             (None, 32)                16416     \n",
      "_________________________________________________________________\n",
      "dense_54 (Dense)             (None, 8)                 264       \n",
      "=================================================================\n",
      "Total params: 558,312\n",
      "Trainable params: 558,312\n",
      "Non-trainable params: 0\n",
      "_________________________________________________________________\n"
     ]
    }
   ],
   "source": [
    "# Creat MLP\n",
    "cnn = Sequential()\n",
    "cnn.add(Input(shape=(X1.shape[1], X1.shape[2])))\n",
    "cnn.add(Conv1D(64, 3, padding='same', activation='relu'))\n",
    "cnn.add(MaxPool1D())\n",
    "cnn.add(Dropout(.5))\n",
    "cnn.add(Conv1D(128, 3, padding='same', activation='relu'))\n",
    "cnn.add(MaxPool1D())\n",
    "cnn.add(Conv1D(256, 3, padding='same', activation='relu'))\n",
    "cnn.add(MaxPool1D())\n",
    "cnn.add(Conv1D(512, 3, padding='same', activation='relu'))\n",
    "cnn.add(MaxPool1D())\n",
    "cnn.add(Flatten())\n",
    "cnn.add(Dense(32, activation='relu',activity_regularizer=l2(0.5)))\n",
    "cnn.add(Dense(y1.shape[1], activation='softmax'))\n",
    "cnn.summary()"
   ]
  },
  {
   "cell_type": "code",
   "execution_count": 127,
   "id": "adad7464",
   "metadata": {},
   "outputs": [
    {
     "name": "stdout",
     "output_type": "stream",
     "text": [
      "Model: \"sequential_17\"\n",
      "_________________________________________________________________\n",
      "Layer (type)                 Output Shape              Param #   \n",
      "=================================================================\n",
      "conv1d_36 (Conv1D)           (None, 30, 64)            24640     \n",
      "_________________________________________________________________\n",
      "max_pooling1d_36 (MaxPooling (None, 15, 64)            0         \n",
      "_________________________________________________________________\n",
      "conv1d_37 (Conv1D)           (None, 15, 128)           24704     \n",
      "_________________________________________________________________\n",
      "max_pooling1d_37 (MaxPooling (None, 7, 128)            0         \n",
      "_________________________________________________________________\n",
      "conv1d_38 (Conv1D)           (None, 7, 256)            98560     \n",
      "_________________________________________________________________\n",
      "max_pooling1d_38 (MaxPooling (None, 3, 256)            0         \n",
      "_________________________________________________________________\n",
      "conv1d_39 (Conv1D)           (None, 3, 512)            393728    \n",
      "_________________________________________________________________\n",
      "max_pooling1d_39 (MaxPooling (None, 1, 512)            0         \n",
      "_________________________________________________________________\n",
      "flatten_9 (Flatten)          (None, 512)               0         \n",
      "_________________________________________________________________\n",
      "dense_61 (Dense)             (None, 32)                16416     \n",
      "_________________________________________________________________\n",
      "dense_62 (Dense)             (None, 8)                 264       \n",
      "=================================================================\n",
      "Total params: 558,312\n",
      "Trainable params: 558,312\n",
      "Non-trainable params: 0\n",
      "_________________________________________________________________\n"
     ]
    }
   ],
   "source": [
    "# Creat MLP\n",
    "cnn = Sequential()\n",
    "cnn.add(Input(shape=(X1.shape[1], X1.shape[2])))\n",
    "cnn.add(Conv1D(64, 3, padding='same', activation='relu'))\n",
    "cnn.add(MaxPool1D())\n",
    "cnn.add(Conv1D(128, 3, padding='same', activation='relu'))\n",
    "cnn.add(MaxPool1D())\n",
    "cnn.add(Conv1D(256, 3, padding='same', activation='relu'))\n",
    "cnn.add(MaxPool1D())\n",
    "cnn.add(Conv1D(512, 3, padding='same', activation='relu'))\n",
    "cnn.add(MaxPool1D())\n",
    "cnn.add(Flatten())\n",
    "cnn.add(Dense(32, activation='relu'))\n",
    "cnn.add(Dense(y1.shape[1], activation='softmax'))\n",
    "cnn.summary()"
   ]
  },
  {
   "cell_type": "code",
   "execution_count": 228,
   "id": "f960f119",
   "metadata": {},
   "outputs": [
    {
     "name": "stdout",
     "output_type": "stream",
     "text": [
      "Model: \"sequential_27\"\n",
      "_________________________________________________________________\n",
      "Layer (type)                 Output Shape              Param #   \n",
      "=================================================================\n",
      "conv1d_48 (Conv1D)           (None, 30, 64)            24640     \n",
      "_________________________________________________________________\n",
      "max_pooling1d_48 (MaxPooling (None, 15, 64)            0         \n",
      "_________________________________________________________________\n",
      "dropout_20 (Dropout)         (None, 15, 64)            0         \n",
      "_________________________________________________________________\n",
      "conv1d_49 (Conv1D)           (None, 15, 128)           24704     \n",
      "_________________________________________________________________\n",
      "max_pooling1d_49 (MaxPooling (None, 7, 128)            0         \n",
      "_________________________________________________________________\n",
      "conv1d_50 (Conv1D)           (None, 7, 256)            98560     \n",
      "_________________________________________________________________\n",
      "max_pooling1d_50 (MaxPooling (None, 3, 256)            0         \n",
      "_________________________________________________________________\n",
      "conv1d_51 (Conv1D)           (None, 3, 512)            393728    \n",
      "_________________________________________________________________\n",
      "max_pooling1d_51 (MaxPooling (None, 1, 512)            0         \n",
      "_________________________________________________________________\n",
      "flatten_12 (Flatten)         (None, 512)               0         \n",
      "_________________________________________________________________\n",
      "dense_101 (Dense)            (None, 32)                16416     \n",
      "_________________________________________________________________\n",
      "dense_102 (Dense)            (None, 8)                 264       \n",
      "=================================================================\n",
      "Total params: 558,312\n",
      "Trainable params: 558,312\n",
      "Non-trainable params: 0\n",
      "_________________________________________________________________\n"
     ]
    }
   ],
   "source": [
    "# Creat MLP\n",
    "cnn = Sequential()\n",
    "cnn.add(Input(shape=(X.shape[1], X.shape[2])))\n",
    "cnn.add(Conv1D(64, 3, padding='same', activation='relu'))\n",
    "cnn.add(MaxPool1D())\n",
    "cnn.add(Dropout(.5))\n",
    "cnn.add(Conv1D(128, 3, padding='same', activation='relu'))\n",
    "cnn.add(MaxPool1D())\n",
    "cnn.add(Conv1D(256, 3, padding='same', activation='relu'))\n",
    "cnn.add(MaxPool1D())\n",
    "cnn.add(Conv1D(512, 3, padding='same', activation='relu'))\n",
    "cnn.add(MaxPool1D())\n",
    "cnn.add(Flatten())\n",
    "cnn.add(Dense(32, activation='relu'))\n",
    "cnn.add(Dense(y.shape[1], activation='softmax'))\n",
    "cnn.summary()"
   ]
  },
  {
   "cell_type": "code",
   "execution_count": 234,
   "id": "b786d705",
   "metadata": {},
   "outputs": [],
   "source": [
    "# Define training parameters\n",
    "cnn.compile(optimizer='adam', loss='categorical_crossentropy',metrics='categorical_accuracy')"
   ]
  },
  {
   "cell_type": "code",
   "execution_count": 52,
   "id": "39f467e1",
   "metadata": {},
   "outputs": [
    {
     "name": "stdout",
     "output_type": "stream",
     "text": [
      "Epoch 1/100\n",
      "5429/5429 [==============================] - 29s 5ms/step - loss: 1.6422 - categorical_accuracy: 0.4105 - val_loss: 1.5091 - val_categorical_accuracy: 0.4146\n",
      "Epoch 2/100\n",
      "5429/5429 [==============================] - 28s 5ms/step - loss: 1.5123 - categorical_accuracy: 0.4117 - val_loss: 1.5032 - val_categorical_accuracy: 0.4147\n",
      "Epoch 3/100\n",
      "5429/5429 [==============================] - 27s 5ms/step - loss: 1.5069 - categorical_accuracy: 0.4140 - val_loss: 1.5011 - val_categorical_accuracy: 0.4152\n",
      "Epoch 4/100\n",
      "5429/5429 [==============================] - 27s 5ms/step - loss: 1.5024 - categorical_accuracy: 0.4150 - val_loss: 1.5053 - val_categorical_accuracy: 0.4146\n",
      "Epoch 5/100\n",
      "5429/5429 [==============================] - 27s 5ms/step - loss: 1.5022 - categorical_accuracy: 0.4156 - val_loss: 1.4993 - val_categorical_accuracy: 0.4150\n",
      "Epoch 6/100\n",
      "5429/5429 [==============================] - 27s 5ms/step - loss: 1.5028 - categorical_accuracy: 0.4147 - val_loss: 1.4991 - val_categorical_accuracy: 0.4146\n",
      "Epoch 7/100\n",
      "5429/5429 [==============================] - 28s 5ms/step - loss: 1.5040 - categorical_accuracy: 0.4140 - val_loss: 1.4992 - val_categorical_accuracy: 0.4146\n",
      "Epoch 8/100\n",
      "5429/5429 [==============================] - 27s 5ms/step - loss: 1.4986 - categorical_accuracy: 0.4164 - val_loss: 1.4986 - val_categorical_accuracy: 0.4168\n",
      "Epoch 9/100\n",
      "5429/5429 [==============================] - 27s 5ms/step - loss: 1.5035 - categorical_accuracy: 0.4135 - val_loss: 1.4989 - val_categorical_accuracy: 0.4166\n",
      "Epoch 10/100\n",
      "5429/5429 [==============================] - 27s 5ms/step - loss: 1.4981 - categorical_accuracy: 0.4157 - val_loss: 1.4979 - val_categorical_accuracy: 0.4153\n",
      "Epoch 11/100\n",
      "5429/5429 [==============================] - 27s 5ms/step - loss: 1.5011 - categorical_accuracy: 0.4132 - val_loss: 1.4969 - val_categorical_accuracy: 0.4162\n",
      "Epoch 12/100\n",
      "5429/5429 [==============================] - 27s 5ms/step - loss: 1.4987 - categorical_accuracy: 0.4146 - val_loss: 1.4978 - val_categorical_accuracy: 0.4150\n",
      "Epoch 13/100\n",
      "5429/5429 [==============================] - 27s 5ms/step - loss: 1.4996 - categorical_accuracy: 0.4166 - val_loss: 1.4968 - val_categorical_accuracy: 0.4162\n",
      "Epoch 14/100\n",
      "5429/5429 [==============================] - 27s 5ms/step - loss: 1.5034 - categorical_accuracy: 0.4130 - val_loss: 1.4981 - val_categorical_accuracy: 0.4153\n",
      "Epoch 15/100\n",
      "5429/5429 [==============================] - 27s 5ms/step - loss: 1.5011 - categorical_accuracy: 0.4139 - val_loss: 1.4972 - val_categorical_accuracy: 0.4162\n",
      "Epoch 16/100\n",
      "5429/5429 [==============================] - 27s 5ms/step - loss: 1.4996 - categorical_accuracy: 0.4158 - val_loss: 1.4962 - val_categorical_accuracy: 0.4158\n",
      "Epoch 17/100\n",
      "5429/5429 [==============================] - 27s 5ms/step - loss: 1.4993 - categorical_accuracy: 0.4157 - val_loss: 1.4969 - val_categorical_accuracy: 0.4164\n",
      "Epoch 18/100\n",
      "5429/5429 [==============================] - 27s 5ms/step - loss: 1.5003 - categorical_accuracy: 0.4142 - val_loss: 1.4966 - val_categorical_accuracy: 0.4167\n",
      "Epoch 19/100\n",
      "5429/5429 [==============================] - 28s 5ms/step - loss: 1.4968 - categorical_accuracy: 0.4160 - val_loss: 1.4971 - val_categorical_accuracy: 0.4149\n",
      "Epoch 20/100\n",
      "5429/5429 [==============================] - 27s 5ms/step - loss: 1.5010 - categorical_accuracy: 0.4152 - val_loss: 1.4968 - val_categorical_accuracy: 0.4151\n",
      "Epoch 21/100\n",
      "5429/5429 [==============================] - 27s 5ms/step - loss: 1.5001 - categorical_accuracy: 0.4153 - val_loss: 1.4973 - val_categorical_accuracy: 0.4154\n",
      "Epoch 22/100\n",
      "5429/5429 [==============================] - 29s 5ms/step - loss: 1.5019 - categorical_accuracy: 0.4138 - val_loss: 1.4979 - val_categorical_accuracy: 0.4166\n",
      "Epoch 23/100\n",
      "5429/5429 [==============================] - 30s 6ms/step - loss: 1.5000 - categorical_accuracy: 0.4143 - val_loss: 1.4970 - val_categorical_accuracy: 0.4148\n",
      "Epoch 24/100\n",
      "5429/5429 [==============================] - 28s 5ms/step - loss: 1.4966 - categorical_accuracy: 0.4170 - val_loss: 1.4976 - val_categorical_accuracy: 0.4167\n",
      "Epoch 25/100\n",
      "5429/5429 [==============================] - 27s 5ms/step - loss: 1.5012 - categorical_accuracy: 0.4139 - val_loss: 1.4984 - val_categorical_accuracy: 0.4157\n",
      "Epoch 26/100\n",
      "5429/5429 [==============================] - 27s 5ms/step - loss: 1.4995 - categorical_accuracy: 0.4138 - val_loss: 1.4966 - val_categorical_accuracy: 0.4161\n",
      "Epoch 27/100\n",
      "5429/5429 [==============================] - 27s 5ms/step - loss: 1.4999 - categorical_accuracy: 0.4147 - val_loss: 1.4983 - val_categorical_accuracy: 0.4160\n",
      "Epoch 28/100\n",
      "5429/5429 [==============================] - 27s 5ms/step - loss: 1.4991 - categorical_accuracy: 0.4150 - val_loss: 1.4966 - val_categorical_accuracy: 0.4169\n",
      "Epoch 29/100\n",
      "5429/5429 [==============================] - 27s 5ms/step - loss: 1.4979 - categorical_accuracy: 0.4160 - val_loss: 1.4985 - val_categorical_accuracy: 0.4157\n",
      "Epoch 30/100\n",
      "5429/5429 [==============================] - 27s 5ms/step - loss: 1.5003 - categorical_accuracy: 0.4153 - val_loss: 1.4978 - val_categorical_accuracy: 0.4159\n",
      "Epoch 31/100\n",
      "5429/5429 [==============================] - 29s 5ms/step - loss: 1.4991 - categorical_accuracy: 0.4142 - val_loss: 1.4974 - val_categorical_accuracy: 0.4163\n",
      "Epoch 32/100\n",
      "5429/5429 [==============================] - 27s 5ms/step - loss: 1.5009 - categorical_accuracy: 0.4140 - val_loss: 1.4971 - val_categorical_accuracy: 0.4155\n",
      "Epoch 33/100\n",
      "5429/5429 [==============================] - 27s 5ms/step - loss: 1.4994 - categorical_accuracy: 0.4152 - val_loss: 1.4971 - val_categorical_accuracy: 0.4153\n",
      "Epoch 34/100\n",
      "5429/5429 [==============================] - 27s 5ms/step - loss: 1.4977 - categorical_accuracy: 0.4167 - val_loss: 1.4966 - val_categorical_accuracy: 0.4156\n",
      "Epoch 35/100\n",
      "5429/5429 [==============================] - 26s 5ms/step - loss: 1.5010 - categorical_accuracy: 0.4153 - val_loss: 1.5006 - val_categorical_accuracy: 0.4168\n",
      "Epoch 36/100\n",
      "5429/5429 [==============================] - 27s 5ms/step - loss: 1.4992 - categorical_accuracy: 0.4139 - val_loss: 1.4988 - val_categorical_accuracy: 0.4162\n",
      "Epoch 37/100\n",
      "5429/5429 [==============================] - 27s 5ms/step - loss: 1.4989 - categorical_accuracy: 0.4158 - val_loss: 1.4981 - val_categorical_accuracy: 0.4164\n",
      "Epoch 38/100\n",
      "5429/5429 [==============================] - 27s 5ms/step - loss: 1.4999 - categorical_accuracy: 0.4149 - val_loss: 1.4983 - val_categorical_accuracy: 0.4148\n",
      "Epoch 39/100\n",
      "5429/5429 [==============================] - 27s 5ms/step - loss: 1.4999 - categorical_accuracy: 0.4149 - val_loss: 1.4984 - val_categorical_accuracy: 0.4152\n",
      "Epoch 40/100\n",
      "5429/5429 [==============================] - 27s 5ms/step - loss: 1.5042 - categorical_accuracy: 0.4129 - val_loss: 1.4972 - val_categorical_accuracy: 0.4152\n",
      "Epoch 41/100\n",
      "5429/5429 [==============================] - 27s 5ms/step - loss: 1.4999 - categorical_accuracy: 0.4137 - val_loss: 1.5023 - val_categorical_accuracy: 0.4132\n",
      "Epoch 42/100\n",
      "5429/5429 [==============================] - 27s 5ms/step - loss: 1.4997 - categorical_accuracy: 0.4167 - val_loss: 1.4972 - val_categorical_accuracy: 0.4157\n",
      "Epoch 43/100\n",
      "5429/5429 [==============================] - 26s 5ms/step - loss: 1.4997 - categorical_accuracy: 0.4156 - val_loss: 1.4979 - val_categorical_accuracy: 0.4159\n",
      "Epoch 44/100\n",
      "5429/5429 [==============================] - 27s 5ms/step - loss: 1.4966 - categorical_accuracy: 0.4159 - val_loss: 1.4976 - val_categorical_accuracy: 0.4159\n",
      "Epoch 45/100\n",
      "5429/5429 [==============================] - 27s 5ms/step - loss: 1.4964 - categorical_accuracy: 0.4170 - val_loss: 1.4962 - val_categorical_accuracy: 0.4162\n",
      "Epoch 46/100\n",
      "5429/5429 [==============================] - 27s 5ms/step - loss: 1.5020 - categorical_accuracy: 0.4133 - val_loss: 1.4960 - val_categorical_accuracy: 0.4164\n",
      "Epoch 47/100\n",
      "5429/5429 [==============================] - 27s 5ms/step - loss: 1.4983 - categorical_accuracy: 0.4172 - val_loss: 1.4970 - val_categorical_accuracy: 0.4157\n",
      "Epoch 48/100\n",
      "5429/5429 [==============================] - 27s 5ms/step - loss: 1.4994 - categorical_accuracy: 0.4141 - val_loss: 1.4970 - val_categorical_accuracy: 0.4158\n"
     ]
    },
    {
     "name": "stdout",
     "output_type": "stream",
     "text": [
      "Epoch 49/100\n",
      "5429/5429 [==============================] - 27s 5ms/step - loss: 1.4987 - categorical_accuracy: 0.4154 - val_loss: 1.4961 - val_categorical_accuracy: 0.4168\n",
      "Epoch 50/100\n",
      "5429/5429 [==============================] - 27s 5ms/step - loss: 1.4980 - categorical_accuracy: 0.4147 - val_loss: 1.4993 - val_categorical_accuracy: 0.4155\n",
      "Epoch 51/100\n",
      "5429/5429 [==============================] - 27s 5ms/step - loss: 1.4986 - categorical_accuracy: 0.4146 - val_loss: 1.4974 - val_categorical_accuracy: 0.4160\n",
      "Epoch 52/100\n",
      "5429/5429 [==============================] - 27s 5ms/step - loss: 1.4987 - categorical_accuracy: 0.4163 - val_loss: 1.4966 - val_categorical_accuracy: 0.4161\n",
      "Epoch 53/100\n",
      "5429/5429 [==============================] - 27s 5ms/step - loss: 1.5002 - categorical_accuracy: 0.4156 - val_loss: 1.4973 - val_categorical_accuracy: 0.4164\n",
      "Epoch 54/100\n",
      "5429/5429 [==============================] - 27s 5ms/step - loss: 1.4996 - categorical_accuracy: 0.4138 - val_loss: 1.4971 - val_categorical_accuracy: 0.4155\n",
      "Epoch 55/100\n",
      "5429/5429 [==============================] - 27s 5ms/step - loss: 1.4983 - categorical_accuracy: 0.4160 - val_loss: 1.4957 - val_categorical_accuracy: 0.4162\n",
      "Epoch 56/100\n",
      "5429/5429 [==============================] - 27s 5ms/step - loss: 1.4992 - categorical_accuracy: 0.4156 - val_loss: 1.4955 - val_categorical_accuracy: 0.4166\n",
      "Epoch 57/100\n",
      "5429/5429 [==============================] - 27s 5ms/step - loss: 1.4970 - categorical_accuracy: 0.4153 - val_loss: 1.4970 - val_categorical_accuracy: 0.4160\n",
      "Epoch 58/100\n",
      "5429/5429 [==============================] - 27s 5ms/step - loss: 1.4982 - categorical_accuracy: 0.4173 - val_loss: 1.4962 - val_categorical_accuracy: 0.4154\n",
      "Epoch 59/100\n",
      "5429/5429 [==============================] - 28s 5ms/step - loss: 1.5001 - categorical_accuracy: 0.4137 - val_loss: 1.4977 - val_categorical_accuracy: 0.4164\n",
      "Epoch 60/100\n",
      "5429/5429 [==============================] - 27s 5ms/step - loss: 1.4984 - categorical_accuracy: 0.4142 - val_loss: 1.4965 - val_categorical_accuracy: 0.4156\n",
      "Epoch 61/100\n",
      "5429/5429 [==============================] - 27s 5ms/step - loss: 1.4983 - categorical_accuracy: 0.4146 - val_loss: 1.4963 - val_categorical_accuracy: 0.4156\n",
      "Epoch 62/100\n",
      "5429/5429 [==============================] - 27s 5ms/step - loss: 1.4987 - categorical_accuracy: 0.4153 - val_loss: 1.4965 - val_categorical_accuracy: 0.4156\n",
      "Epoch 63/100\n",
      "5429/5429 [==============================] - 27s 5ms/step - loss: 1.4992 - categorical_accuracy: 0.4151 - val_loss: 1.4958 - val_categorical_accuracy: 0.4172\n",
      "Epoch 64/100\n",
      "5429/5429 [==============================] - 27s 5ms/step - loss: 1.4970 - categorical_accuracy: 0.4141 - val_loss: 1.4962 - val_categorical_accuracy: 0.4154\n",
      "Epoch 65/100\n",
      "5429/5429 [==============================] - 27s 5ms/step - loss: 1.5018 - categorical_accuracy: 0.4144 - val_loss: 1.4965 - val_categorical_accuracy: 0.4150\n",
      "Epoch 66/100\n",
      "5429/5429 [==============================] - 27s 5ms/step - loss: 1.4991 - categorical_accuracy: 0.4155 - val_loss: 1.4976 - val_categorical_accuracy: 0.4156\n",
      "Epoch 67/100\n",
      "5429/5429 [==============================] - 27s 5ms/step - loss: 1.4988 - categorical_accuracy: 0.4169 - val_loss: 1.4960 - val_categorical_accuracy: 0.4154\n",
      "Epoch 68/100\n",
      "5429/5429 [==============================] - 27s 5ms/step - loss: 1.4956 - categorical_accuracy: 0.4153 - val_loss: 1.4998 - val_categorical_accuracy: 0.4155\n",
      "Epoch 69/100\n",
      "5429/5429 [==============================] - 28s 5ms/step - loss: 1.4992 - categorical_accuracy: 0.4152 - val_loss: 1.4986 - val_categorical_accuracy: 0.4147\n",
      "Epoch 70/100\n",
      "5429/5429 [==============================] - 28s 5ms/step - loss: 1.4986 - categorical_accuracy: 0.4172 - val_loss: 1.4986 - val_categorical_accuracy: 0.4162\n",
      "Epoch 71/100\n",
      "5429/5429 [==============================] - 28s 5ms/step - loss: 1.4992 - categorical_accuracy: 0.4145 - val_loss: 1.4968 - val_categorical_accuracy: 0.4153\n",
      "Epoch 72/100\n",
      "5429/5429 [==============================] - 27s 5ms/step - loss: 1.5016 - categorical_accuracy: 0.4153 - val_loss: 1.5010 - val_categorical_accuracy: 0.4151\n",
      "Epoch 73/100\n",
      "5429/5429 [==============================] - 28s 5ms/step - loss: 1.4975 - categorical_accuracy: 0.4158 - val_loss: 1.4972 - val_categorical_accuracy: 0.4146\n",
      "Epoch 74/100\n",
      "5429/5429 [==============================] - 29s 5ms/step - loss: 1.4968 - categorical_accuracy: 0.4149 - val_loss: 1.5017 - val_categorical_accuracy: 0.4161\n",
      "Epoch 75/100\n",
      "5429/5429 [==============================] - 31s 6ms/step - loss: 1.4998 - categorical_accuracy: 0.4149 - val_loss: 1.4960 - val_categorical_accuracy: 0.4160\n",
      "Epoch 76/100\n",
      "5429/5429 [==============================] - 55s 10ms/step - loss: 1.4982 - categorical_accuracy: 0.4149 - val_loss: 1.4982 - val_categorical_accuracy: 0.4165\n",
      "Epoch 77/100\n",
      "5429/5429 [==============================] - 31s 6ms/step - loss: 1.5007 - categorical_accuracy: 0.4135 - val_loss: 1.4994 - val_categorical_accuracy: 0.4167\n",
      "Epoch 78/100\n",
      "5429/5429 [==============================] - 29s 5ms/step - loss: 1.4998 - categorical_accuracy: 0.4138 - val_loss: 1.4970 - val_categorical_accuracy: 0.4159\n",
      "Epoch 79/100\n",
      "5429/5429 [==============================] - 28s 5ms/step - loss: 1.4969 - categorical_accuracy: 0.4152 - val_loss: 1.4970 - val_categorical_accuracy: 0.4146\n",
      "Epoch 80/100\n",
      "5429/5429 [==============================] - 29s 5ms/step - loss: 1.4983 - categorical_accuracy: 0.4130 - val_loss: 1.4957 - val_categorical_accuracy: 0.4167\n",
      "Epoch 81/100\n",
      "5429/5429 [==============================] - 29s 5ms/step - loss: 1.4994 - categorical_accuracy: 0.4148 - val_loss: 1.4982 - val_categorical_accuracy: 0.4166\n",
      "Epoch 82/100\n",
      "5429/5429 [==============================] - 29s 5ms/step - loss: 1.4992 - categorical_accuracy: 0.4142 - val_loss: 1.4973 - val_categorical_accuracy: 0.4162\n",
      "Epoch 83/100\n",
      "5429/5429 [==============================] - 28s 5ms/step - loss: 1.4999 - categorical_accuracy: 0.4177 - val_loss: 1.4973 - val_categorical_accuracy: 0.4154\n",
      "Epoch 84/100\n",
      "5429/5429 [==============================] - 27s 5ms/step - loss: 1.5011 - categorical_accuracy: 0.4144 - val_loss: 1.4997 - val_categorical_accuracy: 0.4148\n",
      "Epoch 85/100\n",
      "5429/5429 [==============================] - 28s 5ms/step - loss: 1.4969 - categorical_accuracy: 0.4145 - val_loss: 1.4971 - val_categorical_accuracy: 0.4156\n",
      "Epoch 86/100\n",
      "5429/5429 [==============================] - 29s 5ms/step - loss: 1.4996 - categorical_accuracy: 0.4158 - val_loss: 1.4969 - val_categorical_accuracy: 0.4164\n",
      "Epoch 87/100\n",
      "5429/5429 [==============================] - 27s 5ms/step - loss: 1.4993 - categorical_accuracy: 0.4145 - val_loss: 1.4960 - val_categorical_accuracy: 0.4159\n",
      "Epoch 88/100\n",
      "5429/5429 [==============================] - 27s 5ms/step - loss: 1.4948 - categorical_accuracy: 0.4165 - val_loss: 1.4986 - val_categorical_accuracy: 0.4151\n",
      "Epoch 89/100\n",
      "5429/5429 [==============================] - 27s 5ms/step - loss: 1.4994 - categorical_accuracy: 0.4145 - val_loss: 1.4970 - val_categorical_accuracy: 0.4161\n",
      "Epoch 90/100\n",
      "5429/5429 [==============================] - 27s 5ms/step - loss: 1.4995 - categorical_accuracy: 0.4153 - val_loss: 1.4982 - val_categorical_accuracy: 0.4162\n",
      "Epoch 91/100\n",
      "5429/5429 [==============================] - 27s 5ms/step - loss: 1.4982 - categorical_accuracy: 0.4139 - val_loss: 1.4969 - val_categorical_accuracy: 0.4155\n",
      "Epoch 92/100\n",
      "5429/5429 [==============================] - 27s 5ms/step - loss: 1.4964 - categorical_accuracy: 0.4166 - val_loss: 1.4992 - val_categorical_accuracy: 0.4146\n",
      "Epoch 93/100\n",
      "5429/5429 [==============================] - 27s 5ms/step - loss: 1.4955 - categorical_accuracy: 0.4166 - val_loss: 1.4992 - val_categorical_accuracy: 0.4146\n",
      "Epoch 94/100\n",
      "5429/5429 [==============================] - 27s 5ms/step - loss: 1.4983 - categorical_accuracy: 0.4143 - val_loss: 1.5008 - val_categorical_accuracy: 0.4151\n",
      "Epoch 95/100\n",
      "5429/5429 [==============================] - 27s 5ms/step - loss: 1.4967 - categorical_accuracy: 0.4166 - val_loss: 1.5052 - val_categorical_accuracy: 0.4132\n",
      "Epoch 96/100\n",
      "5429/5429 [==============================] - 27s 5ms/step - loss: 1.5005 - categorical_accuracy: 0.4128 - val_loss: 1.5021 - val_categorical_accuracy: 0.4149\n"
     ]
    },
    {
     "name": "stdout",
     "output_type": "stream",
     "text": [
      "Epoch 97/100\n",
      "5429/5429 [==============================] - 27s 5ms/step - loss: 1.4994 - categorical_accuracy: 0.4147 - val_loss: 1.4974 - val_categorical_accuracy: 0.4151\n",
      "Epoch 98/100\n",
      "5429/5429 [==============================] - 27s 5ms/step - loss: 1.5000 - categorical_accuracy: 0.4146 - val_loss: 1.4977 - val_categorical_accuracy: 0.4157\n",
      "Epoch 99/100\n",
      "5429/5429 [==============================] - 27s 5ms/step - loss: 1.4971 - categorical_accuracy: 0.4158 - val_loss: 1.4974 - val_categorical_accuracy: 0.4142\n",
      "Epoch 100/100\n",
      "5429/5429 [==============================] - 27s 5ms/step - loss: 1.4960 - categorical_accuracy: 0.4154 - val_loss: 1.4973 - val_categorical_accuracy: 0.4157\n"
     ]
    },
    {
     "data": {
      "text/plain": [
       "<tensorflow.python.keras.callbacks.History at 0x7f1369b6c290>"
      ]
     },
     "execution_count": 52,
     "metadata": {},
     "output_type": "execute_result"
    }
   ],
   "source": [
    "cnn.fit(x=X1, y=y1, batch_size=32, epochs=100, validation_split=0.1)"
   ]
  },
  {
   "cell_type": "code",
   "execution_count": 235,
   "id": "cd3ded14",
   "metadata": {
    "scrolled": false
   },
   "outputs": [
    {
     "name": "stdout",
     "output_type": "stream",
     "text": [
      "Epoch 1/100\n",
      "302/302 [==============================] - 2s 6ms/step - loss: 1.7958 - categorical_accuracy: 0.4010 - val_loss: 1.4518 - val_categorical_accuracy: 0.4604\n",
      "Epoch 2/100\n",
      "302/302 [==============================] - 2s 5ms/step - loss: 1.4730 - categorical_accuracy: 0.4386 - val_loss: 1.4048 - val_categorical_accuracy: 0.4706\n",
      "Epoch 3/100\n",
      "302/302 [==============================] - 2s 5ms/step - loss: 1.4116 - categorical_accuracy: 0.4578 - val_loss: 1.3699 - val_categorical_accuracy: 0.4809\n",
      "Epoch 4/100\n",
      "302/302 [==============================] - 2s 5ms/step - loss: 1.3956 - categorical_accuracy: 0.4575 - val_loss: 1.3692 - val_categorical_accuracy: 0.4697\n",
      "Epoch 5/100\n",
      "302/302 [==============================] - 2s 5ms/step - loss: 1.3867 - categorical_accuracy: 0.4690 - val_loss: 1.3602 - val_categorical_accuracy: 0.4725\n",
      "Epoch 6/100\n",
      "302/302 [==============================] - 2s 5ms/step - loss: 1.3691 - categorical_accuracy: 0.4662 - val_loss: 1.3564 - val_categorical_accuracy: 0.4846\n",
      "Epoch 7/100\n",
      "302/302 [==============================] - 2s 5ms/step - loss: 1.3649 - categorical_accuracy: 0.4647 - val_loss: 1.3543 - val_categorical_accuracy: 0.4790\n",
      "Epoch 8/100\n",
      "302/302 [==============================] - 2s 5ms/step - loss: 1.3656 - categorical_accuracy: 0.4675 - val_loss: 1.3431 - val_categorical_accuracy: 0.4828\n",
      "Epoch 9/100\n",
      "302/302 [==============================] - 2s 5ms/step - loss: 1.3518 - categorical_accuracy: 0.4696 - val_loss: 1.3554 - val_categorical_accuracy: 0.4818\n",
      "Epoch 10/100\n",
      "302/302 [==============================] - 2s 5ms/step - loss: 1.3480 - categorical_accuracy: 0.4714 - val_loss: 1.3410 - val_categorical_accuracy: 0.4874\n",
      "Epoch 11/100\n",
      "302/302 [==============================] - 2s 5ms/step - loss: 1.3230 - categorical_accuracy: 0.4831 - val_loss: 1.3312 - val_categorical_accuracy: 0.4884\n",
      "Epoch 12/100\n",
      "302/302 [==============================] - 2s 5ms/step - loss: 1.3425 - categorical_accuracy: 0.4743 - val_loss: 1.3385 - val_categorical_accuracy: 0.4772\n",
      "Epoch 13/100\n",
      "302/302 [==============================] - 2s 5ms/step - loss: 1.3151 - categorical_accuracy: 0.4830 - val_loss: 1.3269 - val_categorical_accuracy: 0.4856\n",
      "Epoch 14/100\n",
      "302/302 [==============================] - 2s 5ms/step - loss: 1.3218 - categorical_accuracy: 0.4824 - val_loss: 1.3531 - val_categorical_accuracy: 0.4790\n",
      "Epoch 15/100\n",
      "302/302 [==============================] - 2s 5ms/step - loss: 1.3173 - categorical_accuracy: 0.4887 - val_loss: 1.3429 - val_categorical_accuracy: 0.4688\n",
      "Epoch 16/100\n",
      "302/302 [==============================] - 2s 5ms/step - loss: 1.3190 - categorical_accuracy: 0.4815 - val_loss: 1.3362 - val_categorical_accuracy: 0.4818\n",
      "Epoch 17/100\n",
      "302/302 [==============================] - 2s 5ms/step - loss: 1.3009 - categorical_accuracy: 0.4929 - val_loss: 1.3466 - val_categorical_accuracy: 0.4837\n",
      "Epoch 18/100\n",
      "302/302 [==============================] - 2s 5ms/step - loss: 1.2981 - categorical_accuracy: 0.4912 - val_loss: 1.3258 - val_categorical_accuracy: 0.4921\n",
      "Epoch 19/100\n",
      "302/302 [==============================] - 2s 5ms/step - loss: 1.3012 - categorical_accuracy: 0.4937 - val_loss: 1.3386 - val_categorical_accuracy: 0.4818\n",
      "Epoch 20/100\n",
      "302/302 [==============================] - 2s 5ms/step - loss: 1.2956 - categorical_accuracy: 0.4990 - val_loss: 1.3357 - val_categorical_accuracy: 0.4902\n",
      "Epoch 21/100\n",
      "302/302 [==============================] - 2s 5ms/step - loss: 1.3018 - categorical_accuracy: 0.4930 - val_loss: 1.3407 - val_categorical_accuracy: 0.4790\n",
      "Epoch 22/100\n",
      "302/302 [==============================] - 2s 5ms/step - loss: 1.2904 - categorical_accuracy: 0.4952 - val_loss: 1.3333 - val_categorical_accuracy: 0.4884\n",
      "Epoch 23/100\n",
      "302/302 [==============================] - 2s 5ms/step - loss: 1.2788 - categorical_accuracy: 0.5094 - val_loss: 1.3441 - val_categorical_accuracy: 0.4818\n",
      "Epoch 24/100\n",
      "302/302 [==============================] - 2s 5ms/step - loss: 1.2954 - categorical_accuracy: 0.4981 - val_loss: 1.3410 - val_categorical_accuracy: 0.4921\n",
      "Epoch 25/100\n",
      "302/302 [==============================] - 2s 5ms/step - loss: 1.2652 - categorical_accuracy: 0.5102 - val_loss: 1.3309 - val_categorical_accuracy: 0.4706\n",
      "Epoch 26/100\n",
      "302/302 [==============================] - 2s 5ms/step - loss: 1.2731 - categorical_accuracy: 0.5113 - val_loss: 1.3317 - val_categorical_accuracy: 0.4865\n",
      "Epoch 27/100\n",
      "302/302 [==============================] - 2s 5ms/step - loss: 1.2801 - categorical_accuracy: 0.4981 - val_loss: 1.3452 - val_categorical_accuracy: 0.4781\n",
      "Epoch 28/100\n",
      "302/302 [==============================] - 2s 5ms/step - loss: 1.2651 - categorical_accuracy: 0.5135 - val_loss: 1.3777 - val_categorical_accuracy: 0.4520\n",
      "Epoch 29/100\n",
      "302/302 [==============================] - 2s 5ms/step - loss: 1.2904 - categorical_accuracy: 0.4970 - val_loss: 1.3262 - val_categorical_accuracy: 0.4874\n",
      "Epoch 30/100\n",
      "302/302 [==============================] - 2s 5ms/step - loss: 1.2828 - categorical_accuracy: 0.5056 - val_loss: 1.3401 - val_categorical_accuracy: 0.4874\n",
      "Epoch 31/100\n",
      "302/302 [==============================] - 2s 5ms/step - loss: 1.2606 - categorical_accuracy: 0.5226 - val_loss: 1.3598 - val_categorical_accuracy: 0.4632\n",
      "Epoch 32/100\n",
      "302/302 [==============================] - 2s 5ms/step - loss: 1.2683 - categorical_accuracy: 0.5070 - val_loss: 1.3610 - val_categorical_accuracy: 0.4846\n",
      "Epoch 33/100\n",
      "302/302 [==============================] - 1s 5ms/step - loss: 1.2658 - categorical_accuracy: 0.5196 - val_loss: 1.3481 - val_categorical_accuracy: 0.4688\n",
      "Epoch 34/100\n",
      "302/302 [==============================] - 2s 5ms/step - loss: 1.2492 - categorical_accuracy: 0.5177 - val_loss: 1.3599 - val_categorical_accuracy: 0.4744\n",
      "Epoch 35/100\n",
      "302/302 [==============================] - 2s 5ms/step - loss: 1.2486 - categorical_accuracy: 0.5155 - val_loss: 1.3610 - val_categorical_accuracy: 0.4623\n",
      "Epoch 36/100\n",
      "302/302 [==============================] - 2s 5ms/step - loss: 1.2454 - categorical_accuracy: 0.5197 - val_loss: 1.3692 - val_categorical_accuracy: 0.4623\n",
      "Epoch 37/100\n",
      "302/302 [==============================] - 2s 5ms/step - loss: 1.2502 - categorical_accuracy: 0.5154 - val_loss: 1.3626 - val_categorical_accuracy: 0.4734\n",
      "Epoch 38/100\n",
      "302/302 [==============================] - 2s 5ms/step - loss: 1.2195 - categorical_accuracy: 0.5302 - val_loss: 1.3702 - val_categorical_accuracy: 0.4585\n",
      "Epoch 39/100\n",
      "302/302 [==============================] - 2s 5ms/step - loss: 1.2520 - categorical_accuracy: 0.5175 - val_loss: 1.3619 - val_categorical_accuracy: 0.4800\n",
      "Epoch 40/100\n",
      "302/302 [==============================] - 2s 5ms/step - loss: 1.2461 - categorical_accuracy: 0.5183 - val_loss: 1.3781 - val_categorical_accuracy: 0.4613\n",
      "Epoch 41/100\n",
      "302/302 [==============================] - 2s 5ms/step - loss: 1.2379 - categorical_accuracy: 0.5213 - val_loss: 1.3778 - val_categorical_accuracy: 0.4744\n",
      "Epoch 42/100\n",
      "302/302 [==============================] - 2s 5ms/step - loss: 1.2267 - categorical_accuracy: 0.5306 - val_loss: 1.3795 - val_categorical_accuracy: 0.4520\n",
      "Epoch 43/100\n",
      "302/302 [==============================] - 2s 5ms/step - loss: 1.2269 - categorical_accuracy: 0.5323 - val_loss: 1.3531 - val_categorical_accuracy: 0.4809\n",
      "Epoch 44/100\n",
      "302/302 [==============================] - 2s 5ms/step - loss: 1.2388 - categorical_accuracy: 0.5327 - val_loss: 1.3861 - val_categorical_accuracy: 0.4595\n",
      "Epoch 45/100\n",
      "302/302 [==============================] - 2s 5ms/step - loss: 1.2278 - categorical_accuracy: 0.5290 - val_loss: 1.3744 - val_categorical_accuracy: 0.4697\n",
      "Epoch 46/100\n",
      "302/302 [==============================] - 2s 5ms/step - loss: 1.2185 - categorical_accuracy: 0.5333 - val_loss: 1.3928 - val_categorical_accuracy: 0.4529\n",
      "Epoch 47/100\n",
      "302/302 [==============================] - 2s 5ms/step - loss: 1.2257 - categorical_accuracy: 0.5294 - val_loss: 1.3542 - val_categorical_accuracy: 0.4856\n",
      "Epoch 48/100\n",
      "302/302 [==============================] - 2s 5ms/step - loss: 1.2131 - categorical_accuracy: 0.5345 - val_loss: 1.4054 - val_categorical_accuracy: 0.4529\n",
      "Epoch 49/100\n",
      "302/302 [==============================] - 2s 5ms/step - loss: 1.2298 - categorical_accuracy: 0.5293 - val_loss: 1.4170 - val_categorical_accuracy: 0.4436\n"
     ]
    },
    {
     "name": "stdout",
     "output_type": "stream",
     "text": [
      "Epoch 50/100\n",
      "302/302 [==============================] - 2s 5ms/step - loss: 1.1998 - categorical_accuracy: 0.5405 - val_loss: 1.3839 - val_categorical_accuracy: 0.4688\n",
      "Epoch 51/100\n",
      "302/302 [==============================] - 2s 5ms/step - loss: 1.1979 - categorical_accuracy: 0.5449 - val_loss: 1.3959 - val_categorical_accuracy: 0.4632\n",
      "Epoch 52/100\n",
      "302/302 [==============================] - 2s 5ms/step - loss: 1.2119 - categorical_accuracy: 0.5325 - val_loss: 1.4007 - val_categorical_accuracy: 0.4678\n",
      "Epoch 53/100\n",
      "302/302 [==============================] - 2s 5ms/step - loss: 1.2128 - categorical_accuracy: 0.5373 - val_loss: 1.3830 - val_categorical_accuracy: 0.4809\n",
      "Epoch 54/100\n",
      "302/302 [==============================] - 2s 5ms/step - loss: 1.2142 - categorical_accuracy: 0.5287 - val_loss: 1.3914 - val_categorical_accuracy: 0.4809\n",
      "Epoch 55/100\n",
      "302/302 [==============================] - 2s 5ms/step - loss: 1.2154 - categorical_accuracy: 0.5365 - val_loss: 1.3968 - val_categorical_accuracy: 0.4418\n",
      "Epoch 56/100\n",
      "302/302 [==============================] - 2s 5ms/step - loss: 1.2053 - categorical_accuracy: 0.5487 - val_loss: 1.4116 - val_categorical_accuracy: 0.4511\n",
      "Epoch 57/100\n",
      "302/302 [==============================] - 2s 5ms/step - loss: 1.2028 - categorical_accuracy: 0.5416 - val_loss: 1.4367 - val_categorical_accuracy: 0.4585\n",
      "Epoch 58/100\n",
      "302/302 [==============================] - 2s 5ms/step - loss: 1.2133 - categorical_accuracy: 0.5425 - val_loss: 1.4077 - val_categorical_accuracy: 0.4585\n",
      "Epoch 59/100\n",
      "302/302 [==============================] - 2s 5ms/step - loss: 1.2113 - categorical_accuracy: 0.5299 - val_loss: 1.4076 - val_categorical_accuracy: 0.4716\n",
      "Epoch 60/100\n",
      "302/302 [==============================] - 2s 5ms/step - loss: 1.2088 - categorical_accuracy: 0.5470 - val_loss: 1.4372 - val_categorical_accuracy: 0.4641\n",
      "Epoch 61/100\n",
      "302/302 [==============================] - 2s 5ms/step - loss: 1.2006 - categorical_accuracy: 0.5405 - val_loss: 1.3950 - val_categorical_accuracy: 0.4809\n",
      "Epoch 62/100\n",
      "302/302 [==============================] - 2s 5ms/step - loss: 1.1975 - categorical_accuracy: 0.5344 - val_loss: 1.4071 - val_categorical_accuracy: 0.4669\n",
      "Epoch 63/100\n",
      "302/302 [==============================] - 2s 5ms/step - loss: 1.1817 - categorical_accuracy: 0.5547 - val_loss: 1.4071 - val_categorical_accuracy: 0.4436\n",
      "Epoch 64/100\n",
      "302/302 [==============================] - 2s 5ms/step - loss: 1.1810 - categorical_accuracy: 0.5478 - val_loss: 1.4115 - val_categorical_accuracy: 0.4492\n",
      "Epoch 65/100\n",
      "302/302 [==============================] - 2s 5ms/step - loss: 1.1904 - categorical_accuracy: 0.5440 - val_loss: 1.3802 - val_categorical_accuracy: 0.4557\n",
      "Epoch 66/100\n",
      "302/302 [==============================] - 2s 5ms/step - loss: 1.1961 - categorical_accuracy: 0.5411 - val_loss: 1.3700 - val_categorical_accuracy: 0.4865\n",
      "Epoch 67/100\n",
      "302/302 [==============================] - 2s 5ms/step - loss: 1.1823 - categorical_accuracy: 0.5515 - val_loss: 1.4010 - val_categorical_accuracy: 0.4548\n",
      "Epoch 68/100\n",
      "302/302 [==============================] - 2s 5ms/step - loss: 1.1756 - categorical_accuracy: 0.5511 - val_loss: 1.4421 - val_categorical_accuracy: 0.4529\n",
      "Epoch 69/100\n",
      "302/302 [==============================] - 2s 5ms/step - loss: 1.1743 - categorical_accuracy: 0.5504 - val_loss: 1.4282 - val_categorical_accuracy: 0.4483\n",
      "Epoch 70/100\n",
      "302/302 [==============================] - 2s 5ms/step - loss: 1.1726 - categorical_accuracy: 0.5540 - val_loss: 1.4330 - val_categorical_accuracy: 0.4613\n",
      "Epoch 71/100\n",
      "302/302 [==============================] - 2s 5ms/step - loss: 1.1697 - categorical_accuracy: 0.5576 - val_loss: 1.3969 - val_categorical_accuracy: 0.4455\n",
      "Epoch 72/100\n",
      "302/302 [==============================] - 2s 5ms/step - loss: 1.1839 - categorical_accuracy: 0.5498 - val_loss: 1.4063 - val_categorical_accuracy: 0.4548\n",
      "Epoch 73/100\n",
      "302/302 [==============================] - 2s 5ms/step - loss: 1.1704 - categorical_accuracy: 0.5549 - val_loss: 1.4156 - val_categorical_accuracy: 0.4473\n",
      "Epoch 74/100\n",
      "302/302 [==============================] - 2s 5ms/step - loss: 1.1472 - categorical_accuracy: 0.5644 - val_loss: 1.4412 - val_categorical_accuracy: 0.4641\n",
      "Epoch 75/100\n",
      "302/302 [==============================] - 2s 5ms/step - loss: 1.1726 - categorical_accuracy: 0.5576 - val_loss: 1.4462 - val_categorical_accuracy: 0.4772\n",
      "Epoch 76/100\n",
      "302/302 [==============================] - 2s 5ms/step - loss: 1.1729 - categorical_accuracy: 0.5524 - val_loss: 1.4159 - val_categorical_accuracy: 0.4427\n",
      "Epoch 77/100\n",
      "302/302 [==============================] - 2s 5ms/step - loss: 1.1675 - categorical_accuracy: 0.5593 - val_loss: 1.4359 - val_categorical_accuracy: 0.4511\n",
      "Epoch 78/100\n",
      "302/302 [==============================] - 2s 5ms/step - loss: 1.1609 - categorical_accuracy: 0.5529 - val_loss: 1.4003 - val_categorical_accuracy: 0.4678\n",
      "Epoch 79/100\n",
      "302/302 [==============================] - 2s 5ms/step - loss: 1.1513 - categorical_accuracy: 0.5536 - val_loss: 1.4421 - val_categorical_accuracy: 0.4473\n",
      "Epoch 80/100\n",
      "302/302 [==============================] - 2s 5ms/step - loss: 1.1609 - categorical_accuracy: 0.5612 - val_loss: 1.4386 - val_categorical_accuracy: 0.4585\n",
      "Epoch 81/100\n",
      "302/302 [==============================] - 2s 5ms/step - loss: 1.1507 - categorical_accuracy: 0.5635 - val_loss: 1.4556 - val_categorical_accuracy: 0.4427\n",
      "Epoch 82/100\n",
      "302/302 [==============================] - 2s 5ms/step - loss: 1.1653 - categorical_accuracy: 0.5599 - val_loss: 1.4616 - val_categorical_accuracy: 0.4520\n",
      "Epoch 83/100\n",
      "302/302 [==============================] - 2s 5ms/step - loss: 1.1504 - categorical_accuracy: 0.5651 - val_loss: 1.4630 - val_categorical_accuracy: 0.4529\n",
      "Epoch 84/100\n",
      "302/302 [==============================] - 2s 5ms/step - loss: 1.1500 - categorical_accuracy: 0.5630 - val_loss: 1.4478 - val_categorical_accuracy: 0.4585\n",
      "Epoch 85/100\n",
      "302/302 [==============================] - 2s 5ms/step - loss: 1.1646 - categorical_accuracy: 0.5582 - val_loss: 1.4314 - val_categorical_accuracy: 0.4716\n",
      "Epoch 86/100\n",
      "302/302 [==============================] - 2s 5ms/step - loss: 1.1494 - categorical_accuracy: 0.5707 - val_loss: 1.4626 - val_categorical_accuracy: 0.4445\n",
      "Epoch 87/100\n",
      "302/302 [==============================] - 2s 5ms/step - loss: 1.1312 - categorical_accuracy: 0.5678 - val_loss: 1.4507 - val_categorical_accuracy: 0.4455\n",
      "Epoch 88/100\n",
      "302/302 [==============================] - 2s 5ms/step - loss: 1.1515 - categorical_accuracy: 0.5562 - val_loss: 1.4269 - val_categorical_accuracy: 0.4678\n",
      "Epoch 89/100\n",
      "302/302 [==============================] - 2s 5ms/step - loss: 1.1343 - categorical_accuracy: 0.5620 - val_loss: 1.4195 - val_categorical_accuracy: 0.4651\n",
      "Epoch 90/100\n",
      "302/302 [==============================] - 2s 5ms/step - loss: 1.1475 - categorical_accuracy: 0.5655 - val_loss: 1.4449 - val_categorical_accuracy: 0.4781\n",
      "Epoch 91/100\n",
      "302/302 [==============================] - 2s 5ms/step - loss: 1.1415 - categorical_accuracy: 0.5645 - val_loss: 1.4404 - val_categorical_accuracy: 0.4501\n",
      "Epoch 92/100\n",
      "302/302 [==============================] - 2s 5ms/step - loss: 1.1141 - categorical_accuracy: 0.5803 - val_loss: 1.4247 - val_categorical_accuracy: 0.4445\n",
      "Epoch 93/100\n",
      "302/302 [==============================] - 2s 5ms/step - loss: 1.1404 - categorical_accuracy: 0.5613 - val_loss: 1.4455 - val_categorical_accuracy: 0.4529\n",
      "Epoch 94/100\n",
      "302/302 [==============================] - 2s 5ms/step - loss: 1.1317 - categorical_accuracy: 0.5642 - val_loss: 1.4566 - val_categorical_accuracy: 0.4464\n",
      "Epoch 95/100\n",
      "302/302 [==============================] - 2s 5ms/step - loss: 1.1060 - categorical_accuracy: 0.5762 - val_loss: 1.4764 - val_categorical_accuracy: 0.4324\n",
      "Epoch 96/100\n",
      "302/302 [==============================] - 2s 5ms/step - loss: 1.1177 - categorical_accuracy: 0.5736 - val_loss: 1.4151 - val_categorical_accuracy: 0.4548\n",
      "Epoch 97/100\n",
      "302/302 [==============================] - 2s 5ms/step - loss: 1.1272 - categorical_accuracy: 0.5770 - val_loss: 1.4403 - val_categorical_accuracy: 0.4623\n",
      "Epoch 98/100\n",
      "302/302 [==============================] - 2s 5ms/step - loss: 1.1168 - categorical_accuracy: 0.5736 - val_loss: 1.4587 - val_categorical_accuracy: 0.4548\n"
     ]
    },
    {
     "name": "stdout",
     "output_type": "stream",
     "text": [
      "Epoch 99/100\n",
      "302/302 [==============================] - 2s 5ms/step - loss: 1.1326 - categorical_accuracy: 0.5640 - val_loss: 1.4896 - val_categorical_accuracy: 0.4604\n",
      "Epoch 100/100\n",
      "302/302 [==============================] - 2s 5ms/step - loss: 1.1222 - categorical_accuracy: 0.5695 - val_loss: 1.4678 - val_categorical_accuracy: 0.4613\n"
     ]
    },
    {
     "data": {
      "text/plain": [
       "<tensorflow.python.keras.callbacks.History at 0x7f6e31f51810>"
      ]
     },
     "execution_count": 235,
     "metadata": {},
     "output_type": "execute_result"
    }
   ],
   "source": [
    "cnn.fit(x=X, y=y, batch_size=32, epochs=100, validation_split=0.1)"
   ]
  },
  {
   "cell_type": "markdown",
   "id": "3bc101e8",
   "metadata": {},
   "source": [
    "### Prediction"
   ]
  },
  {
   "cell_type": "code",
   "execution_count": 236,
   "id": "e0a16244",
   "metadata": {},
   "outputs": [
    {
     "name": "stdout",
     "output_type": "stream",
     "text": [
      "(1192, 30, 128)\n"
     ]
    }
   ],
   "source": [
    "# Put input data into vector format for training MLP\n",
    "x_test = np.array(X_test['vector_ponderado'].to_list())\n",
    "print(x_test.shape)"
   ]
  },
  {
   "cell_type": "code",
   "execution_count": 237,
   "id": "fa63eb8c",
   "metadata": {},
   "outputs": [
    {
     "data": {
      "text/plain": [
       "True"
      ]
     },
     "execution_count": 237,
     "metadata": {},
     "output_type": "execute_result"
    }
   ],
   "source": [
    "np.any(np.isnan(x_test))"
   ]
  },
  {
   "cell_type": "code",
   "execution_count": 238,
   "id": "997a678b",
   "metadata": {},
   "outputs": [],
   "source": [
    "x_test=np.nan_to_num(x_test)"
   ]
  },
  {
   "cell_type": "code",
   "execution_count": 239,
   "id": "fb672fc1",
   "metadata": {},
   "outputs": [
    {
     "data": {
      "text/plain": [
       "False"
      ]
     },
     "execution_count": 239,
     "metadata": {},
     "output_type": "execute_result"
    }
   ],
   "source": [
    "np.any(np.isnan(x_test))"
   ]
  },
  {
   "cell_type": "code",
   "execution_count": 240,
   "id": "a3feabab",
   "metadata": {},
   "outputs": [
    {
     "name": "stdout",
     "output_type": "stream",
     "text": [
      "['1' '3' '1' ... '1' '6' '3']\n",
      "tf.Tensor(\n",
      "[[0. 1. 0. ... 0. 0. 0.]\n",
      " [0. 0. 0. ... 0. 0. 0.]\n",
      " [0. 1. 0. ... 0. 0. 0.]\n",
      " ...\n",
      " [0. 1. 0. ... 0. 0. 0.]\n",
      " [0. 0. 0. ... 0. 1. 0.]\n",
      " [0. 0. 0. ... 0. 0. 0.]], shape=(1192, 8), dtype=float32)\n"
     ]
    }
   ],
   "source": [
    "# Put output data into vector format for training MLP\n",
    "Y_test= y_test['cluster'].to_numpy()\n",
    "print(Y_test)\n",
    "\n",
    "Y_test= tf.one_hot(Y_test, depth=8)\n",
    "print(Y_test)"
   ]
  },
  {
   "cell_type": "code",
   "execution_count": 97,
   "id": "218188e4",
   "metadata": {},
   "outputs": [
    {
     "name": "stdout",
     "output_type": "stream",
     "text": [
      "(21446, 30, 128)\n"
     ]
    }
   ],
   "source": [
    "# Put input data into vector format for training MLP\n",
    "X1 = np.array(X1_test['rows'].to_list())\n",
    "print(X1.shape)"
   ]
  },
  {
   "cell_type": "code",
   "execution_count": 98,
   "id": "2bbe1936",
   "metadata": {},
   "outputs": [
    {
     "name": "stdout",
     "output_type": "stream",
     "text": [
      "['3' '3' '3' ... '6' '4' '3']\n",
      "tf.Tensor(\n",
      "[[0. 0. 0. ... 0. 0. 0.]\n",
      " [0. 0. 0. ... 0. 0. 0.]\n",
      " [0. 0. 0. ... 0. 0. 0.]\n",
      " ...\n",
      " [0. 0. 0. ... 0. 1. 0.]\n",
      " [0. 0. 0. ... 0. 0. 0.]\n",
      " [0. 0. 0. ... 0. 0. 0.]], shape=(21446, 8), dtype=float32)\n"
     ]
    }
   ],
   "source": [
    "# Put output data into vector format for training MLP\n",
    "y1 = y1_test['cluster'].to_numpy()\n",
    "print(y1)\n",
    "\n",
    "y1 = tf.one_hot(y1, depth=8)\n",
    "print(y1)"
   ]
  },
  {
   "cell_type": "code",
   "execution_count": 241,
   "id": "9d03c2a3",
   "metadata": {},
   "outputs": [
    {
     "name": "stdout",
     "output_type": "stream",
     "text": [
      "336/336 [==============================] - 0s 1ms/step - loss: 1.0337 - categorical_accuracy: 0.6247\n"
     ]
    }
   ],
   "source": [
    "p2=cnn.evaluate(X,y)"
   ]
  },
  {
   "cell_type": "code",
   "execution_count": 242,
   "id": "1c97da2a",
   "metadata": {},
   "outputs": [
    {
     "name": "stdout",
     "output_type": "stream",
     "text": [
      "38/38 [==============================] - 0s 2ms/step - loss: 1.4970 - categorical_accuracy: 0.4505\n"
     ]
    }
   ],
   "source": [
    "p2=cnn.evaluate(x_test,Y_test)"
   ]
  },
  {
   "cell_type": "code",
   "execution_count": 129,
   "id": "8ed0d92c",
   "metadata": {},
   "outputs": [
    {
     "name": "stdout",
     "output_type": "stream",
     "text": [
      "671/671 [==============================] - 1s 1ms/step - loss: 2.0802 - categorical_accuracy: 0.0158\n"
     ]
    }
   ],
   "source": [
    "p3=cnn.evaluate(X1,y1)"
   ]
  }
 ],
 "metadata": {
  "kernelspec": {
   "display_name": "deep_learning",
   "language": "python",
   "name": "deep_learning"
  },
  "language_info": {
   "codemirror_mode": {
    "name": "ipython",
    "version": 3
   },
   "file_extension": ".py",
   "mimetype": "text/x-python",
   "name": "python",
   "nbconvert_exporter": "python",
   "pygments_lexer": "ipython3",
   "version": "3.7.4"
  }
 },
 "nbformat": 4,
 "nbformat_minor": 5
}
