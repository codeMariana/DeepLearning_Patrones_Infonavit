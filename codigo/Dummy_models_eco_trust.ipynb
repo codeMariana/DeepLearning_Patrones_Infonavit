{
  "cells": [
    {
      "cell_type": "code",
      "execution_count": 1,
      "id": "8986ebe0",
      "metadata": {
        "id": "8986ebe0"
      },
      "outputs": [],
      "source": [
        "import numpy as np\n",
        "import pandas as pd\n",
        "import matplotlib.pyplot as plt"
      ]
    },
    {
      "cell_type": "markdown",
      "id": "a6823e1b",
      "metadata": {
        "id": "a6823e1b"
      },
      "source": [
        "# Section 0: create dummy dataset"
      ]
    },
    {
      "cell_type": "code",
      "execution_count": 2,
      "id": "16e58931",
      "metadata": {
        "colab": {
          "base_uri": "https://localhost:8080/"
        },
        "id": "16e58931",
        "outputId": "a9a4ecba-a7db-44de-eba1-86fec5cb73f2"
      },
      "outputs": [
        {
          "output_type": "stream",
          "name": "stdout",
          "text": [
            "10 matrices\n",
            "Each of size (30, 128)\n"
          ]
        }
      ],
      "source": [
        "# Initialize dummy embeddings\n",
        "embeddings = list(np.random.rand(10, 30, 128))\n",
        "print(len(embeddings), 'matrices')\n",
        "print('Each of size', embeddings[0].shape)"
      ]
    },
    {
      "cell_type": "code",
      "execution_count": 3,
      "id": "f35943c2",
      "metadata": {
        "colab": {
          "base_uri": "https://localhost:8080/"
        },
        "id": "f35943c2",
        "outputId": "30e25399-c3ca-43b1-fc29-90c26f250c98"
      },
      "outputs": [
        {
          "output_type": "execute_result",
          "data": {
            "text/plain": [
              "array([1, 3, 3, 1, 3, 5, 1, 3, 2, 3])"
            ]
          },
          "metadata": {},
          "execution_count": 3
        }
      ],
      "source": [
        "# Initialize dummy cluster assignment\n",
        "clusters = np.random.randint(low=0, high=6, size=10)\n",
        "clusters"
      ]
    },
    {
      "cell_type": "code",
      "execution_count": 4,
      "id": "5bb29c65",
      "metadata": {
        "colab": {
          "base_uri": "https://localhost:8080/",
          "height": 363
        },
        "id": "5bb29c65",
        "outputId": "e395b7fb-7210-464f-8361-28208feb2679"
      },
      "outputs": [
        {
          "output_type": "execute_result",
          "data": {
            "text/plain": [
              "  Company                                         Embeddings  Cluster\n",
              "0      C1  [[0.8258112807923055, 0.7093365711600838, 0.69...        1\n",
              "1      C2  [[0.44706242179775046, 0.7119396749264167, 0.4...        3\n",
              "2      C3  [[0.6327397616895103, 0.49454607076609125, 0.2...        3\n",
              "3      C4  [[0.3520376338713338, 0.9940108795963187, 0.75...        1\n",
              "4      C5  [[0.9799358560660345, 0.5865449070453463, 0.48...        3\n",
              "5      C6  [[0.8506060550501765, 0.7980685609749092, 0.15...        5\n",
              "6      C7  [[0.5591508977811575, 0.9793517068709138, 0.33...        1\n",
              "7      C8  [[0.6948356182372877, 0.7009451736365836, 0.23...        3\n",
              "8      C9  [[0.14963114698496716, 0.45959908528823923, 0....        2\n",
              "9     C10  [[0.5129708058756499, 0.18101267339440674, 0.4...        3"
            ],
            "text/html": [
              "\n",
              "  <div id=\"df-0fbf971e-f04b-41af-9ff0-703738dd1f45\">\n",
              "    <div class=\"colab-df-container\">\n",
              "      <div>\n",
              "<style scoped>\n",
              "    .dataframe tbody tr th:only-of-type {\n",
              "        vertical-align: middle;\n",
              "    }\n",
              "\n",
              "    .dataframe tbody tr th {\n",
              "        vertical-align: top;\n",
              "    }\n",
              "\n",
              "    .dataframe thead th {\n",
              "        text-align: right;\n",
              "    }\n",
              "</style>\n",
              "<table border=\"1\" class=\"dataframe\">\n",
              "  <thead>\n",
              "    <tr style=\"text-align: right;\">\n",
              "      <th></th>\n",
              "      <th>Company</th>\n",
              "      <th>Embeddings</th>\n",
              "      <th>Cluster</th>\n",
              "    </tr>\n",
              "  </thead>\n",
              "  <tbody>\n",
              "    <tr>\n",
              "      <th>0</th>\n",
              "      <td>C1</td>\n",
              "      <td>[[0.8258112807923055, 0.7093365711600838, 0.69...</td>\n",
              "      <td>1</td>\n",
              "    </tr>\n",
              "    <tr>\n",
              "      <th>1</th>\n",
              "      <td>C2</td>\n",
              "      <td>[[0.44706242179775046, 0.7119396749264167, 0.4...</td>\n",
              "      <td>3</td>\n",
              "    </tr>\n",
              "    <tr>\n",
              "      <th>2</th>\n",
              "      <td>C3</td>\n",
              "      <td>[[0.6327397616895103, 0.49454607076609125, 0.2...</td>\n",
              "      <td>3</td>\n",
              "    </tr>\n",
              "    <tr>\n",
              "      <th>3</th>\n",
              "      <td>C4</td>\n",
              "      <td>[[0.3520376338713338, 0.9940108795963187, 0.75...</td>\n",
              "      <td>1</td>\n",
              "    </tr>\n",
              "    <tr>\n",
              "      <th>4</th>\n",
              "      <td>C5</td>\n",
              "      <td>[[0.9799358560660345, 0.5865449070453463, 0.48...</td>\n",
              "      <td>3</td>\n",
              "    </tr>\n",
              "    <tr>\n",
              "      <th>5</th>\n",
              "      <td>C6</td>\n",
              "      <td>[[0.8506060550501765, 0.7980685609749092, 0.15...</td>\n",
              "      <td>5</td>\n",
              "    </tr>\n",
              "    <tr>\n",
              "      <th>6</th>\n",
              "      <td>C7</td>\n",
              "      <td>[[0.5591508977811575, 0.9793517068709138, 0.33...</td>\n",
              "      <td>1</td>\n",
              "    </tr>\n",
              "    <tr>\n",
              "      <th>7</th>\n",
              "      <td>C8</td>\n",
              "      <td>[[0.6948356182372877, 0.7009451736365836, 0.23...</td>\n",
              "      <td>3</td>\n",
              "    </tr>\n",
              "    <tr>\n",
              "      <th>8</th>\n",
              "      <td>C9</td>\n",
              "      <td>[[0.14963114698496716, 0.45959908528823923, 0....</td>\n",
              "      <td>2</td>\n",
              "    </tr>\n",
              "    <tr>\n",
              "      <th>9</th>\n",
              "      <td>C10</td>\n",
              "      <td>[[0.5129708058756499, 0.18101267339440674, 0.4...</td>\n",
              "      <td>3</td>\n",
              "    </tr>\n",
              "  </tbody>\n",
              "</table>\n",
              "</div>\n",
              "      <button class=\"colab-df-convert\" onclick=\"convertToInteractive('df-0fbf971e-f04b-41af-9ff0-703738dd1f45')\"\n",
              "              title=\"Convert this dataframe to an interactive table.\"\n",
              "              style=\"display:none;\">\n",
              "        \n",
              "  <svg xmlns=\"http://www.w3.org/2000/svg\" height=\"24px\"viewBox=\"0 0 24 24\"\n",
              "       width=\"24px\">\n",
              "    <path d=\"M0 0h24v24H0V0z\" fill=\"none\"/>\n",
              "    <path d=\"M18.56 5.44l.94 2.06.94-2.06 2.06-.94-2.06-.94-.94-2.06-.94 2.06-2.06.94zm-11 1L8.5 8.5l.94-2.06 2.06-.94-2.06-.94L8.5 2.5l-.94 2.06-2.06.94zm10 10l.94 2.06.94-2.06 2.06-.94-2.06-.94-.94-2.06-.94 2.06-2.06.94z\"/><path d=\"M17.41 7.96l-1.37-1.37c-.4-.4-.92-.59-1.43-.59-.52 0-1.04.2-1.43.59L10.3 9.45l-7.72 7.72c-.78.78-.78 2.05 0 2.83L4 21.41c.39.39.9.59 1.41.59.51 0 1.02-.2 1.41-.59l7.78-7.78 2.81-2.81c.8-.78.8-2.07 0-2.86zM5.41 20L4 18.59l7.72-7.72 1.47 1.35L5.41 20z\"/>\n",
              "  </svg>\n",
              "      </button>\n",
              "      \n",
              "  <style>\n",
              "    .colab-df-container {\n",
              "      display:flex;\n",
              "      flex-wrap:wrap;\n",
              "      gap: 12px;\n",
              "    }\n",
              "\n",
              "    .colab-df-convert {\n",
              "      background-color: #E8F0FE;\n",
              "      border: none;\n",
              "      border-radius: 50%;\n",
              "      cursor: pointer;\n",
              "      display: none;\n",
              "      fill: #1967D2;\n",
              "      height: 32px;\n",
              "      padding: 0 0 0 0;\n",
              "      width: 32px;\n",
              "    }\n",
              "\n",
              "    .colab-df-convert:hover {\n",
              "      background-color: #E2EBFA;\n",
              "      box-shadow: 0px 1px 2px rgba(60, 64, 67, 0.3), 0px 1px 3px 1px rgba(60, 64, 67, 0.15);\n",
              "      fill: #174EA6;\n",
              "    }\n",
              "\n",
              "    [theme=dark] .colab-df-convert {\n",
              "      background-color: #3B4455;\n",
              "      fill: #D2E3FC;\n",
              "    }\n",
              "\n",
              "    [theme=dark] .colab-df-convert:hover {\n",
              "      background-color: #434B5C;\n",
              "      box-shadow: 0px 1px 3px 1px rgba(0, 0, 0, 0.15);\n",
              "      filter: drop-shadow(0px 1px 2px rgba(0, 0, 0, 0.3));\n",
              "      fill: #FFFFFF;\n",
              "    }\n",
              "  </style>\n",
              "\n",
              "      <script>\n",
              "        const buttonEl =\n",
              "          document.querySelector('#df-0fbf971e-f04b-41af-9ff0-703738dd1f45 button.colab-df-convert');\n",
              "        buttonEl.style.display =\n",
              "          google.colab.kernel.accessAllowed ? 'block' : 'none';\n",
              "\n",
              "        async function convertToInteractive(key) {\n",
              "          const element = document.querySelector('#df-0fbf971e-f04b-41af-9ff0-703738dd1f45');\n",
              "          const dataTable =\n",
              "            await google.colab.kernel.invokeFunction('convertToInteractive',\n",
              "                                                     [key], {});\n",
              "          if (!dataTable) return;\n",
              "\n",
              "          const docLinkHtml = 'Like what you see? Visit the ' +\n",
              "            '<a target=\"_blank\" href=https://colab.research.google.com/notebooks/data_table.ipynb>data table notebook</a>'\n",
              "            + ' to learn more about interactive tables.';\n",
              "          element.innerHTML = '';\n",
              "          dataTable['output_type'] = 'display_data';\n",
              "          await google.colab.output.renderOutput(dataTable, element);\n",
              "          const docLink = document.createElement('div');\n",
              "          docLink.innerHTML = docLinkHtml;\n",
              "          element.appendChild(docLink);\n",
              "        }\n",
              "      </script>\n",
              "    </div>\n",
              "  </div>\n",
              "  "
            ]
          },
          "metadata": {},
          "execution_count": 4
        }
      ],
      "source": [
        "# Concatenate into a pandas dataframe\n",
        "dummy_data = {\n",
        "    'Company' : ['C1', 'C2', 'C3', 'C4', 'C5', 'C6', 'C7', 'C8', 'C9', 'C10'],\n",
        "    'Embeddings' : embeddings,\n",
        "    'Cluster' : clusters,\n",
        "}\n",
        "\n",
        "df = pd.DataFrame(dummy_data)\n",
        "df"
      ]
    },
    {
      "cell_type": "code",
      "execution_count": null,
      "id": "4ccda780",
      "metadata": {
        "id": "4ccda780"
      },
      "outputs": [],
      "source": [
        "# Save to disk\n",
        "df.to_pickle('dummy_dataset.pkl')\n",
        "del df"
      ]
    },
    {
      "cell_type": "code",
      "execution_count": null,
      "id": "7450d07e",
      "metadata": {
        "id": "7450d07e",
        "outputId": "ef0fe5dc-cecb-4ac0-c011-c76b56970d93"
      },
      "outputs": [
        {
          "data": {
            "text/html": [
              "<div>\n",
              "<style scoped>\n",
              "    .dataframe tbody tr th:only-of-type {\n",
              "        vertical-align: middle;\n",
              "    }\n",
              "\n",
              "    .dataframe tbody tr th {\n",
              "        vertical-align: top;\n",
              "    }\n",
              "\n",
              "    .dataframe thead th {\n",
              "        text-align: right;\n",
              "    }\n",
              "</style>\n",
              "<table border=\"1\" class=\"dataframe\">\n",
              "  <thead>\n",
              "    <tr style=\"text-align: right;\">\n",
              "      <th></th>\n",
              "      <th>Company</th>\n",
              "      <th>Embeddings</th>\n",
              "      <th>Cluster</th>\n",
              "    </tr>\n",
              "  </thead>\n",
              "  <tbody>\n",
              "    <tr>\n",
              "      <th>0</th>\n",
              "      <td>C1</td>\n",
              "      <td>[[0.6108360116243844, 0.47280295280953244, 0.4...</td>\n",
              "      <td>1</td>\n",
              "    </tr>\n",
              "    <tr>\n",
              "      <th>1</th>\n",
              "      <td>C2</td>\n",
              "      <td>[[0.40764337130391215, 0.9127904109881451, 0.1...</td>\n",
              "      <td>0</td>\n",
              "    </tr>\n",
              "    <tr>\n",
              "      <th>2</th>\n",
              "      <td>C3</td>\n",
              "      <td>[[0.7955283670949934, 0.17904580845690865, 0.1...</td>\n",
              "      <td>0</td>\n",
              "    </tr>\n",
              "    <tr>\n",
              "      <th>3</th>\n",
              "      <td>C4</td>\n",
              "      <td>[[0.4674340486126384, 0.5832719196271765, 0.59...</td>\n",
              "      <td>4</td>\n",
              "    </tr>\n",
              "    <tr>\n",
              "      <th>4</th>\n",
              "      <td>C5</td>\n",
              "      <td>[[0.2012101348417974, 0.9501009440517605, 0.27...</td>\n",
              "      <td>5</td>\n",
              "    </tr>\n",
              "    <tr>\n",
              "      <th>5</th>\n",
              "      <td>C6</td>\n",
              "      <td>[[0.9335873569339934, 0.3644047243175257, 0.27...</td>\n",
              "      <td>1</td>\n",
              "    </tr>\n",
              "    <tr>\n",
              "      <th>6</th>\n",
              "      <td>C7</td>\n",
              "      <td>[[0.31356810911294763, 0.39852582188462327, 0....</td>\n",
              "      <td>1</td>\n",
              "    </tr>\n",
              "    <tr>\n",
              "      <th>7</th>\n",
              "      <td>C8</td>\n",
              "      <td>[[0.6280905106976582, 0.72680347623623, 0.7878...</td>\n",
              "      <td>1</td>\n",
              "    </tr>\n",
              "    <tr>\n",
              "      <th>8</th>\n",
              "      <td>C9</td>\n",
              "      <td>[[0.6226514063978892, 0.7770111278478028, 0.87...</td>\n",
              "      <td>2</td>\n",
              "    </tr>\n",
              "    <tr>\n",
              "      <th>9</th>\n",
              "      <td>C10</td>\n",
              "      <td>[[0.36758646381578575, 0.2987434066766984, 0.1...</td>\n",
              "      <td>3</td>\n",
              "    </tr>\n",
              "  </tbody>\n",
              "</table>\n",
              "</div>"
            ],
            "text/plain": [
              "  Company                                         Embeddings  Cluster\n",
              "0      C1  [[0.6108360116243844, 0.47280295280953244, 0.4...        1\n",
              "1      C2  [[0.40764337130391215, 0.9127904109881451, 0.1...        0\n",
              "2      C3  [[0.7955283670949934, 0.17904580845690865, 0.1...        0\n",
              "3      C4  [[0.4674340486126384, 0.5832719196271765, 0.59...        4\n",
              "4      C5  [[0.2012101348417974, 0.9501009440517605, 0.27...        5\n",
              "5      C6  [[0.9335873569339934, 0.3644047243175257, 0.27...        1\n",
              "6      C7  [[0.31356810911294763, 0.39852582188462327, 0....        1\n",
              "7      C8  [[0.6280905106976582, 0.72680347623623, 0.7878...        1\n",
              "8      C9  [[0.6226514063978892, 0.7770111278478028, 0.87...        2\n",
              "9     C10  [[0.36758646381578575, 0.2987434066766984, 0.1...        3"
            ]
          },
          "execution_count": 13,
          "metadata": {},
          "output_type": "execute_result"
        }
      ],
      "source": [
        "# Load back from disk\n",
        "df = pd.read_pickle(\"dummy_dataset.pkl\")\n",
        "df"
      ]
    },
    {
      "cell_type": "markdown",
      "id": "f0b976dd",
      "metadata": {
        "id": "f0b976dd"
      },
      "source": [
        "# Section 1: MLP - fully connected"
      ]
    },
    {
      "cell_type": "code",
      "execution_count": 10,
      "id": "8abd45e9",
      "metadata": {
        "id": "8abd45e9"
      },
      "outputs": [],
      "source": [
        "import tensorflow as tf\n",
        "from tensorflow.keras.models import Sequential\n",
        "from tensorflow.keras.layers import Input, Dense"
      ]
    },
    {
      "cell_type": "code",
      "execution_count": 5,
      "id": "2ea7dff1",
      "metadata": {
        "colab": {
          "base_uri": "https://localhost:8080/"
        },
        "id": "2ea7dff1",
        "outputId": "c9362f71-d680-4b51-c092-d1fde90ee8af"
      },
      "outputs": [
        {
          "output_type": "stream",
          "name": "stdout",
          "text": [
            "(10, 30, 128)\n",
            "(10, 3840)\n"
          ]
        }
      ],
      "source": [
        "# Put input data into vector format for training MLP\n",
        "X = np.array(df['Embeddings'].to_list())\n",
        "print(X.shape)\n",
        "\n",
        "X = X.reshape((len(X), -1))\n",
        "print(X.shape)"
      ]
    },
    {
      "cell_type": "code",
      "execution_count": 12,
      "id": "395c8b0b",
      "metadata": {
        "colab": {
          "base_uri": "https://localhost:8080/"
        },
        "id": "395c8b0b",
        "outputId": "54c8f31f-251d-4d95-a928-500db768130a"
      },
      "outputs": [
        {
          "output_type": "stream",
          "name": "stdout",
          "text": [
            "[1 3 3 1 3 5 1 3 2 3]\n",
            "tf.Tensor(\n",
            "[[0. 1. 0. 0. 0. 0.]\n",
            " [0. 0. 0. 1. 0. 0.]\n",
            " [0. 0. 0. 1. 0. 0.]\n",
            " [0. 1. 0. 0. 0. 0.]\n",
            " [0. 0. 0. 1. 0. 0.]\n",
            " [0. 0. 0. 0. 0. 1.]\n",
            " [0. 1. 0. 0. 0. 0.]\n",
            " [0. 0. 0. 1. 0. 0.]\n",
            " [0. 0. 1. 0. 0. 0.]\n",
            " [0. 0. 0. 1. 0. 0.]], shape=(10, 6), dtype=float32)\n"
          ]
        }
      ],
      "source": [
        "# Put output data into vector format for training MLP\n",
        "y = df['Cluster'].to_numpy()\n",
        "print(y)\n",
        "\n",
        "y = tf.one_hot(y, depth=6)\n",
        "print(y)"
      ]
    },
    {
      "cell_type": "code",
      "execution_count": 13,
      "id": "1b93326c",
      "metadata": {
        "colab": {
          "base_uri": "https://localhost:8080/"
        },
        "id": "1b93326c",
        "outputId": "b23a631a-e7b6-4528-ed62-654995318690"
      },
      "outputs": [
        {
          "output_type": "stream",
          "name": "stdout",
          "text": [
            "Model: \"sequential\"\n",
            "_________________________________________________________________\n",
            " Layer (type)                Output Shape              Param #   \n",
            "=================================================================\n",
            " dense (Dense)               (None, 512)               1966592   \n",
            "                                                                 \n",
            " dense_1 (Dense)             (None, 128)               65664     \n",
            "                                                                 \n",
            " dense_2 (Dense)             (None, 32)                4128      \n",
            "                                                                 \n",
            " dense_3 (Dense)             (None, 6)                 198       \n",
            "                                                                 \n",
            "=================================================================\n",
            "Total params: 2,036,582\n",
            "Trainable params: 2,036,582\n",
            "Non-trainable params: 0\n",
            "_________________________________________________________________\n"
          ]
        }
      ],
      "source": [
        "# Creat MLP\n",
        "mlp = Sequential([\n",
        "                  Input(shape=(X.shape[1])),\n",
        "                  Dense(512, activation='relu'),\n",
        "                  Dense(128, activation='relu'),\n",
        "                  Dense( 32, activation='relu'),\n",
        "                  Dense(y.shape[1], activation='softmax')\n",
        "])\n",
        "\n",
        "mlp.summary()"
      ]
    },
    {
      "cell_type": "code",
      "execution_count": 14,
      "id": "a38ecafe",
      "metadata": {
        "id": "a38ecafe"
      },
      "outputs": [],
      "source": [
        "# Define training parameters\n",
        "mlp.compile(optimizer='adam', loss='categorical_crossentropy')"
      ]
    },
    {
      "cell_type": "code",
      "source": [
        "# Train model\n",
        "mlp.fit(x=X, y=y, batch_size=4, epochs=2, validation_split=0.1)"
      ],
      "metadata": {
        "colab": {
          "base_uri": "https://localhost:8080/"
        },
        "id": "evYk5oJT7Zuv",
        "outputId": "81f57996-33f2-41dc-ab0a-bc7d9fb0b53f"
      },
      "id": "evYk5oJT7Zuv",
      "execution_count": 15,
      "outputs": [
        {
          "output_type": "stream",
          "name": "stdout",
          "text": [
            "Epoch 1/2\n",
            "3/3 [==============================] - 1s 103ms/step - loss: 2.1674 - val_loss: 6.5749\n",
            "Epoch 2/2\n",
            "3/3 [==============================] - 0s 24ms/step - loss: 3.5138 - val_loss: 0.5571\n"
          ]
        },
        {
          "output_type": "execute_result",
          "data": {
            "text/plain": [
              "<keras.callbacks.History at 0x7fd0ed385c90>"
            ]
          },
          "metadata": {},
          "execution_count": 15
        }
      ]
    },
    {
      "cell_type": "markdown",
      "source": [
        "# Section 2: Conv NN"
      ],
      "metadata": {
        "id": "fEEYc1_87xEw"
      },
      "id": "fEEYc1_87xEw"
    },
    {
      "cell_type": "code",
      "source": [
        "import tensorflow as tf\n",
        "from tensorflow.keras.models import Sequential\n",
        "from tensorflow.keras.layers import Input, Dense, Conv2D, MaxPool2D, Flatten"
      ],
      "metadata": {
        "id": "hDmmM1HQ7spG"
      },
      "id": "hDmmM1HQ7spG",
      "execution_count": 24,
      "outputs": []
    },
    {
      "cell_type": "code",
      "source": [
        "# Put input data into vector format for training MLP\n",
        "X = np.array(df['Embeddings'].to_list())\n",
        "print(X.shape)\n",
        "\n",
        "X = X.reshape((len(X), X.shape[1], X.shape[2], 1))\n",
        "print(X.shape)"
      ],
      "metadata": {
        "colab": {
          "base_uri": "https://localhost:8080/"
        },
        "id": "h-Y68Fyj7pSE",
        "outputId": "3c46c946-a10b-431c-d6cc-251e2787db93"
      },
      "id": "h-Y68Fyj7pSE",
      "execution_count": 17,
      "outputs": [
        {
          "output_type": "stream",
          "name": "stdout",
          "text": [
            "(10, 30, 128)\n",
            "(10, 30, 128, 1)\n"
          ]
        }
      ]
    },
    {
      "cell_type": "code",
      "source": [
        "# Put output data into vector format for training MLP\n",
        "y = df['Cluster'].to_numpy()\n",
        "print(y)\n",
        "\n",
        "y = tf.one_hot(y, depth=6)\n",
        "print(y)"
      ],
      "metadata": {
        "colab": {
          "base_uri": "https://localhost:8080/"
        },
        "id": "CfQHBCLn8Q15",
        "outputId": "038c5830-59df-4430-b6b5-9feed51abf53"
      },
      "id": "CfQHBCLn8Q15",
      "execution_count": 18,
      "outputs": [
        {
          "output_type": "stream",
          "name": "stdout",
          "text": [
            "[1 3 3 1 3 5 1 3 2 3]\n",
            "tf.Tensor(\n",
            "[[0. 1. 0. 0. 0. 0.]\n",
            " [0. 0. 0. 1. 0. 0.]\n",
            " [0. 0. 0. 1. 0. 0.]\n",
            " [0. 1. 0. 0. 0. 0.]\n",
            " [0. 0. 0. 1. 0. 0.]\n",
            " [0. 0. 0. 0. 0. 1.]\n",
            " [0. 1. 0. 0. 0. 0.]\n",
            " [0. 0. 0. 1. 0. 0.]\n",
            " [0. 0. 1. 0. 0. 0.]\n",
            " [0. 0. 0. 1. 0. 0.]], shape=(10, 6), dtype=float32)\n"
          ]
        }
      ]
    },
    {
      "cell_type": "code",
      "source": [
        "# Creat MLP\n",
        "cnn = Sequential()\n",
        "cnn.add(Input(shape=(X.shape[1], X.shape[2], X.shape[3])))\n",
        "cnn.add(Conv2D(64, 3, padding='same', activation='relu'))\n",
        "cnn.add(MaxPool2D())\n",
        "cnn.add(Conv2D(128, 3, padding='same', activation='relu'))\n",
        "cnn.add(MaxPool2D())\n",
        "cnn.add(Conv2D(256, 3, padding='same', activation='relu'))\n",
        "cnn.add(MaxPool2D())\n",
        "cnn.add(Conv2D(512, 3, padding='same', activation='relu'))\n",
        "cnn.add(MaxPool2D())\n",
        "cnn.add(Flatten())\n",
        "cnn.add(Dense(32, activation='relu'))\n",
        "cnn.add(Dense(y.shape[1], activation='softmax'))\n",
        "cnn.summary()"
      ],
      "metadata": {
        "colab": {
          "base_uri": "https://localhost:8080/"
        },
        "id": "tBVrvFF08UQY",
        "outputId": "cc9ab677-e662-4574-a44a-9ee8902b72ea"
      },
      "id": "tBVrvFF08UQY",
      "execution_count": 25,
      "outputs": [
        {
          "output_type": "stream",
          "name": "stdout",
          "text": [
            "Model: \"sequential_5\"\n",
            "_________________________________________________________________\n",
            " Layer (type)                Output Shape              Param #   \n",
            "=================================================================\n",
            " conv2d_13 (Conv2D)          (None, 30, 128, 64)       640       \n",
            "                                                                 \n",
            " max_pooling2d_7 (MaxPooling  (None, 15, 64, 64)       0         \n",
            " 2D)                                                             \n",
            "                                                                 \n",
            " conv2d_14 (Conv2D)          (None, 15, 64, 128)       73856     \n",
            "                                                                 \n",
            " max_pooling2d_8 (MaxPooling  (None, 7, 32, 128)       0         \n",
            " 2D)                                                             \n",
            "                                                                 \n",
            " conv2d_15 (Conv2D)          (None, 7, 32, 256)        295168    \n",
            "                                                                 \n",
            " max_pooling2d_9 (MaxPooling  (None, 3, 16, 256)       0         \n",
            " 2D)                                                             \n",
            "                                                                 \n",
            " conv2d_16 (Conv2D)          (None, 3, 16, 512)        1180160   \n",
            "                                                                 \n",
            " max_pooling2d_10 (MaxPoolin  (None, 1, 8, 512)        0         \n",
            " g2D)                                                            \n",
            "                                                                 \n",
            " flatten (Flatten)           (None, 4096)              0         \n",
            "                                                                 \n",
            " dense_4 (Dense)             (None, 32)                131104    \n",
            "                                                                 \n",
            " dense_5 (Dense)             (None, 6)                 198       \n",
            "                                                                 \n",
            "=================================================================\n",
            "Total params: 1,681,126\n",
            "Trainable params: 1,681,126\n",
            "Non-trainable params: 0\n",
            "_________________________________________________________________\n"
          ]
        }
      ]
    },
    {
      "cell_type": "code",
      "source": [
        "# Define training parameters\n",
        "cnn.compile(optimizer='adam', loss='categorical_crossentropy')"
      ],
      "metadata": {
        "id": "EEFC_80fCgTA"
      },
      "id": "EEFC_80fCgTA",
      "execution_count": 27,
      "outputs": []
    },
    {
      "cell_type": "code",
      "source": [
        "# Train model\n",
        "cnn.fit(x=X, y=y, batch_size=4, epochs=2, validation_split=0.1)"
      ],
      "metadata": {
        "colab": {
          "base_uri": "https://localhost:8080/"
        },
        "id": "J64qrtr_DLQO",
        "outputId": "fb25e06e-c701-45e3-ba6f-5fdb1ece0af9"
      },
      "id": "J64qrtr_DLQO",
      "execution_count": 28,
      "outputs": [
        {
          "output_type": "stream",
          "name": "stdout",
          "text": [
            "Epoch 1/2\n",
            "3/3 [==============================] - 2s 195ms/step - loss: 1.7774 - val_loss: 1.2870\n",
            "Epoch 2/2\n",
            "3/3 [==============================] - 0s 108ms/step - loss: 1.5331 - val_loss: 1.1187\n"
          ]
        },
        {
          "output_type": "execute_result",
          "data": {
            "text/plain": [
              "<keras.callbacks.History at 0x7fd0e7b461d0>"
            ]
          },
          "metadata": {},
          "execution_count": 28
        }
      ]
    },
    {
      "cell_type": "markdown",
      "source": [
        "# Section 3: LSTM"
      ],
      "metadata": {
        "id": "v4dObMT0DUNU"
      },
      "id": "v4dObMT0DUNU"
    },
    {
      "cell_type": "code",
      "source": [
        "import tensorflow as tf\n",
        "from tensorflow.keras.models import Sequential\n",
        "from tensorflow.keras.layers import Input, Dense, LSTM"
      ],
      "metadata": {
        "id": "rVn24yg_DQPP"
      },
      "id": "rVn24yg_DQPP",
      "execution_count": 29,
      "outputs": []
    },
    {
      "cell_type": "code",
      "source": [
        "# Put input data into vector format for training MLP\n",
        "X = np.array(df['Embeddings'].to_list())\n",
        "print(X.shape)"
      ],
      "metadata": {
        "colab": {
          "base_uri": "https://localhost:8080/"
        },
        "id": "S5JxmobGDeSM",
        "outputId": "cc21c56d-4a3b-4532-e338-244c36cda202"
      },
      "id": "S5JxmobGDeSM",
      "execution_count": 30,
      "outputs": [
        {
          "output_type": "stream",
          "name": "stdout",
          "text": [
            "(10, 30, 128)\n"
          ]
        }
      ]
    },
    {
      "cell_type": "code",
      "source": [
        "# Put output data into vector format for training MLP\n",
        "y = df['Cluster'].to_numpy()\n",
        "print(y)\n",
        "\n",
        "y = tf.one_hot(y, depth=6)\n",
        "print(y)"
      ],
      "metadata": {
        "colab": {
          "base_uri": "https://localhost:8080/"
        },
        "id": "mZFbq_9XDk0B",
        "outputId": "01a1f9d0-bc32-425e-8d2a-8425ffca000e"
      },
      "id": "mZFbq_9XDk0B",
      "execution_count": 31,
      "outputs": [
        {
          "output_type": "stream",
          "name": "stdout",
          "text": [
            "[1 3 3 1 3 5 1 3 2 3]\n",
            "tf.Tensor(\n",
            "[[0. 1. 0. 0. 0. 0.]\n",
            " [0. 0. 0. 1. 0. 0.]\n",
            " [0. 0. 0. 1. 0. 0.]\n",
            " [0. 1. 0. 0. 0. 0.]\n",
            " [0. 0. 0. 1. 0. 0.]\n",
            " [0. 0. 0. 0. 0. 1.]\n",
            " [0. 1. 0. 0. 0. 0.]\n",
            " [0. 0. 0. 1. 0. 0.]\n",
            " [0. 0. 1. 0. 0. 0.]\n",
            " [0. 0. 0. 1. 0. 0.]], shape=(10, 6), dtype=float32)\n"
          ]
        }
      ]
    },
    {
      "cell_type": "code",
      "source": [
        "lstm = Sequential()\n",
        "lstm.add(Input(shape=(X.shape[1], X.shape[2])))\n",
        "lstm.add(LSTM(256, return_sequences=True))\n",
        "lstm.add(LSTM(512))\n",
        "lstm.add(Dense(32, activation='relu'))\n",
        "lstm.add(Dense(y.shape[1], activation='softmax'))\n",
        "lstm.summary()"
      ],
      "metadata": {
        "colab": {
          "base_uri": "https://localhost:8080/"
        },
        "id": "kCm5lJhrDoBz",
        "outputId": "c00e4bc7-db16-4689-e599-4bde971a8831"
      },
      "id": "kCm5lJhrDoBz",
      "execution_count": 35,
      "outputs": [
        {
          "output_type": "stream",
          "name": "stdout",
          "text": [
            "Model: \"sequential_9\"\n",
            "_________________________________________________________________\n",
            " Layer (type)                Output Shape              Param #   \n",
            "=================================================================\n",
            " lstm_2 (LSTM)               (None, 30, 256)           394240    \n",
            "                                                                 \n",
            " lstm_3 (LSTM)               (None, 512)               1574912   \n",
            "                                                                 \n",
            " dense_6 (Dense)             (None, 32)                16416     \n",
            "                                                                 \n",
            " dense_7 (Dense)             (None, 6)                 198       \n",
            "                                                                 \n",
            "=================================================================\n",
            "Total params: 1,985,766\n",
            "Trainable params: 1,985,766\n",
            "Non-trainable params: 0\n",
            "_________________________________________________________________\n"
          ]
        }
      ]
    },
    {
      "cell_type": "code",
      "source": [
        "# Define training parameters\n",
        "lstm.compile(optimizer='adam', loss='categorical_crossentropy')"
      ],
      "metadata": {
        "id": "dLib9O7tDxdx"
      },
      "id": "dLib9O7tDxdx",
      "execution_count": 36,
      "outputs": []
    },
    {
      "cell_type": "code",
      "source": [
        "# Train model\n",
        "lstm.fit(x=X, y=y, batch_size=4, epochs=2, validation_split=0.1)"
      ],
      "metadata": {
        "colab": {
          "base_uri": "https://localhost:8080/"
        },
        "id": "SdlVHfMyEkaX",
        "outputId": "79f7627b-aa1f-4afd-d7fa-df549c6760b7"
      },
      "id": "SdlVHfMyEkaX",
      "execution_count": 37,
      "outputs": [
        {
          "output_type": "stream",
          "name": "stdout",
          "text": [
            "Epoch 1/2\n",
            "3/3 [==============================] - 6s 737ms/step - loss: 1.7231 - val_loss: 2.1514\n",
            "Epoch 2/2\n",
            "3/3 [==============================] - 1s 301ms/step - loss: 1.8074 - val_loss: 1.0079\n"
          ]
        },
        {
          "output_type": "execute_result",
          "data": {
            "text/plain": [
              "<keras.callbacks.History at 0x7fd0e8ed4990>"
            ]
          },
          "metadata": {},
          "execution_count": 37
        }
      ]
    },
    {
      "cell_type": "code",
      "source": [
        ""
      ],
      "metadata": {
        "id": "02nITZLUEngH"
      },
      "id": "02nITZLUEngH",
      "execution_count": null,
      "outputs": []
    }
  ],
  "metadata": {
    "kernelspec": {
      "display_name": "Python 3 (ipykernel)",
      "language": "python",
      "name": "python3"
    },
    "language_info": {
      "codemirror_mode": {
        "name": "ipython",
        "version": 3
      },
      "file_extension": ".py",
      "mimetype": "text/x-python",
      "name": "python",
      "nbconvert_exporter": "python",
      "pygments_lexer": "ipython3",
      "version": "3.7.13"
    },
    "colab": {
      "name": "Dummy_models_eco_trust.ipynb",
      "provenance": [],
      "collapsed_sections": []
    }
  },
  "nbformat": 4,
  "nbformat_minor": 5
}