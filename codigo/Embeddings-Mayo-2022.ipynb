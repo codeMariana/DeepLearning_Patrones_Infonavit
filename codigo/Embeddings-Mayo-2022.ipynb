{
 "cells": [
  {
   "cell_type": "code",
   "execution_count": 54,
   "metadata": {},
   "outputs": [],
   "source": [
    "import pandas as pd\n",
    "import numpy as np\n",
    "from tensorflow.keras.models import Sequential, Model\n",
    "from tensorflow.keras.layers import Dense\n",
    "from tensorflow.keras.layers import LSTM\n",
    "from tensorflow.keras.layers import Embedding\n",
    "from tensorflow.keras.preprocessing.text import Tokenizer\n",
    "from tensorflow.keras.preprocessing.text \\\n",
    "    import text_to_word_sequence\n",
    "import tensorflow as tf\n",
    "import logging\n",
    "tf.get_logger().setLevel(logging.ERROR)\n",
    "\n",
    "from unidecode import unidecode\n",
    "\n",
    "from sklearn.model_selection import train_test_split\n",
    "\n",
    "import matplotlib.pyplot as plt\n",
    "\n",
    "#MAX_WORDS = 1000\n",
    "#pad=30\n",
    "#EMBEDDING_WIDTH = 512\n",
    "\n",
    "EPOCHS = 32\n",
    "BATCH_SIZE = 256\n",
    "#INPUT_FILE_NAME = 'F:/DEEP_LEARNING/FINAL/ESTANCIA/Prueba_2.csv'\n",
    "WINDOW_LENGTH = 40\n",
    "WINDOW_STEP = 3\n",
    "PREDICT_LENGTH = 1\n"
   ]
  },
  {
   "cell_type": "code",
   "execution_count": 2,
   "metadata": {},
   "outputs": [],
   "source": [
    "file = pd.read_csv(\"C:/Users/IN335255/Documents/OSCAR/PRUEBA/EST/ABRIL_2022/PRUEBA_MAYO_2022.csv\", encoding='latin-1', dtype=\"string\")\n",
    "file = file.dropna()"
   ]
  },
  {
   "cell_type": "code",
   "execution_count": 3,
   "metadata": {},
   "outputs": [
    {
     "data": {
      "text/plain": [
       "array([-9.21034037])"
      ]
     },
     "execution_count": 3,
     "metadata": {},
     "output_type": "execute_result"
    }
   ],
   "source": [
    "a = np.zeros((10000,1))\n",
    "a[0] = 1\n",
    "b = np.ones((10000,1))/10000\n",
    "c = sum(a*np.log(b))\n",
    "c"
   ]
  },
  {
   "cell_type": "markdown",
   "metadata": {},
   "source": [
    "Revisando vacíos"
   ]
  },
  {
   "cell_type": "code",
   "execution_count": 4,
   "metadata": {},
   "outputs": [
    {
     "name": "stdout",
     "output_type": "stream",
     "text": [
      "Reviso vacíos\n",
      " TEXTO    0\n",
      "dtype: int64\n"
     ]
    }
   ],
   "source": [
    "# Checking for NaN values.\n",
    "print(\"Reviso vacíos\\n\", file.isna().sum())"
   ]
  },
  {
   "cell_type": "code",
   "execution_count": 5,
   "metadata": {},
   "outputs": [
    {
     "data": {
      "text/html": [
       "<div>\n",
       "<style scoped>\n",
       "    .dataframe tbody tr th:only-of-type {\n",
       "        vertical-align: middle;\n",
       "    }\n",
       "\n",
       "    .dataframe tbody tr th {\n",
       "        vertical-align: top;\n",
       "    }\n",
       "\n",
       "    .dataframe thead th {\n",
       "        text-align: right;\n",
       "    }\n",
       "</style>\n",
       "<table border=\"1\" class=\"dataframe\">\n",
       "  <thead>\n",
       "    <tr style=\"text-align: right;\">\n",
       "      <th></th>\n",
       "      <th>TEXTO</th>\n",
       "    </tr>\n",
       "  </thead>\n",
       "  <tbody>\n",
       "    <tr>\n",
       "      <th>0</th>\n",
       "      <td># por ciento de nomina .isr retenido por sueld...</td>\n",
       "    </tr>\n",
       "    <tr>\n",
       "      <th>1</th>\n",
       "      <td>#% de nomina</td>\n",
       "    </tr>\n",
       "    <tr>\n",
       "      <th>2</th>\n",
       "      <td>#% de nomina</td>\n",
       "    </tr>\n",
       "    <tr>\n",
       "      <th>3</th>\n",
       "      <td>%3 sobre nomina</td>\n",
       "    </tr>\n",
       "    <tr>\n",
       "      <th>4</th>\n",
       "      <td>&amp; sobre nomina</td>\n",
       "    </tr>\n",
       "    <tr>\n",
       "      <th>...</th>\n",
       "      <td>...</td>\n",
       "    </tr>\n",
       "    <tr>\n",
       "      <th>64777</th>\n",
       "      <td>ZONAS TURISTICAS CERRADAS</td>\n",
       "    </tr>\n",
       "    <tr>\n",
       "      <th>64778</th>\n",
       "      <td>ZOOM</td>\n",
       "    </tr>\n",
       "    <tr>\n",
       "      <th>64779</th>\n",
       "      <td>ZOOM</td>\n",
       "    </tr>\n",
       "    <tr>\n",
       "      <th>64780</th>\n",
       "      <td>ZOOM</td>\n",
       "    </tr>\n",
       "    <tr>\n",
       "      <th>64781</th>\n",
       "      <td>ZUX ADMINISTRATIVO</td>\n",
       "    </tr>\n",
       "  </tbody>\n",
       "</table>\n",
       "<p>64752 rows × 1 columns</p>\n",
       "</div>"
      ],
      "text/plain": [
       "                                                   TEXTO\n",
       "0      # por ciento de nomina .isr retenido por sueld...\n",
       "1                                           #% de nomina\n",
       "2                                           #% de nomina\n",
       "3                                        %3 sobre nomina\n",
       "4                                         & sobre nomina\n",
       "...                                                  ...\n",
       "64777                          ZONAS TURISTICAS CERRADAS\n",
       "64778                                               ZOOM\n",
       "64779                                               ZOOM\n",
       "64780                                               ZOOM\n",
       "64781                                 ZUX ADMINISTRATIVO\n",
       "\n",
       "[64752 rows x 1 columns]"
      ]
     },
     "execution_count": 5,
     "metadata": {},
     "output_type": "execute_result"
    }
   ],
   "source": [
    "file"
   ]
  },
  {
   "cell_type": "code",
   "execution_count": 6,
   "metadata": {},
   "outputs": [],
   "source": [
    "file = file.loc[file[\"TEXTO\"] != \"0\"]\n",
    "file = file.loc[file[\"TEXTO\"] != \"98\"]\n",
    "file = file.loc[file[\"TEXTO\"] != \"99\"]\n",
    "file = file.loc[file[\"TEXTO\"] != \"NC\"]\n",
    "file = file.loc[file[\"TEXTO\"] != \"NS\"]\n",
    "file = file.loc[file[\"TEXTO\"] != \"NC NS\"]\n",
    "file = file.loc[file[\"TEXTO\"] != \"nc\"]\n",
    "file = file.loc[file[\"TEXTO\"] != \"ns\"]\n",
    "file = file.loc[file[\"TEXTO\"] != \"nc ns\"]"
   ]
  },
  {
   "cell_type": "code",
   "execution_count": 7,
   "metadata": {},
   "outputs": [
    {
     "data": {
      "text/html": [
       "<div>\n",
       "<style scoped>\n",
       "    .dataframe tbody tr th:only-of-type {\n",
       "        vertical-align: middle;\n",
       "    }\n",
       "\n",
       "    .dataframe tbody tr th {\n",
       "        vertical-align: top;\n",
       "    }\n",
       "\n",
       "    .dataframe thead th {\n",
       "        text-align: right;\n",
       "    }\n",
       "</style>\n",
       "<table border=\"1\" class=\"dataframe\">\n",
       "  <thead>\n",
       "    <tr style=\"text-align: right;\">\n",
       "      <th></th>\n",
       "      <th>TEXTO</th>\n",
       "    </tr>\n",
       "  </thead>\n",
       "  <tbody>\n",
       "    <tr>\n",
       "      <th>0</th>\n",
       "      <td># por ciento de nomina .isr retenido por sueld...</td>\n",
       "    </tr>\n",
       "    <tr>\n",
       "      <th>1</th>\n",
       "      <td>#% de nomina</td>\n",
       "    </tr>\n",
       "    <tr>\n",
       "      <th>2</th>\n",
       "      <td>#% de nomina</td>\n",
       "    </tr>\n",
       "    <tr>\n",
       "      <th>3</th>\n",
       "      <td>%3 sobre nomina</td>\n",
       "    </tr>\n",
       "    <tr>\n",
       "      <th>4</th>\n",
       "      <td>&amp; sobre nomina</td>\n",
       "    </tr>\n",
       "    <tr>\n",
       "      <th>...</th>\n",
       "      <td>...</td>\n",
       "    </tr>\n",
       "    <tr>\n",
       "      <th>64777</th>\n",
       "      <td>ZONAS TURISTICAS CERRADAS</td>\n",
       "    </tr>\n",
       "    <tr>\n",
       "      <th>64778</th>\n",
       "      <td>ZOOM</td>\n",
       "    </tr>\n",
       "    <tr>\n",
       "      <th>64779</th>\n",
       "      <td>ZOOM</td>\n",
       "    </tr>\n",
       "    <tr>\n",
       "      <th>64780</th>\n",
       "      <td>ZOOM</td>\n",
       "    </tr>\n",
       "    <tr>\n",
       "      <th>64781</th>\n",
       "      <td>ZUX ADMINISTRATIVO</td>\n",
       "    </tr>\n",
       "  </tbody>\n",
       "</table>\n",
       "<p>61516 rows × 1 columns</p>\n",
       "</div>"
      ],
      "text/plain": [
       "                                                   TEXTO\n",
       "0      # por ciento de nomina .isr retenido por sueld...\n",
       "1                                           #% de nomina\n",
       "2                                           #% de nomina\n",
       "3                                        %3 sobre nomina\n",
       "4                                         & sobre nomina\n",
       "...                                                  ...\n",
       "64777                          ZONAS TURISTICAS CERRADAS\n",
       "64778                                               ZOOM\n",
       "64779                                               ZOOM\n",
       "64780                                               ZOOM\n",
       "64781                                 ZUX ADMINISTRATIVO\n",
       "\n",
       "[61516 rows x 1 columns]"
      ]
     },
     "execution_count": 7,
     "metadata": {},
     "output_type": "execute_result"
    }
   ],
   "source": [
    "file"
   ]
  },
  {
   "cell_type": "code",
   "execution_count": 8,
   "metadata": {},
   "outputs": [],
   "source": [
    "#file_train, file_test = train_test_split(file, test_size=0.1)"
   ]
  },
  {
   "cell_type": "code",
   "execution_count": 9,
   "metadata": {},
   "outputs": [
    {
     "data": {
      "text/html": [
       "<div>\n",
       "<style scoped>\n",
       "    .dataframe tbody tr th:only-of-type {\n",
       "        vertical-align: middle;\n",
       "    }\n",
       "\n",
       "    .dataframe tbody tr th {\n",
       "        vertical-align: top;\n",
       "    }\n",
       "\n",
       "    .dataframe thead th {\n",
       "        text-align: right;\n",
       "    }\n",
       "</style>\n",
       "<table border=\"1\" class=\"dataframe\">\n",
       "  <thead>\n",
       "    <tr style=\"text-align: right;\">\n",
       "      <th></th>\n",
       "      <th>TEXTO</th>\n",
       "    </tr>\n",
       "  </thead>\n",
       "  <tbody>\n",
       "    <tr>\n",
       "      <th>0</th>\n",
       "      <td># por ciento de nomina .isr retenido por sueld...</td>\n",
       "    </tr>\n",
       "    <tr>\n",
       "      <th>1</th>\n",
       "      <td>#% de nomina</td>\n",
       "    </tr>\n",
       "    <tr>\n",
       "      <th>2</th>\n",
       "      <td>#% de nomina</td>\n",
       "    </tr>\n",
       "    <tr>\n",
       "      <th>3</th>\n",
       "      <td>%3 sobre nomina</td>\n",
       "    </tr>\n",
       "    <tr>\n",
       "      <th>4</th>\n",
       "      <td>&amp; sobre nomina</td>\n",
       "    </tr>\n",
       "    <tr>\n",
       "      <th>...</th>\n",
       "      <td>...</td>\n",
       "    </tr>\n",
       "    <tr>\n",
       "      <th>64777</th>\n",
       "      <td>ZONAS TURISTICAS CERRADAS</td>\n",
       "    </tr>\n",
       "    <tr>\n",
       "      <th>64778</th>\n",
       "      <td>ZOOM</td>\n",
       "    </tr>\n",
       "    <tr>\n",
       "      <th>64779</th>\n",
       "      <td>ZOOM</td>\n",
       "    </tr>\n",
       "    <tr>\n",
       "      <th>64780</th>\n",
       "      <td>ZOOM</td>\n",
       "    </tr>\n",
       "    <tr>\n",
       "      <th>64781</th>\n",
       "      <td>ZUX ADMINISTRATIVO</td>\n",
       "    </tr>\n",
       "  </tbody>\n",
       "</table>\n",
       "<p>61516 rows × 1 columns</p>\n",
       "</div>"
      ],
      "text/plain": [
       "                                                   TEXTO\n",
       "0      # por ciento de nomina .isr retenido por sueld...\n",
       "1                                           #% de nomina\n",
       "2                                           #% de nomina\n",
       "3                                        %3 sobre nomina\n",
       "4                                         & sobre nomina\n",
       "...                                                  ...\n",
       "64777                          ZONAS TURISTICAS CERRADAS\n",
       "64778                                               ZOOM\n",
       "64779                                               ZOOM\n",
       "64780                                               ZOOM\n",
       "64781                                 ZUX ADMINISTRATIVO\n",
       "\n",
       "[61516 rows x 1 columns]"
      ]
     },
     "execution_count": 9,
     "metadata": {},
     "output_type": "execute_result"
    }
   ],
   "source": [
    "file"
   ]
  },
  {
   "cell_type": "code",
   "execution_count": null,
   "metadata": {},
   "outputs": [],
   "source": []
  },
  {
   "cell_type": "code",
   "execution_count": 10,
   "metadata": {},
   "outputs": [],
   "source": [
    "import re\n",
    "def text_to_word_list(text, remove_polish_letters):\n",
    "    ''' Pre process and convert texts to a list of words \n",
    "    method inspired by method from eliorc github repo: https://github.com/eliorc/Medium/blob/master/MaLSTM.ipynb'''\n",
    "    text = remove_polish_letters(text)\n",
    "    text = str(text)\n",
    "    text = text.lower()\n",
    "\n",
    "    # Clean the text\n",
    "    text = re.sub(r\"[^A-Za-z0-9^,!?.\\/'+]\", \" \", text)\n",
    "    text = re.sub(r\"\\+\", \" plus \", text)\n",
    "    text = re.sub(r\",\", \" \", text)\n",
    "    text = re.sub(r\"\\.\", \" \", text)\n",
    "    text = re.sub(r\"!\", \" ! \", text)\n",
    "    text = re.sub(r\"\\?\", \" ? \", text)\n",
    "    text = re.sub(r\"'\", \" \", text)\n",
    "    text = re.sub(r\":\", \" : \", text)\n",
    "    text = re.sub(r\"\\s{2,}\", \" \", text)\n",
    "   \n",
    "    text = text.split()\n",
    "\n",
    "    return text"
   ]
  },
  {
   "cell_type": "code",
   "execution_count": 11,
   "metadata": {},
   "outputs": [],
   "source": [
    "#file_train.TEXTO = file_train.TEXTO.apply(lambda x: text_to_word_list(x, unidecode))\n",
    "#file_test.TEXTO = file_test.TEXTO.apply(lambda x: text_to_word_list(x, unidecode))\n",
    "\n",
    "file.TEXTO = file.TEXTO.apply(lambda x: text_to_word_list(x, unidecode))"
   ]
  },
  {
   "cell_type": "code",
   "execution_count": 12,
   "metadata": {},
   "outputs": [
    {
     "data": {
      "text/html": [
       "<div>\n",
       "<style scoped>\n",
       "    .dataframe tbody tr th:only-of-type {\n",
       "        vertical-align: middle;\n",
       "    }\n",
       "\n",
       "    .dataframe tbody tr th {\n",
       "        vertical-align: top;\n",
       "    }\n",
       "\n",
       "    .dataframe thead th {\n",
       "        text-align: right;\n",
       "    }\n",
       "</style>\n",
       "<table border=\"1\" class=\"dataframe\">\n",
       "  <thead>\n",
       "    <tr style=\"text-align: right;\">\n",
       "      <th></th>\n",
       "      <th>TEXTO</th>\n",
       "    </tr>\n",
       "  </thead>\n",
       "  <tbody>\n",
       "    <tr>\n",
       "      <th>0</th>\n",
       "      <td>[por, ciento, de, nomina, isr, retenido, por, ...</td>\n",
       "    </tr>\n",
       "    <tr>\n",
       "      <th>1</th>\n",
       "      <td>[de, nomina]</td>\n",
       "    </tr>\n",
       "    <tr>\n",
       "      <th>2</th>\n",
       "      <td>[de, nomina]</td>\n",
       "    </tr>\n",
       "    <tr>\n",
       "      <th>3</th>\n",
       "      <td>[3, sobre, nomina]</td>\n",
       "    </tr>\n",
       "    <tr>\n",
       "      <th>4</th>\n",
       "      <td>[sobre, nomina]</td>\n",
       "    </tr>\n",
       "    <tr>\n",
       "      <th>...</th>\n",
       "      <td>...</td>\n",
       "    </tr>\n",
       "    <tr>\n",
       "      <th>64777</th>\n",
       "      <td>[zonas, turisticas, cerradas]</td>\n",
       "    </tr>\n",
       "    <tr>\n",
       "      <th>64778</th>\n",
       "      <td>[zoom]</td>\n",
       "    </tr>\n",
       "    <tr>\n",
       "      <th>64779</th>\n",
       "      <td>[zoom]</td>\n",
       "    </tr>\n",
       "    <tr>\n",
       "      <th>64780</th>\n",
       "      <td>[zoom]</td>\n",
       "    </tr>\n",
       "    <tr>\n",
       "      <th>64781</th>\n",
       "      <td>[zux, administrativo]</td>\n",
       "    </tr>\n",
       "  </tbody>\n",
       "</table>\n",
       "<p>61516 rows × 1 columns</p>\n",
       "</div>"
      ],
      "text/plain": [
       "                                                   TEXTO\n",
       "0      [por, ciento, de, nomina, isr, retenido, por, ...\n",
       "1                                           [de, nomina]\n",
       "2                                           [de, nomina]\n",
       "3                                     [3, sobre, nomina]\n",
       "4                                        [sobre, nomina]\n",
       "...                                                  ...\n",
       "64777                      [zonas, turisticas, cerradas]\n",
       "64778                                             [zoom]\n",
       "64779                                             [zoom]\n",
       "64780                                             [zoom]\n",
       "64781                              [zux, administrativo]\n",
       "\n",
       "[61516 rows x 1 columns]"
      ]
     },
     "execution_count": 12,
     "metadata": {},
     "output_type": "execute_result"
    }
   ],
   "source": [
    "file"
   ]
  },
  {
   "cell_type": "code",
   "execution_count": 13,
   "metadata": {},
   "outputs": [
    {
     "data": {
      "text/html": [
       "<div>\n",
       "<style scoped>\n",
       "    .dataframe tbody tr th:only-of-type {\n",
       "        vertical-align: middle;\n",
       "    }\n",
       "\n",
       "    .dataframe tbody tr th {\n",
       "        vertical-align: top;\n",
       "    }\n",
       "\n",
       "    .dataframe thead th {\n",
       "        text-align: right;\n",
       "    }\n",
       "</style>\n",
       "<table border=\"1\" class=\"dataframe\">\n",
       "  <thead>\n",
       "    <tr style=\"text-align: right;\">\n",
       "      <th></th>\n",
       "      <th>TEXTO</th>\n",
       "    </tr>\n",
       "  </thead>\n",
       "  <tbody>\n",
       "    <tr>\n",
       "      <th>0</th>\n",
       "      <td>[por, ciento, de, nomina, isr, retenido, por, ...</td>\n",
       "    </tr>\n",
       "    <tr>\n",
       "      <th>1</th>\n",
       "      <td>[de, nomina]</td>\n",
       "    </tr>\n",
       "    <tr>\n",
       "      <th>2</th>\n",
       "      <td>[de, nomina]</td>\n",
       "    </tr>\n",
       "    <tr>\n",
       "      <th>3</th>\n",
       "      <td>[3, sobre, nomina]</td>\n",
       "    </tr>\n",
       "    <tr>\n",
       "      <th>4</th>\n",
       "      <td>[sobre, nomina]</td>\n",
       "    </tr>\n",
       "    <tr>\n",
       "      <th>...</th>\n",
       "      <td>...</td>\n",
       "    </tr>\n",
       "    <tr>\n",
       "      <th>61511</th>\n",
       "      <td>[zonas, turisticas, cerradas]</td>\n",
       "    </tr>\n",
       "    <tr>\n",
       "      <th>61512</th>\n",
       "      <td>[zoom]</td>\n",
       "    </tr>\n",
       "    <tr>\n",
       "      <th>61513</th>\n",
       "      <td>[zoom]</td>\n",
       "    </tr>\n",
       "    <tr>\n",
       "      <th>61514</th>\n",
       "      <td>[zoom]</td>\n",
       "    </tr>\n",
       "    <tr>\n",
       "      <th>61515</th>\n",
       "      <td>[zux, administrativo]</td>\n",
       "    </tr>\n",
       "  </tbody>\n",
       "</table>\n",
       "<p>61516 rows × 1 columns</p>\n",
       "</div>"
      ],
      "text/plain": [
       "                                                   TEXTO\n",
       "0      [por, ciento, de, nomina, isr, retenido, por, ...\n",
       "1                                           [de, nomina]\n",
       "2                                           [de, nomina]\n",
       "3                                     [3, sobre, nomina]\n",
       "4                                        [sobre, nomina]\n",
       "...                                                  ...\n",
       "61511                      [zonas, turisticas, cerradas]\n",
       "61512                                             [zoom]\n",
       "61513                                             [zoom]\n",
       "61514                                             [zoom]\n",
       "61515                              [zux, administrativo]\n",
       "\n",
       "[61516 rows x 1 columns]"
      ]
     },
     "execution_count": 13,
     "metadata": {},
     "output_type": "execute_result"
    }
   ],
   "source": [
    "file = file.reset_index(drop=True)\n",
    "file"
   ]
  },
  {
   "cell_type": "code",
   "execution_count": 14,
   "metadata": {},
   "outputs": [],
   "source": [
    "# Create training examples.\n",
    "fragments = []\n",
    "targets = []\n",
    "\n",
    "#for i in range(0, len(text) - WINDOW_LENGTH, WINDOW_STEP):\n",
    "#    fragments.append(text[i: i + WINDOW_LENGTH])\n",
    "#    targets.append(text[i + WINDOW_LENGTH])\n",
    "\n",
    "for i in range(0, len(file)):\n",
    "    fragments.append(file.TEXTO[i][0: len(file.TEXTO[i])-1])\n",
    "    \n",
    "    \n",
    "for i in range(0, len(file)):    \n",
    "    targets.append(file.TEXTO[i][len(file.TEXTO[i])-1])"
   ]
  },
  {
   "cell_type": "code",
   "execution_count": 15,
   "metadata": {},
   "outputs": [],
   "source": [
    "MAX_WORDS = 150\n",
    "pad=30\n",
    "EMBEDDING_WIDTH = 128"
   ]
  },
  {
   "cell_type": "code",
   "execution_count": null,
   "metadata": {},
   "outputs": [],
   "source": []
  },
  {
   "cell_type": "code",
   "execution_count": 16,
   "metadata": {},
   "outputs": [],
   "source": [
    "file_2=[]\n",
    "\n",
    "for i in range(0, len(file)):\n",
    "    file_2.append(file.TEXTO[i])"
   ]
  },
  {
   "cell_type": "code",
   "execution_count": null,
   "metadata": {},
   "outputs": [],
   "source": []
  },
  {
   "cell_type": "code",
   "execution_count": 17,
   "metadata": {},
   "outputs": [
    {
     "name": "stdout",
     "output_type": "stream",
     "text": [
      "Number of words in the dictionary 14886\n",
      "[('UNK', 1), ('de', 2), ('y', 3), ('la', 4), ('los', 5), ('en', 6), ('no', 7), ('falta', 8), ('a', 9), ('mas', 10)]\n"
     ]
    }
   ],
   "source": [
    "# Convert to indices.\n",
    "tokenizer = Tokenizer(num_words=MAX_WORDS, oov_token='UNK')\n",
    "# Aqui asigna indices a todo el corpus\n",
    "#tokenizer.fit_on_texts(text)\n",
    "tokenizer.fit_on_texts(file_2)\n",
    "\n",
    "# Aqui aqui asigna indices a las palabras de cada cadena \n",
    "fragments_indexed = tokenizer.texts_to_sequences(fragments)\n",
    "targets_indexed = tokenizer.texts_to_sequences(targets)\n",
    "\n",
    "#data_tensor = tf.ragged.constant(fragments_indexed)\n",
    "\n",
    "# Convert to appropriate input and output formats.\n",
    "#X = np.array(fragments_indexed, dtype=np.int)\n",
    "\n",
    "X = np.array(fragments_indexed, dtype=object)\n",
    "y = np.zeros((len(targets_indexed), MAX_WORDS))\n",
    "for i, target_index in enumerate(targets_indexed):\n",
    "    y[i, target_index] = 1\n",
    "    \n",
    "    \n",
    "print(\"Number of words in the dictionary\", len(tokenizer.word_index))\n",
    "print(list(tokenizer.word_index.items())[:10])"
   ]
  },
  {
   "cell_type": "code",
   "execution_count": null,
   "metadata": {},
   "outputs": [],
   "source": []
  },
  {
   "cell_type": "code",
   "execution_count": null,
   "metadata": {},
   "outputs": [],
   "source": []
  },
  {
   "cell_type": "code",
   "execution_count": null,
   "metadata": {},
   "outputs": [],
   "source": []
  },
  {
   "cell_type": "code",
   "execution_count": null,
   "metadata": {},
   "outputs": [],
   "source": []
  },
  {
   "cell_type": "code",
   "execution_count": null,
   "metadata": {},
   "outputs": [],
   "source": []
  },
  {
   "cell_type": "code",
   "execution_count": 23,
   "metadata": {},
   "outputs": [
    {
     "name": "stdout",
     "output_type": "stream",
     "text": [
      "[1.000000e+00 2.515800e+02 5.021600e+02 7.527400e+02 1.003320e+03\n",
      " 1.253900e+03 1.504480e+03 1.755060e+03 2.005640e+03 2.256220e+03\n",
      " 2.506800e+03 2.757380e+03 3.007960e+03 3.258540e+03 3.509120e+03\n",
      " 3.759700e+03 4.010280e+03 4.260860e+03 4.511440e+03 4.762020e+03\n",
      " 5.012600e+03 5.263180e+03 5.513760e+03 5.764340e+03 6.014920e+03\n",
      " 6.265500e+03 6.516080e+03 6.766660e+03 7.017240e+03 7.267820e+03\n",
      " 7.518400e+03 7.768980e+03 8.019560e+03 8.270140e+03 8.520720e+03\n",
      " 8.771300e+03 9.021880e+03 9.272460e+03 9.523040e+03 9.773620e+03\n",
      " 1.002420e+04 1.027478e+04 1.052536e+04 1.077594e+04 1.102652e+04\n",
      " 1.127710e+04 1.152768e+04 1.177826e+04 1.202884e+04 1.227942e+04\n",
      " 1.253000e+04 1.278058e+04 1.303116e+04 1.328174e+04 1.353232e+04\n",
      " 1.378290e+04 1.403348e+04 1.428406e+04 1.453464e+04 1.478522e+04\n",
      " 1.503580e+04 1.528638e+04 1.553696e+04 1.578754e+04 1.603812e+04\n",
      " 1.628870e+04 1.653928e+04 1.678986e+04 1.704044e+04 1.729102e+04\n",
      " 1.754160e+04 1.779218e+04 1.804276e+04 1.829334e+04 1.854392e+04\n",
      " 1.879450e+04 1.904508e+04 1.929566e+04 1.954624e+04 1.979682e+04\n",
      " 2.004740e+04 2.029798e+04 2.054856e+04 2.079914e+04 2.104972e+04\n",
      " 2.130030e+04 2.155088e+04 2.180146e+04 2.205204e+04 2.230262e+04\n",
      " 2.255320e+04 2.280378e+04 2.305436e+04 2.330494e+04 2.355552e+04\n",
      " 2.380610e+04 2.405668e+04 2.430726e+04 2.455784e+04 2.480842e+04\n",
      " 2.505900e+04]\n",
      "[14751    65    22    14     8     4     3     1     2     1     1     2\n",
      "     0     2     0     1     3     1     0     0     0     1     1     1\n",
      "     0     0     0     0     0     0     0     0     0     0     0     0\n",
      "     0     0     0     0     0     0     0     0     0     0     0     0\n",
      "     0     0     0     0     0     0     0     0     0     0     0     0\n",
      "     0     0     0     0     0     0     0     0     0     0     0     0\n",
      "     0     0     0     0     0     0     0     0     0     0     0     0\n",
      "     0     0     0     0     0     0     0     0     0     0     0     0\n",
      "     0     0     0     1]\n"
     ]
    }
   ],
   "source": [
    "# REVISA distribución: calcula \n",
    "y_hist, x_hist = np.histogram(sorted(tokenizer.word_counts.values()), 100)\n",
    "print(x_hist)\n",
    "print(y_hist)"
   ]
  },
  {
   "cell_type": "code",
   "execution_count": null,
   "metadata": {},
   "outputs": [],
   "source": []
  },
  {
   "cell_type": "code",
   "execution_count": 24,
   "metadata": {},
   "outputs": [],
   "source": [
    "X_final = tf.keras.preprocessing.sequence.pad_sequences(fragments_indexed,\n",
    "                                                    #value=word_index[\"<PAD>\"],\n",
    "                                                    padding='post',\n",
    "                                                    maxlen=pad)"
   ]
  },
  {
   "cell_type": "code",
   "execution_count": 25,
   "metadata": {},
   "outputs": [
    {
     "data": {
      "text/plain": [
       "array([[16,  1,  2, ...,  0,  0,  0],\n",
       "       [ 2,  0,  0, ...,  0,  0,  0],\n",
       "       [ 2,  0,  0, ...,  0,  0,  0],\n",
       "       ...,\n",
       "       [ 0,  0,  0, ...,  0,  0,  0],\n",
       "       [ 0,  0,  0, ...,  0,  0,  0],\n",
       "       [ 1,  0,  0, ...,  0,  0,  0]])"
      ]
     },
     "execution_count": 25,
     "metadata": {},
     "output_type": "execute_result"
    }
   ],
   "source": [
    "X_final"
   ]
  },
  {
   "cell_type": "code",
   "execution_count": 26,
   "metadata": {},
   "outputs": [],
   "source": [
    "X_train, X_test, y_train, y_test = train_test_split(X_final,y, test_size=0.1)"
   ]
  },
  {
   "cell_type": "code",
   "execution_count": 27,
   "metadata": {},
   "outputs": [
    {
     "data": {
      "text/plain": [
       "(55364, 30)"
      ]
     },
     "execution_count": 27,
     "metadata": {},
     "output_type": "execute_result"
    }
   ],
   "source": [
    "X_train.shape"
   ]
  },
  {
   "cell_type": "code",
   "execution_count": 28,
   "metadata": {},
   "outputs": [
    {
     "data": {
      "text/plain": [
       "(6152, 30)"
      ]
     },
     "execution_count": 28,
     "metadata": {},
     "output_type": "execute_result"
    }
   ],
   "source": [
    "X_test.shape"
   ]
  },
  {
   "cell_type": "code",
   "execution_count": 29,
   "metadata": {},
   "outputs": [
    {
     "data": {
      "text/plain": [
       "(55364, 150)"
      ]
     },
     "execution_count": 29,
     "metadata": {},
     "output_type": "execute_result"
    }
   ],
   "source": [
    "y_train.shape"
   ]
  },
  {
   "cell_type": "code",
   "execution_count": 30,
   "metadata": {},
   "outputs": [
    {
     "data": {
      "text/plain": [
       "(6152, 150)"
      ]
     },
     "execution_count": 30,
     "metadata": {},
     "output_type": "execute_result"
    }
   ],
   "source": [
    "y_test.shape"
   ]
  },
  {
   "cell_type": "code",
   "execution_count": 31,
   "metadata": {
    "scrolled": false
   },
   "outputs": [
    {
     "name": "stdout",
     "output_type": "stream",
     "text": [
      "Model: \"sequential\"\n",
      "_________________________________________________________________\n",
      "Layer (type)                 Output Shape              Param #   \n",
      "=================================================================\n",
      "embedding (Embedding)        (None, None, 128)         19200     \n",
      "_________________________________________________________________\n",
      "lstm (LSTM)                  (None, None, 128)         131584    \n",
      "_________________________________________________________________\n",
      "lstm_1 (LSTM)                (None, 128)               131584    \n",
      "_________________________________________________________________\n",
      "dense (Dense)                (None, 128)               16512     \n",
      "_________________________________________________________________\n",
      "dense_1 (Dense)              (None, 150)               19350     \n",
      "=================================================================\n",
      "Total params: 318,230\n",
      "Trainable params: 318,230\n",
      "Non-trainable params: 0\n",
      "_________________________________________________________________\n",
      "Epoch 1/32\n",
      "206/206 - 82s - loss: 3.2078 - val_loss: 2.7183\n",
      "Epoch 2/32\n",
      "206/206 - 71s - loss: 2.4087 - val_loss: 2.2098\n",
      "Epoch 3/32\n",
      "206/206 - 72s - loss: 2.1216 - val_loss: 2.0615\n",
      "Epoch 4/32\n",
      "206/206 - 72s - loss: 2.0099 - val_loss: 1.9834\n",
      "Epoch 5/32\n",
      "206/206 - 74s - loss: 1.9355 - val_loss: 1.9156\n",
      "Epoch 6/32\n",
      "206/206 - 73s - loss: 1.8839 - val_loss: 1.8800\n",
      "Epoch 7/32\n",
      "206/206 - 72s - loss: 1.8497 - val_loss: 1.8627\n",
      "Epoch 8/32\n",
      "206/206 - 73s - loss: 1.8258 - val_loss: 1.8363\n",
      "Epoch 9/32\n",
      "206/206 - 75s - loss: 1.8049 - val_loss: 1.8212\n",
      "Epoch 10/32\n",
      "206/206 - 72s - loss: 1.7869 - val_loss: 1.8130\n",
      "Epoch 11/32\n",
      "206/206 - 74s - loss: 1.7712 - val_loss: 1.7996\n",
      "Epoch 12/32\n",
      "206/206 - 75s - loss: 1.7579 - val_loss: 1.7926\n",
      "Epoch 13/32\n",
      "206/206 - 76s - loss: 1.7461 - val_loss: 1.7845\n",
      "Epoch 14/32\n",
      "206/206 - 75s - loss: 1.7355 - val_loss: 1.7795\n",
      "Epoch 15/32\n",
      "206/206 - 78s - loss: 1.7239 - val_loss: 1.7779\n",
      "Epoch 16/32\n",
      "206/206 - 70s - loss: 1.7180 - val_loss: 1.7764\n",
      "Epoch 17/32\n",
      "206/206 - 68s - loss: 1.7069 - val_loss: 1.7716\n",
      "Epoch 18/32\n",
      "206/206 - 69s - loss: 1.6983 - val_loss: 1.7714\n",
      "Epoch 19/32\n",
      "206/206 - 68s - loss: 1.6907 - val_loss: 1.7618\n",
      "Epoch 20/32\n",
      "206/206 - 68s - loss: 1.6836 - val_loss: 1.7675\n",
      "Epoch 21/32\n",
      "206/206 - 68s - loss: 1.6747 - val_loss: 1.7595\n",
      "Epoch 22/32\n",
      "206/206 - 70s - loss: 1.6685 - val_loss: 1.7617\n",
      "Epoch 23/32\n",
      "206/206 - 68s - loss: 1.6590 - val_loss: 1.7687\n",
      "Epoch 24/32\n",
      "206/206 - 69s - loss: 1.6537 - val_loss: 1.7673\n",
      "Epoch 25/32\n",
      "206/206 - 70s - loss: 1.6465 - val_loss: 1.7624\n",
      "Epoch 26/32\n",
      "206/206 - 67s - loss: 1.6406 - val_loss: 1.7612\n",
      "Epoch 27/32\n",
      "206/206 - 72s - loss: 1.6335 - val_loss: 1.7650\n",
      "Epoch 28/32\n",
      "206/206 - 71s - loss: 1.6267 - val_loss: 1.7669\n",
      "Epoch 29/32\n",
      "206/206 - 71s - loss: 1.6194 - val_loss: 1.7745\n",
      "Epoch 30/32\n",
      "206/206 - 71s - loss: 1.6133 - val_loss: 1.7658\n",
      "Epoch 31/32\n",
      "206/206 - 69s - loss: 1.6065 - val_loss: 1.7735\n",
      "Epoch 32/32\n",
      "206/206 - 70s - loss: 1.6008 - val_loss: 1.7824\n"
     ]
    }
   ],
   "source": [
    "training_model = Sequential()\n",
    "training_model.add(Embedding(\n",
    "    output_dim=EMBEDDING_WIDTH, input_dim=MAX_WORDS,\n",
    "    mask_zero=True, input_length=None))\n",
    "training_model.add(LSTM(128, return_sequences=True,\n",
    "                        dropout=0.2, recurrent_dropout=0.2))\n",
    "training_model.add(LSTM(128, dropout=0.2,\n",
    "                        recurrent_dropout=0.2))\n",
    "training_model.add(Dense(128, activation='relu'))\n",
    "training_model.add(Dense(MAX_WORDS, activation='softmax'))\n",
    "training_model.compile(loss='categorical_crossentropy',\n",
    "                       optimizer='adam')\n",
    "training_model.summary()\n",
    "history = training_model.fit(X_train, y_train, validation_split=0.05,\n",
    "                             batch_size=BATCH_SIZE,\n",
    "                             epochs=EPOCHS, verbose=2,\n",
    "                             shuffle=True)"
   ]
  },
  {
   "cell_type": "code",
   "execution_count": 32,
   "metadata": {},
   "outputs": [
    {
     "name": "stdout",
     "output_type": "stream",
     "text": [
      "1731/1731 [==============================] - 20s 11ms/step - loss: 1.5715\n"
     ]
    },
    {
     "data": {
      "text/plain": [
       "1.5715274810791016"
      ]
     },
     "execution_count": 32,
     "metadata": {},
     "output_type": "execute_result"
    }
   ],
   "source": [
    "training_model.evaluate(X_train, y_train)"
   ]
  },
  {
   "cell_type": "code",
   "execution_count": 33,
   "metadata": {},
   "outputs": [
    {
     "name": "stdout",
     "output_type": "stream",
     "text": [
      "193/193 [==============================] - 2s 11ms/step - loss: 1.7619\n"
     ]
    },
    {
     "data": {
      "text/plain": [
       "1.7618924379348755"
      ]
     },
     "execution_count": 33,
     "metadata": {},
     "output_type": "execute_result"
    }
   ],
   "source": [
    "training_model.evaluate(X_test, y_test)"
   ]
  },
  {
   "cell_type": "code",
   "execution_count": null,
   "metadata": {},
   "outputs": [],
   "source": []
  },
  {
   "cell_type": "code",
   "execution_count": null,
   "metadata": {},
   "outputs": [],
   "source": []
  },
  {
   "cell_type": "code",
   "execution_count": null,
   "metadata": {},
   "outputs": [],
   "source": []
  },
  {
   "cell_type": "code",
   "execution_count": 34,
   "metadata": {},
   "outputs": [],
   "source": [
    "inference_model = Sequential()\n",
    "inference_model.add(Embedding(\n",
    "    output_dim=EMBEDDING_WIDTH, input_dim=MAX_WORDS,\n",
    "    mask_zero=True, batch_input_shape=(1, 1)))\n",
    "\n",
    "#metemos stateful true y eso hace que metamos batch input shape\n",
    "inference_model.add(LSTM(128, return_sequences=True,\n",
    "                         dropout=0.2, recurrent_dropout=0.2,\n",
    "                         stateful=True))\n",
    "inference_model.add(LSTM(128, dropout=0.2,\n",
    "                         recurrent_dropout=0.2, stateful=True))\n",
    "inference_model.add(Dense(128, activation='relu'))\n",
    "inference_model.add(Dense(MAX_WORDS, activation='softmax'))\n",
    "weights = training_model.get_weights()\n",
    "inference_model.set_weights(weights)"
   ]
  },
  {
   "cell_type": "code",
   "execution_count": 48,
   "metadata": {},
   "outputs": [
    {
     "name": "stdout",
     "output_type": "stream",
     "text": [
      "covid pandemia UNK \n"
     ]
    }
   ],
   "source": [
    "# Provide beginning of sentence and\n",
    "# predict next words in a greedy manner\n",
    "first_words = ['covid','pandemia']\n",
    "first_words_indexed = tokenizer.texts_to_sequences(\n",
    "    first_words)\n",
    "inference_model.reset_states()\n",
    "predicted_string = ''\n",
    "# Feed initial words to the model.\n",
    "for i, word_index in enumerate(first_words_indexed):\n",
    "    x = np.zeros((1, 1), dtype=np.int)\n",
    "    x[0][0] = word_index[0]\n",
    "    predicted_string += first_words[i]\n",
    "    predicted_string += ' '\n",
    "    y_predict = inference_model.predict(x, verbose=0)[0]\n",
    "# Predict PREDICT_LENGTH words.\n",
    "for i in range(PREDICT_LENGTH):\n",
    "    new_word_index = np.argmax(y_predict)\n",
    "    word = tokenizer.sequences_to_texts(\n",
    "        [[new_word_index]])\n",
    "    x[0][0] = new_word_index\n",
    "    predicted_string += word[0]\n",
    "    predicted_string += ' '\n",
    "    y_predict = inference_model.predict(x, verbose=0)[0]\n",
    "print(predicted_string)"
   ]
  },
  {
   "cell_type": "code",
   "execution_count": 36,
   "metadata": {},
   "outputs": [
    {
     "name": "stdout",
     "output_type": "stream",
     "text": [
      "words close to: pago\n",
      "pago:  0.0\n",
      "pagos:  1.4959466\n",
      "pagar:  1.7248011\n",
      "con:  1.815253\n",
      "economico:  1.8581797\n",
      "\n",
      "words close to: economia\n",
      "economia:  0.0\n",
      "economica:  1.001647\n",
      "economico:  1.1113858\n",
      "insumos:  1.1215669\n",
      "personal:  1.1222191\n",
      "\n",
      "words close to: covid\n",
      "covid:  0.0\n",
      "mantenimiento:  1.0603114\n",
      "obras:  1.107882\n",
      "limpieza:  1.408184\n",
      "produccion:  1.4324253\n",
      "\n",
      "words close to: venta\n",
      "venta:  0.0\n",
      "elaboracion:  1.3964925\n",
      "covid:  1.4618841\n",
      "mantenimiento:  1.5812467\n",
      "gobierno:  1.6071922\n",
      "\n",
      "words close to: compra\n",
      "compra:  0.0\n",
      "general:  1.7225503\n",
      "nominas:  1.8751483\n",
      "otro:  1.8784628\n",
      "hay:  1.9193175\n",
      "\n",
      "words close to: credito\n",
      "credito:  0.0\n",
      "nomina:  1.0340422\n",
      "proyectos:  1.169216\n",
      "otro:  1.186212\n",
      "proveedores:  1.1869321\n",
      "\n",
      "words close to: nomina\n",
      "nomina:  0.0\n",
      "credito:  1.0340422\n",
      "e:  1.0646582\n",
      "otro:  1.0787495\n",
      "gobierno:  1.1082321\n",
      "\n",
      "words close to: trabajo\n",
      "trabajo:  0.0\n",
      "trabajar:  1.3293036\n",
      "obra:  1.5409615\n",
      "limpieza:  1.5856767\n",
      "gente:  1.5922476\n",
      "\n",
      "words close to: falta\n",
      "falta:  0.0\n",
      "nm:  1.0614479\n",
      "UNK:  1.0893238\n",
      "tener:  1.0957885\n",
      "el:  1.1146969\n",
      "\n"
     ]
    }
   ],
   "source": [
    "# Obtenemos los embeddings\n",
    "embeddings = training_model.layers[0].get_weights()[0]\n",
    "# buscamos similitudes\n",
    "\n",
    "lookup_words = ['pago', 'economia', 'covid', 'venta', 'compra', 'credito', 'nomina', 'trabajo', 'falta']\n",
    "\n",
    "#lookup_words = ['covid']\n",
    "\n",
    "for lookup_word in lookup_words:\n",
    "    lookup_word_indexed = tokenizer.texts_to_sequences([lookup_word])\n",
    "    print('words close to:', lookup_word)\n",
    "    lookup_embedding = embeddings[lookup_word_indexed[0]]\n",
    "    word_indices = {}\n",
    "    \n",
    "# Calculamos distancias\n",
    "    for i, embedding in enumerate(embeddings):\n",
    "        distance = np.linalg.norm(embedding - lookup_embedding)\n",
    "        word_indices[distance] = i\n",
    "\n",
    "    #Imprimimos\n",
    "    for distance in sorted(word_indices.keys())[:5]:\n",
    "        word_index = word_indices[distance]\n",
    "        word = tokenizer.sequences_to_texts([[word_index]])[0]\n",
    "        print(word + ': ', distance)\n",
    "    print('')\n"
   ]
  },
  {
   "cell_type": "code",
   "execution_count": 55,
   "metadata": {},
   "outputs": [],
   "source": [
    "modelo_embeddings = Model(inputs=training_model.input, outputs=training_model.layers[0].output)\n",
    "\n"
   ]
  },
  {
   "cell_type": "code",
   "execution_count": 57,
   "metadata": {},
   "outputs": [
    {
     "name": "stdout",
     "output_type": "stream",
     "text": [
      "Model: \"model\"\n",
      "_________________________________________________________________\n",
      "Layer (type)                 Output Shape              Param #   \n",
      "=================================================================\n",
      "embedding_input (InputLayer) [(None, None)]            0         \n",
      "_________________________________________________________________\n",
      "embedding (Embedding)        (None, None, 128)         19200     \n",
      "=================================================================\n",
      "Total params: 19,200\n",
      "Trainable params: 19,200\n",
      "Non-trainable params: 0\n",
      "_________________________________________________________________\n"
     ]
    }
   ],
   "source": [
    "modelo_embeddings.summary()"
   ]
  },
  {
   "cell_type": "code",
   "execution_count": null,
   "metadata": {},
   "outputs": [],
   "source": []
  },
  {
   "cell_type": "code",
   "execution_count": null,
   "metadata": {},
   "outputs": [],
   "source": []
  },
  {
   "cell_type": "code",
   "execution_count": null,
   "metadata": {},
   "outputs": [],
   "source": []
  },
  {
   "cell_type": "code",
   "execution_count": null,
   "metadata": {},
   "outputs": [],
   "source": []
  },
  {
   "cell_type": "code",
   "execution_count": 38,
   "metadata": {},
   "outputs": [],
   "source": []
  },
  {
   "cell_type": "code",
   "execution_count": 41,
   "metadata": {},
   "outputs": [],
   "source": []
  },
  {
   "cell_type": "code",
   "execution_count": null,
   "metadata": {},
   "outputs": [],
   "source": []
  },
  {
   "cell_type": "code",
   "execution_count": null,
   "metadata": {},
   "outputs": [],
   "source": []
  },
  {
   "cell_type": "code",
   "execution_count": null,
   "metadata": {},
   "outputs": [],
   "source": []
  },
  {
   "cell_type": "code",
   "execution_count": null,
   "metadata": {},
   "outputs": [],
   "source": []
  },
  {
   "cell_type": "code",
   "execution_count": null,
   "metadata": {},
   "outputs": [],
   "source": [
    "z_text2 = sub_model.predict(sentences2)\n",
    "df_z_text2 = pd.concat([dataframe['nameID'], pd.DataFrame(z_text2)], axis=1)\n",
    "df_z_text2.to_pickle(\"z_textVinVL_64.pkl\")\n",
    "\n",
    "df_z_descriptions = pd.read_pickle('z_textVinVL_64.pkl')\n",
    "\n"
   ]
  }
 ],
 "metadata": {
  "kernelspec": {
   "display_name": "Python 3",
   "language": "python",
   "name": "python3"
  },
  "language_info": {
   "codemirror_mode": {
    "name": "ipython",
    "version": 3
   },
   "file_extension": ".py",
   "mimetype": "text/x-python",
   "name": "python",
   "nbconvert_exporter": "python",
   "pygments_lexer": "ipython3",
   "version": "3.6.12"
  }
 },
 "nbformat": 4,
 "nbformat_minor": 4
}
